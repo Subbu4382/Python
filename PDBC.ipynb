{
 "cells": [
  {
   "cell_type": "code",
   "execution_count": 47,
   "id": "4d51485c",
   "metadata": {},
   "outputs": [],
   "source": [
    "import mysql.connector\n",
    "from mysql.connector import Error\n",
    "def server_connection(host_name,user_name,user_password,db_name):\n",
    "    try:\n",
    "        connection=mysql.connector.connect(\n",
    "            host=host_name,\n",
    "            user=user_name,\n",
    "            password=user_password,\n",
    "            db=db_name\n",
    "        )\n",
    "        \n",
    "        print(\"mysql database connection successful\")\n",
    "        \n",
    "    except Error as err:\n",
    "        print(f\"Error :\",err)"
   ]
  },
  {
   "cell_type": "code",
   "execution_count": 48,
   "id": "406c3b26",
   "metadata": {},
   "outputs": [
    {
     "name": "stdout",
     "output_type": "stream",
     "text": [
      "mysql database connection successful\n"
     ]
    }
   ],
   "source": [
    "connection = server_connection(\"localhost\",\"root\",\"Subbu@2003\",\"practice\")"
   ]
  },
  {
   "cell_type": "code",
   "execution_count": 53,
   "id": "ebaf9a3f",
   "metadata": {},
   "outputs": [],
   "source": [
    "def execute_query(connection):\n",
    "    try:\n",
    "       cursor=connection.cursor()\n",
    "       cursor.execute(\"select * from emp\")\n",
    "       print(\"Query Successful\")\n",
    "       res=cursor.fetchall()\n",
    "       for i in res:\n",
    "        print(i)\n",
    "    except Error as e:\n",
    "       print(e)"
   ]
  },
  {
   "cell_type": "code",
   "execution_count": 55,
   "id": "9088f5b1",
   "metadata": {},
   "outputs": [
    {
     "ename": "AttributeError",
     "evalue": "'NoneType' object has no attribute 'cursor'",
     "output_type": "error",
     "traceback": [
      "\u001b[31m---------------------------------------------------------------------------\u001b[39m",
      "\u001b[31mAttributeError\u001b[39m                            Traceback (most recent call last)",
      "\u001b[36mCell\u001b[39m\u001b[36m \u001b[39m\u001b[32mIn[55]\u001b[39m\u001b[32m, line 1\u001b[39m\n\u001b[32m----> \u001b[39m\u001b[32m1\u001b[39m \u001b[43mexecute_query\u001b[49m\u001b[43m(\u001b[49m\u001b[43mconnection\u001b[49m\u001b[43m)\u001b[49m\n",
      "\u001b[36mCell\u001b[39m\u001b[36m \u001b[39m\u001b[32mIn[53]\u001b[39m\u001b[32m, line 3\u001b[39m, in \u001b[36mexecute_query\u001b[39m\u001b[34m(connection)\u001b[39m\n\u001b[32m      1\u001b[39m \u001b[38;5;28;01mdef\u001b[39;00m\u001b[38;5;250m \u001b[39m\u001b[34mexecute_query\u001b[39m(connection):\n\u001b[32m      2\u001b[39m     \u001b[38;5;28;01mtry\u001b[39;00m:\n\u001b[32m----> \u001b[39m\u001b[32m3\u001b[39m        cursor=\u001b[43mconnection\u001b[49m\u001b[43m.\u001b[49m\u001b[43mcursor\u001b[49m()\n\u001b[32m      4\u001b[39m        cursor.execute(\u001b[33m\"\u001b[39m\u001b[33mselect * from emp\u001b[39m\u001b[33m\"\u001b[39m)\n\u001b[32m      5\u001b[39m        \u001b[38;5;28mprint\u001b[39m(\u001b[33m\"\u001b[39m\u001b[33mQuery Successful\u001b[39m\u001b[33m\"\u001b[39m)\n",
      "\u001b[31mAttributeError\u001b[39m: 'NoneType' object has no attribute 'cursor'"
     ]
    }
   ],
   "source": [
    "execute_query(connection)"
   ]
  },
  {
   "cell_type": "code",
   "execution_count": null,
   "id": "3bfc981b",
   "metadata": {},
   "outputs": [],
   "source": []
  }
 ],
 "metadata": {
  "kernelspec": {
   "display_name": "Python 3",
   "language": "python",
   "name": "python3"
  },
  "language_info": {
   "codemirror_mode": {
    "name": "ipython",
    "version": 3
   },
   "file_extension": ".py",
   "mimetype": "text/x-python",
   "name": "python",
   "nbconvert_exporter": "python",
   "pygments_lexer": "ipython3",
   "version": "3.12.10"
  }
 },
 "nbformat": 4,
 "nbformat_minor": 5
}
