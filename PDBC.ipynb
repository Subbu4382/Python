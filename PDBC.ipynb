{
 "cells": [
  {
   "cell_type": "code",
   "execution_count": 64,
   "id": "4d51485c",
   "metadata": {},
   "outputs": [],
   "source": [
    "import mysql.connector\n",
    "from mysql.connector import Error\n",
    "def server_connection(host_name,user_name,user_password,db_name):\n",
    "    try:\n",
    "        connection=mysql.connector.connect(\n",
    "            host=host_name,\n",
    "            user=user_name,\n",
    "            password=user_password,\n",
    "            db=db_name\n",
    "        )\n",
    "        print(\"mysql database connection successful\")\n",
    "        print(f\"connected to {db_name} database\")\n",
    "    except Error as err:\n",
    "        print(f\"Error :\",err)\n",
    "    return connection"
   ]
  },
  {
   "cell_type": "code",
   "execution_count": 65,
   "id": "406c3b26",
   "metadata": {},
   "outputs": [
    {
     "name": "stdout",
     "output_type": "stream",
     "text": [
      "mysql database connection successful\n",
      "connected to practice database\n"
     ]
    }
   ],
   "source": [
    "connection = server_connection(\"localhost\",\"root\",\"Subbu@2003\",\"practice\")"
   ]
  },
  {
   "cell_type": "code",
   "execution_count": 66,
   "id": "ebaf9a3f",
   "metadata": {},
   "outputs": [],
   "source": [
    "def execute_query(connection,query):\n",
    "    try:\n",
    "       cursor=connection.cursor()\n",
    "       cursor.execute(query)\n",
    "       print(\"Query Successful\")\n",
    "       res=cursor.fetchall()\n",
    "       for i in res:\n",
    "        print(i)\n",
    "    except Error as e:\n",
    "       print(e)"
   ]
  },
  {
   "cell_type": "code",
   "execution_count": 70,
   "id": "9088f5b1",
   "metadata": {},
   "outputs": [
    {
     "name": "stdout",
     "output_type": "stream",
     "text": [
      "Query Successful\n",
      "('SMITH',)\n",
      "('JONES',)\n",
      "('SCOTT',)\n",
      "('SCOTT',)\n",
      "('ADAMS',)\n",
      "('FORD',)\n"
     ]
    }
   ],
   "source": [
    "execute_query(connection,\"\"\"SELECT ENAME FROM EMP WHERE DEPT_NO=20\"\"\")"
   ]
  },
  {
   "cell_type": "code",
   "execution_count": null,
   "id": "3bfc981b",
   "metadata": {},
   "outputs": [],
   "source": []
  }
 ],
 "metadata": {
  "kernelspec": {
   "display_name": "Python 3",
   "language": "python",
   "name": "python3"
  },
  "language_info": {
   "codemirror_mode": {
    "name": "ipython",
    "version": 3
   },
   "file_extension": ".py",
   "mimetype": "text/x-python",
   "name": "python",
   "nbconvert_exporter": "python",
   "pygments_lexer": "ipython3",
   "version": "3.12.10"
  }
 },
 "nbformat": 4,
 "nbformat_minor": 5
}
