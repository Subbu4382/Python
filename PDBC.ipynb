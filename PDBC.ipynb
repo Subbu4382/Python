{
 "cells": [
  {
   "cell_type": "code",
   "execution_count": 31,
   "id": "4d51485c",
   "metadata": {},
   "outputs": [],
   "source": [
    "import mysql.connector\n",
    "from mysql.connector import Error\n",
    "def server_connection(host_name,user_name,user_password,db_name):\n",
    "    try:\n",
    "        connection=mysql.connector.connect(\n",
    "            host=host_name,\n",
    "            user=user_name,\n",
    "            password=user_password,\n",
    "            db=db_name\n",
    "        )\n",
    "        cursor=connection.cursor()\n",
    "        cursor.execute(\"select * from emp\")\n",
    "        print(\"mysql database connection successful\")\n",
    "        res=cursor.fetchall()\n",
    "        for i in res:\n",
    "          print(i,)\n",
    "    except Error as err:\n",
    "        print(f\"Error :\",err)"
   ]
  },
  {
   "cell_type": "code",
   "execution_count": 32,
   "id": "406c3b26",
   "metadata": {},
   "outputs": [
    {
     "name": "stdout",
     "output_type": "stream",
     "text": [
      "mysql database connection successful\n",
      "(7369, 'SMITH', 'CLERK', 7902, datetime.date(1980, 12, 17), 1755, 100, 20)\n",
      "(7499, 'ALLEN', 'SALESMAN', 7698, datetime.date(1981, 2, 20), 1600, 300, 30)\n",
      "(7521, 'WARD', 'SALESMAN', 7698, datetime.date(1981, 2, 22), 1250, 500, 30)\n",
      "(7566, 'JONES', 'MANAGER', 7839, datetime.date(1981, 4, 2), 4014, None, 20)\n",
      "(7654, 'MARTIN', 'SALESMAN', 7698, datetime.date(1981, 9, 28), 1250, 1400, 30)\n",
      "(7698, 'BLAKE', 'MANAGER', 7839, datetime.date(1981, 5, 1), 2850, None, 30)\n",
      "(7782, 'SCOTT', 'ANALYST', 7566, datetime.date(1987, 4, 19), 4050, None, 20)\n",
      "(7788, 'SCOTT', 'ANALYST', 7566, datetime.date(1987, 4, 19), 4050, None, 20)\n",
      "(7839, 'KING', 'PRESIDENT', None, datetime.date(1981, 11, 17), 5000, None, 10)\n",
      "(7844, 'TURNER', 'SALESMAN', 7698, datetime.date(1981, 9, 8), 1500, None, 30)\n",
      "(7876, 'ADAMS', 'CLERK', 7788, datetime.date(1987, 5, 23), 1485, None, 20)\n",
      "(7900, 'JAMES', 'CLERK', 7698, datetime.date(1981, 12, 3), 950, None, 30)\n",
      "(7902, 'FORD', 'ANALYST', 7566, datetime.date(1981, 12, 3), 4050, None, 20)\n",
      "(7934, 'MILLER', 'CLERK', 7782, datetime.date(1982, 1, 23), 2000, None, 10)\n"
     ]
    }
   ],
   "source": [
    "connection = server_connection(\"localhost\",\"root\",\"Subbu@2003\",\"practice\")"
   ]
  },
  {
   "cell_type": "code",
   "execution_count": null,
   "id": "ebaf9a3f",
   "metadata": {},
   "outputs": [],
   "source": []
  },
  {
   "cell_type": "code",
   "execution_count": null,
   "id": "9088f5b1",
   "metadata": {},
   "outputs": [],
   "source": []
  }
 ],
 "metadata": {
  "kernelspec": {
   "display_name": "Python 3",
   "language": "python",
   "name": "python3"
  },
  "language_info": {
   "codemirror_mode": {
    "name": "ipython",
    "version": 3
   },
   "file_extension": ".py",
   "mimetype": "text/x-python",
   "name": "python",
   "nbconvert_exporter": "python",
   "pygments_lexer": "ipython3",
   "version": "3.12.10"
  }
 },
 "nbformat": 4,
 "nbformat_minor": 5
}
