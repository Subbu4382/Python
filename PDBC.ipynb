{
 "cells": [
  {
   "cell_type": "code",
   "execution_count": 84,
   "id": "4d51485c",
   "metadata": {},
   "outputs": [],
   "source": [
    "import mysql.connector\n",
    "from mysql.connector import Error\n",
    "def server_connection(host_name,user_name,user_password,db_name):\n",
    "    connection=None\n",
    "    try:\n",
    "        connection=mysql.connector.connect(\n",
    "            host=host_name,\n",
    "            user=user_name,\n",
    "            password=user_password,\n",
    "            db=db_name\n",
    "        )\n",
    "        print(\"mysql database connection successful\")\n",
    "        print(f\"connected to {db_name} database\")\n",
    "    except Error as err:\n",
    "        print(f\"Error :\",err)\n",
    "    return connection"
   ]
  },
  {
   "cell_type": "code",
   "execution_count": 85,
   "id": "406c3b26",
   "metadata": {},
   "outputs": [
    {
     "name": "stdout",
     "output_type": "stream",
     "text": [
      "mysql database connection successful\n",
      "connected to practice database\n"
     ]
    }
   ],
   "source": [
    "connection = server_connection(\"localhost\",\"root\",\"Subbu@2003\",\"practice\")"
   ]
  },
  {
   "cell_type": "code",
   "execution_count": 86,
   "id": "ebaf9a3f",
   "metadata": {},
   "outputs": [],
   "source": [
    "def execute_query(connection,query):\n",
    "   res=None\n",
    "   try:\n",
    "     cursor=connection.cursor()\n",
    "     if query.strip().upper().startswith(\"SELECT\"):\n",
    "      cursor.execute(query)\n",
    "      print(\"Query Successful\")\n",
    "      res=cursor.fetchall()\n",
    "      for i in res:\n",
    "        print(i)\n",
    "     else:\n",
    "       cursor.execute(query)\n",
    "       connection.commit()\n",
    "       print(\"Query Successful\")\n",
    "   except Error as e:\n",
    "      print(e)\n",
    "   finally:\n",
    "      if 'cursor' in locals() and cursor:\n",
    "        cursor.close()\n",
    "   return res\n",
    "   "
   ]
  },
  {
   "cell_type": "code",
   "execution_count": 87,
   "id": "3bfc981b",
   "metadata": {},
   "outputs": [
    {
     "name": "stdout",
     "output_type": "stream",
     "text": [
      "Query Successful\n",
      "(7839, 'KING', 5000, 1)\n",
      "(7782, 'SCOTT', 4050, 2)\n",
      "(7788, 'SCOTT', 4050, 2)\n",
      "(7902, 'FORD', 4050, 2)\n",
      "(7566, 'JONES', 4014, 5)\n",
      "(7698, 'BLAKE', 2850, 6)\n",
      "(7934, 'MILLER', 2000, 7)\n",
      "(7369, 'SMITH', 1755, 8)\n",
      "(7499, 'ALLEN', 1600, 9)\n",
      "(7844, 'TURNER', 1500, 10)\n",
      "(7876, 'ADAMS', 1485, 11)\n",
      "(7521, 'WARD', 1250, 12)\n",
      "(7654, 'MARTIN', 1250, 12)\n",
      "(7900, 'JAMES', 950, 14)\n"
     ]
    }
   ],
   "source": [
    "results=execute_query(connection,\"SELECT emp_no,ename,salary , RANK() OVER(ORDER BY SALARY DESC) AS RANK_EMP FROM EMP\")"
   ]
  },
  {
   "cell_type": "code",
   "execution_count": 88,
   "id": "3977eaf6",
   "metadata": {},
   "outputs": [
    {
     "name": "stdout",
     "output_type": "stream",
     "text": [
      "[(7839, 'KING', 5000, 1), (7782, 'SCOTT', 4050, 2), (7788, 'SCOTT', 4050, 2), (7902, 'FORD', 4050, 2), (7566, 'JONES', 4014, 5), (7698, 'BLAKE', 2850, 6), (7934, 'MILLER', 2000, 7), (7369, 'SMITH', 1755, 8), (7499, 'ALLEN', 1600, 9), (7844, 'TURNER', 1500, 10), (7876, 'ADAMS', 1485, 11), (7521, 'WARD', 1250, 12), (7654, 'MARTIN', 1250, 12), (7900, 'JAMES', 950, 14)]\n"
     ]
    }
   ],
   "source": [
    "print(results)"
   ]
  },
  {
   "cell_type": "code",
   "execution_count": 89,
   "id": "a907a84c",
   "metadata": {},
   "outputs": [
    {
     "data": {
      "text/html": [
       "<div>\n",
       "<style scoped>\n",
       "    .dataframe tbody tr th:only-of-type {\n",
       "        vertical-align: middle;\n",
       "    }\n",
       "\n",
       "    .dataframe tbody tr th {\n",
       "        vertical-align: top;\n",
       "    }\n",
       "\n",
       "    .dataframe thead th {\n",
       "        text-align: right;\n",
       "    }\n",
       "</style>\n",
       "<table border=\"1\" class=\"dataframe\">\n",
       "  <thead>\n",
       "    <tr style=\"text-align: right;\">\n",
       "      <th></th>\n",
       "      <th>employee_no</th>\n",
       "      <th>employee_name</th>\n",
       "      <th>employee_salary</th>\n",
       "      <th>employee_rank</th>\n",
       "    </tr>\n",
       "  </thead>\n",
       "  <tbody>\n",
       "    <tr>\n",
       "      <th>0</th>\n",
       "      <td>7839</td>\n",
       "      <td>KING</td>\n",
       "      <td>5000</td>\n",
       "      <td>1</td>\n",
       "    </tr>\n",
       "    <tr>\n",
       "      <th>1</th>\n",
       "      <td>7782</td>\n",
       "      <td>SCOTT</td>\n",
       "      <td>4050</td>\n",
       "      <td>2</td>\n",
       "    </tr>\n",
       "    <tr>\n",
       "      <th>2</th>\n",
       "      <td>7788</td>\n",
       "      <td>SCOTT</td>\n",
       "      <td>4050</td>\n",
       "      <td>2</td>\n",
       "    </tr>\n",
       "    <tr>\n",
       "      <th>3</th>\n",
       "      <td>7902</td>\n",
       "      <td>FORD</td>\n",
       "      <td>4050</td>\n",
       "      <td>2</td>\n",
       "    </tr>\n",
       "    <tr>\n",
       "      <th>4</th>\n",
       "      <td>7566</td>\n",
       "      <td>JONES</td>\n",
       "      <td>4014</td>\n",
       "      <td>5</td>\n",
       "    </tr>\n",
       "  </tbody>\n",
       "</table>\n",
       "</div>"
      ],
      "text/plain": [
       "   employee_no employee_name  employee_salary  employee_rank\n",
       "0         7839          KING             5000              1\n",
       "1         7782         SCOTT             4050              2\n",
       "2         7788         SCOTT             4050              2\n",
       "3         7902          FORD             4050              2\n",
       "4         7566         JONES             4014              5"
      ]
     },
     "execution_count": 89,
     "metadata": {},
     "output_type": "execute_result"
    }
   ],
   "source": [
    "import pandas as pd\n",
    "\n",
    "columns=[\"employee_no\",\"employee_name\",\"employee_salary\",\"employee_rank\"]\n",
    "df=pd.DataFrame(results,columns=columns)\n",
    "df.head()"
   ]
  },
  {
   "cell_type": "code",
   "execution_count": 90,
   "id": "e659d354",
   "metadata": {},
   "outputs": [
    {
     "name": "stdout",
     "output_type": "stream",
     "text": [
      "1062 (23000): Duplicate entry '70' for key 'dept.PRIMARY'\n"
     ]
    }
   ],
   "source": [
    "execute_query(connection,\"insert into dept values(70,'Analyst','chennai')\")\n"
   ]
  },
  {
   "cell_type": "code",
   "execution_count": 91,
   "id": "d09e98c7",
   "metadata": {},
   "outputs": [
    {
     "name": "stdout",
     "output_type": "stream",
     "text": [
      "Query Successful\n"
     ]
    }
   ],
   "source": [
    "execute_query(connection,\"delete from dept where dept_no in (50,60,70)\")"
   ]
  },
  {
   "cell_type": "code",
   "execution_count": 92,
   "id": "343641ff",
   "metadata": {},
   "outputs": [
    {
     "name": "stdout",
     "output_type": "stream",
     "text": [
      "Query Successful\n",
      "(10, 'ACOUNTION', 'HYDERABAD')\n",
      "(20, 'SALES', 'LANDON')\n",
      "(30, 'OPERATIONS', 'ANDHRA')\n",
      "(40, 'HR', 'MUMBAI')\n"
     ]
    }
   ],
   "source": [
    "dept_results=execute_query(connection,\"select * from dept\")"
   ]
  },
  {
   "cell_type": "code",
   "execution_count": 93,
   "id": "df917127",
   "metadata": {},
   "outputs": [
    {
     "data": {
      "text/html": [
       "<div>\n",
       "<style scoped>\n",
       "    .dataframe tbody tr th:only-of-type {\n",
       "        vertical-align: middle;\n",
       "    }\n",
       "\n",
       "    .dataframe tbody tr th {\n",
       "        vertical-align: top;\n",
       "    }\n",
       "\n",
       "    .dataframe thead th {\n",
       "        text-align: right;\n",
       "    }\n",
       "</style>\n",
       "<table border=\"1\" class=\"dataframe\">\n",
       "  <thead>\n",
       "    <tr style=\"text-align: right;\">\n",
       "      <th></th>\n",
       "      <th>dept_no</th>\n",
       "      <th>dept_name</th>\n",
       "      <th>location</th>\n",
       "    </tr>\n",
       "  </thead>\n",
       "  <tbody>\n",
       "    <tr>\n",
       "      <th>0</th>\n",
       "      <td>10</td>\n",
       "      <td>ACOUNTION</td>\n",
       "      <td>HYDERABAD</td>\n",
       "    </tr>\n",
       "    <tr>\n",
       "      <th>1</th>\n",
       "      <td>20</td>\n",
       "      <td>SALES</td>\n",
       "      <td>LANDON</td>\n",
       "    </tr>\n",
       "    <tr>\n",
       "      <th>2</th>\n",
       "      <td>30</td>\n",
       "      <td>OPERATIONS</td>\n",
       "      <td>ANDHRA</td>\n",
       "    </tr>\n",
       "    <tr>\n",
       "      <th>3</th>\n",
       "      <td>40</td>\n",
       "      <td>HR</td>\n",
       "      <td>MUMBAI</td>\n",
       "    </tr>\n",
       "  </tbody>\n",
       "</table>\n",
       "</div>"
      ],
      "text/plain": [
       "   dept_no   dept_name   location\n",
       "0       10   ACOUNTION  HYDERABAD\n",
       "1       20       SALES     LANDON\n",
       "2       30  OPERATIONS     ANDHRA\n",
       "3       40          HR     MUMBAI"
      ]
     },
     "execution_count": 93,
     "metadata": {},
     "output_type": "execute_result"
    }
   ],
   "source": [
    "\n",
    "columns=[\"dept_no\",\"dept_name\",\"location\"]\n",
    "df=pd.DataFrame(dept_results,columns=columns)\n",
    "df.head()"
   ]
  },
  {
   "cell_type": "code",
   "execution_count": null,
   "id": "1437bc2f",
   "metadata": {},
   "outputs": [],
   "source": []
  },
  {
   "cell_type": "code",
   "execution_count": null,
   "id": "b5950414",
   "metadata": {},
   "outputs": [],
   "source": []
  }
 ],
 "metadata": {
  "kernelspec": {
   "display_name": "Python 3",
   "language": "python",
   "name": "python3"
  },
  "language_info": {
   "codemirror_mode": {
    "name": "ipython",
    "version": 3
   },
   "file_extension": ".py",
   "mimetype": "text/x-python",
   "name": "python",
   "nbconvert_exporter": "python",
   "pygments_lexer": "ipython3",
   "version": "3.12.10"
  }
 },
 "nbformat": 4,
 "nbformat_minor": 5
}
