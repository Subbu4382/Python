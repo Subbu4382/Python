{
 "cells": [
  {
   "cell_type": "code",
   "execution_count": 22,
   "id": "4d51485c",
   "metadata": {},
   "outputs": [],
   "source": [
    "import mysql.connector\n",
    "from mysql.connector import Error\n",
    "def server_connection(host_name,user_name,user_password,db_name):\n",
    "    try:\n",
    "        connection=mysql.connector.connect(\n",
    "            host=host_name,\n",
    "            user=user_name,\n",
    "            password=user_password,\n",
    "            db=db_name\n",
    "        )\n",
    "    except Error as err:\n",
    "        print(f\"Error :\",err)"
   ]
  },
  {
   "cell_type": "code",
   "execution_count": 23,
   "id": "406c3b26",
   "metadata": {},
   "outputs": [],
   "source": [
    "connection = server_connection(\"localhost\",\"root\",\"Subbu@2003\",\"practice\")"
   ]
  },
  {
   "cell_type": "code",
   "execution_count": null,
   "id": "ebaf9a3f",
   "metadata": {},
   "outputs": [],
   "source": []
  }
 ],
 "metadata": {
  "kernelspec": {
   "display_name": "Python 3",
   "language": "python",
   "name": "python3"
  },
  "language_info": {
   "codemirror_mode": {
    "name": "ipython",
    "version": 3
   },
   "file_extension": ".py",
   "mimetype": "text/x-python",
   "name": "python",
   "nbconvert_exporter": "python",
   "pygments_lexer": "ipython3",
   "version": "3.12.10"
  }
 },
 "nbformat": 4,
 "nbformat_minor": 5
}
