{
 "cells": [
  {
   "cell_type": "code",
   "execution_count": 3,
   "id": "01ecdead",
   "metadata": {},
   "outputs": [],
   "source": [
    "import numpy as np"
   ]
  },
  {
   "cell_type": "code",
   "execution_count": 5,
   "id": "44052c86",
   "metadata": {},
   "outputs": [
    {
     "name": "stdout",
     "output_type": "stream",
     "text": [
      "2.3.1\n"
     ]
    }
   ],
   "source": [
    "print(np.__version__)"
   ]
  },
  {
   "cell_type": "markdown",
   "id": "831b583a",
   "metadata": {},
   "source": [
    "#asarray() with nditer()\n",
    "#\n",
    "#frombuffer()\n",
    "#\n",
    "#fromiter()"
   ]
  },
  {
   "cell_type": "code",
   "execution_count": 10,
   "id": "67374f74",
   "metadata": {},
   "outputs": [
    {
     "name": "stdout",
     "output_type": "stream",
     "text": [
      "10\n"
     ]
    }
   ],
   "source": [
    "a=np.array(10)\n",
    "print(a)"
   ]
  },
  {
   "cell_type": "code",
   "execution_count": 23,
   "id": "b6758104",
   "metadata": {},
   "outputs": [
    {
     "name": "stdout",
     "output_type": "stream",
     "text": [
      "[10 20 30]\n",
      "10\n",
      "20\n",
      "30\n"
     ]
    }
   ],
   "source": [
    "\n",
    "a=np.array([10,20,30], dtype=int, order=\"c\")\n",
    "print(a)\n",
    "for i in np.nditer(a):\n",
    "    print(i)"
   ]
  },
  {
   "cell_type": "code",
   "execution_count": 26,
   "id": "791d5ad2",
   "metadata": {},
   "outputs": [
    {
     "name": "stdout",
     "output_type": "stream",
     "text": [
      "10\n",
      "40\n",
      "20\n",
      "50\n",
      "[[10 20]\n",
      " [40 50]]\n"
     ]
    }
   ],
   "source": [
    "#Two dimension array\n",
    "a=np.array([[10,20],[40,50]],order=\"f\")  # Order \" F \" will give colounm wise order of an array \n",
    "for i in np.nditer(a):                           #\" C \" will give row wise order of an array\n",
    "    print(i)\n",
    "print(a)"
   ]
  },
  {
   "cell_type": "code",
   "execution_count": 13,
   "id": "983deec2",
   "metadata": {},
   "outputs": [
    {
     "name": "stdout",
     "output_type": "stream",
     "text": [
      "[[[10 20]\n",
      "  [30 40]]\n",
      "\n",
      " [[50 60]\n",
      "  [70 80]]]\n"
     ]
    }
   ],
   "source": [
    "# 3D array\n",
    "a=np.array([[[10,20],[30,40]],[[50,60],[70,80]]])\n",
    "print(a)"
   ]
  },
  {
   "cell_type": "code",
   "execution_count": 15,
   "id": "c7d77927",
   "metadata": {},
   "outputs": [
    {
     "name": "stdout",
     "output_type": "stream",
     "text": [
      "10\n"
     ]
    }
   ],
   "source": [
    "print(a[0][0][0])"
   ]
  },
  {
   "cell_type": "code",
   "execution_count": 36,
   "id": "f7a6aa52",
   "metadata": {},
   "outputs": [
    {
     "name": "stdout",
     "output_type": "stream",
     "text": [
      "[b'yt' b'ho' b'n ' b'de' b've']\n"
     ]
    }
   ],
   "source": [
    "x=b\"python developer\"\n",
    "b=np.frombuffer(x,dtype=\"S2\", count=5,offset=1)\n",
    "print(b)"
   ]
  },
  {
   "cell_type": "code",
   "execution_count": 39,
   "id": "54e4e53b",
   "metadata": {},
   "outputs": [
    {
     "name": "stdout",
     "output_type": "stream",
     "text": [
      "[1 2 3]\n"
     ]
    }
   ],
   "source": [
    "a=np.fromiter([1,2,3,4],dtype=int,count=3) # fromiter() is used to get the elements that we need using count\n",
    "print(a)"
   ]
  },
  {
   "cell_type": "markdown",
   "id": "88ae80ec",
   "metadata": {},
   "source": [
    "#zeros()\n",
    "#\n",
    "full()\n",
    "#\n",
    "random.rand()\n",
    "#\n",
    "ones()\n",
    "#\n",
    "eye()\n"
   ]
  },
  {
   "cell_type": "code",
   "execution_count": null,
   "id": "bac00778",
   "metadata": {},
   "outputs": [
    {
     "name": "stdout",
     "output_type": "stream",
     "text": [
      "[[[0 0 0]\n",
      "  [0 0 0]\n",
      "  [0 0 0]]\n",
      "\n",
      " [[0 0 0]\n",
      "  [0 0 0]\n",
      "  [0 0 0]]]\n",
      "3\n",
      "0\n"
     ]
    }
   ],
   "source": [
    "# inisializing\n",
    "a=np.zeros([2,3,3],dtype=int)\n",
    "print(a)\n",
    "print(a.ndim) #  gives which dimension of array it is\n",
    "print(a[0,1,1]) # indexing"
   ]
  },
  {
   "cell_type": "code",
   "execution_count": null,
   "id": "17c3c9e5",
   "metadata": {},
   "outputs": [
    {
     "name": "stdout",
     "output_type": "stream",
     "text": [
      "[[[8 8 8 8]\n",
      "  [8 8 8 8]\n",
      "  [8 8 8 8]]\n",
      "\n",
      " [[8 8 8 8]\n",
      "  [8 8 8 8]\n",
      "  [8 8 8 8]]]\n"
     ]
    }
   ],
   "source": [
    "# full\n",
    "a=np.full([2,3,4],8)# it will take dimensions and value \n",
    "print(a)"
   ]
  },
  {
   "cell_type": "code",
   "execution_count": null,
   "id": "0679f31f",
   "metadata": {},
   "outputs": [
    {
     "name": "stdout",
     "output_type": "stream",
     "text": [
      "[[0.48050898 0.97843753 0.12650395]\n",
      " [0.10311115 0.40709635 0.98715081]]\n"
     ]
    }
   ],
   "source": [
    "# Random.rand\n",
    "print(np.random.rand(2,3)) # gives random values in 0 to 1 in given dimensions "
   ]
  },
  {
   "cell_type": "code",
   "execution_count": 111,
   "id": "b2d36e7d",
   "metadata": {},
   "outputs": [
    {
     "name": "stdout",
     "output_type": "stream",
     "text": [
      "[[1. 1. 1.]\n",
      " [1. 1. 1.]]\n"
     ]
    }
   ],
   "source": [
    "print(np.ones([2,3]))"
   ]
  },
  {
   "cell_type": "code",
   "execution_count": null,
   "id": "736de5a2",
   "metadata": {},
   "outputs": [
    {
     "name": "stdout",
     "output_type": "stream",
     "text": [
      "[[1. 0. 0.]\n",
      " [0. 1. 0.]\n",
      " [0. 0. 1.]]\n"
     ]
    }
   ],
   "source": [
    "print(np.eye(3)) # generate 1 for all diagnol elements "
   ]
  },
  {
   "cell_type": "code",
   "execution_count": 116,
   "id": "0ceaffed",
   "metadata": {},
   "outputs": [
    {
     "name": "stdout",
     "output_type": "stream",
     "text": [
      "[1 3 5 7]\n"
     ]
    }
   ],
   "source": [
    "print(np.arange(1,9,2))"
   ]
  },
  {
   "cell_type": "code",
   "execution_count": null,
   "id": "c4fe68ca",
   "metadata": {},
   "outputs": [
    {
     "name": "stdout",
     "output_type": "stream",
     "text": [
      "[[1 2]\n",
      " [3 4]\n",
      " [5 6]\n",
      " [7 8]]\n"
     ]
    }
   ],
   "source": [
    "a=np.array([1,2,3,4,5,6,7,8]) # to reshape it into 2d array\n",
    "print(a.reshape(4,2))"
   ]
  },
  {
   "cell_type": "code",
   "execution_count": 128,
   "id": "03d31e91",
   "metadata": {},
   "outputs": [
    {
     "name": "stdout",
     "output_type": "stream",
     "text": [
      "[1 2 3 4 5 6 7 8]\n",
      "8\n",
      "(8,)\n",
      "int64\n"
     ]
    }
   ],
   "source": [
    "print(a)\n",
    "print(a.size)\n",
    "print(a.shape)\n",
    "print(a.dtype)"
   ]
  },
  {
   "cell_type": "code",
   "execution_count": 131,
   "id": "def62c33",
   "metadata": {},
   "outputs": [
    {
     "name": "stdout",
     "output_type": "stream",
     "text": [
      "6\n",
      "(2, 3)\n",
      "int64\n"
     ]
    }
   ],
   "source": [
    "a=np.array([[1,2,3],[5,6,7]])\n",
    "print(a.size)\n",
    "print(a.shape)\n",
    "print(a.dtype)"
   ]
  },
  {
   "cell_type": "code",
   "execution_count": null,
   "id": "8e4a6e0f",
   "metadata": {},
   "outputs": [],
   "source": []
  }
 ],
 "metadata": {
  "kernelspec": {
   "display_name": "Python 3",
   "language": "python",
   "name": "python3"
  },
  "language_info": {
   "codemirror_mode": {
    "name": "ipython",
    "version": 3
   },
   "file_extension": ".py",
   "mimetype": "text/x-python",
   "name": "python",
   "nbconvert_exporter": "python",
   "pygments_lexer": "ipython3",
   "version": "3.12.10"
  }
 },
 "nbformat": 4,
 "nbformat_minor": 5
}
