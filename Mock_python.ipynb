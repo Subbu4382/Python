{
 "cells": [
  {
   "cell_type": "code",
   "execution_count": null,
   "id": "3f35edf7",
   "metadata": {},
   "outputs": [
    {
     "name": "stdout",
     "output_type": "stream",
     "text": [
      "0 is not a prime\n",
      "Code Executed\n"
     ]
    }
   ],
   "source": [
    "\n",
    "try:\n",
    "  n=int(input())\n",
    "  if n>1:\n",
    "    prime=True\n",
    "    for i in range(2,n):\n",
    "      if n%i==0:\n",
    "        prime=False \n",
    "  else:\n",
    "    prime=False\n",
    "except Exception as e:\n",
    "  print(e)\n",
    "else:\n",
    "  if prime==True:\n",
    "    print(f\"{n} is a prime\")\n",
    "  else:\n",
    "    print(f\"{n} is not a prime\")\n",
    "finally:\n",
    "  print(\"Code Executed\")\n",
    "\n",
    "\n",
    "\n",
    "\n",
    "  "
   ]
  },
  {
   "cell_type": "code",
   "execution_count": 44,
   "id": "3e6e71dc",
   "metadata": {},
   "outputs": [
    {
     "name": "stdout",
     "output_type": "stream",
     "text": [
      "[1, 2, 4]\n"
     ]
    }
   ],
   "source": [
    "# i/p:-[9,9,9]\n",
    "#   o/p:-[1,0,0,0]\n",
    "\n",
    "l=[1,2,3]\n",
    "res=[]\n",
    "sum=0\n",
    "for i in l:\n",
    "    sum=sum*10+i\n",
    "sum=sum+1\n",
    "for i in str(sum):\n",
    "    res.append(int(i))\n",
    "print(res)"
   ]
  },
  {
   "cell_type": "code",
   "execution_count": null,
   "id": "0e493cde",
   "metadata": {},
   "outputs": [],
   "source": []
  },
  {
   "cell_type": "code",
   "execution_count": null,
   "id": "40504698",
   "metadata": {},
   "outputs": [],
   "source": []
  }
 ],
 "metadata": {
  "kernelspec": {
   "display_name": "Python 3",
   "language": "python",
   "name": "python3"
  },
  "language_info": {
   "codemirror_mode": {
    "name": "ipython",
    "version": 3
   },
   "file_extension": ".py",
   "mimetype": "text/x-python",
   "name": "python",
   "nbconvert_exporter": "python",
   "pygments_lexer": "ipython3",
   "version": "3.12.10"
  }
 },
 "nbformat": 4,
 "nbformat_minor": 5
}
