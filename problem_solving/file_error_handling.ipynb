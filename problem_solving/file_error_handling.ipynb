{
 "cells": [
  {
   "cell_type": "code",
   "execution_count": 10,
   "id": "24e50df7",
   "metadata": {},
   "outputs": [
    {
     "name": "stdout",
     "output_type": "stream",
     "text": [
      "121\n"
     ]
    }
   ],
   "source": [
    "# Read a file and count word occurrences.\n",
    "with open(\"../sample.txt\") as f:\n",
    "   count=0\n",
    "   for i in f:\n",
    "      words=i.split()\n",
    "      \n",
    "      for word in words:\n",
    "        count+=1\n",
    "print(count)"
   ]
  },
  {
   "cell_type": "code",
   "execution_count": 15,
   "id": "53be2636",
   "metadata": {},
   "outputs": [],
   "source": [
    "# Merge the contents of multiple text files.\n",
    "files=[\"../sample.txt\",\"../sample2.txt\"]\n",
    "with open(\"../merged.txt\",\"w\") as add:\n",
    "    for file in files:\n",
    "        with open(file,\"r\") as f:\n",
    "            add.write(f.read()+ \"\\n\")"
   ]
  },
  {
   "cell_type": "code",
   "execution_count": 18,
   "id": "45553c46",
   "metadata": {},
   "outputs": [],
   "source": [
    "# Remove empty lines from a file.\n",
    "with open(\"../sample.txt\",\"r\") as f:\n",
    "    lines=f.readlines()\n",
    "with open(\"../sample2.txt\",\"w\") as f:\n",
    "    for line in lines:\n",
    "        if line.strip():\n",
    "            f.write(line)"
   ]
  },
  {
   "cell_type": "code",
   "execution_count": 20,
   "id": "c2ea7611",
   "metadata": {},
   "outputs": [
    {
     "name": "stdout",
     "output_type": "stream",
     "text": [
      "9\n"
     ]
    }
   ],
   "source": [
    "# Count how many lines contain a specific word\n",
    "with open(\"../sample.txt\") as f:\n",
    "    word=\"python\"\n",
    "    count=0\n",
    "    lines=f.readlines()\n",
    "    for line in lines:\n",
    "        if word in line:\n",
    "            count+=1\n",
    "print(count)"
   ]
  },
  {
   "cell_type": "code",
   "execution_count": 10,
   "id": "c7c898eb",
   "metadata": {},
   "outputs": [
    {
     "name": "stdout",
     "output_type": "stream",
     "text": [
      "[[0, 0, 0], [0, 0, 0], [0, 0, 0]]\n",
      "Transpose: [[1, 4, 7], [2, 5, 8], [3, 6, 9]]\n",
      "[[1, 4, 7], [2, 5, 8], [3, 6, 9]]\n"
     ]
    }
   ],
   "source": [
    "# Transpose of a matrix\n",
    "matrix = [[1, 2, 3],\n",
    "          [4, 5, 6],\n",
    "          [7, 8, 9]]\n",
    "\n",
    "rows = len(matrix)\n",
    "cols = len(matrix[0])\n",
    "\n",
    "transpose = [[0]*rows for _ in range(cols)]  # Empty matrix with swapped dimensions\n",
    "print(transpose)\n",
    "for i in range(rows):\n",
    "    for j in range(cols):\n",
    "        transpose[j][i] = matrix[i][j]\n",
    "print(\"Transpose:\", transpose)\n",
    "          \n",
    "        #    or\n",
    "\n",
    "for i in range(len(matrix)):\n",
    "    for j in range(i, len(matrix)):\n",
    "        matrix[i][j], matrix[j][i] = matrix[j][i], matrix[i][j]\n",
    "print(matrix)\n"
   ]
  },
  {
   "cell_type": "code",
   "execution_count": null,
   "id": "22f11018",
   "metadata": {},
   "outputs": [
    {
     "name": "stdout",
     "output_type": "stream",
     "text": [
      "Rotated 90°: [[7, 4, 1], [8, 5, 2], [9, 6, 3]]\n"
     ]
    }
   ],
   "source": [
    "# Rotate a matrix 90 degrees\n",
    "matrix = [[1, 2, 3],\n",
    "          [4, 5, 6],\n",
    "          [7, 8, 9]]\n",
    "\n",
    "# Step 1: Transpose\n",
    "for i in range(len(matrix)):\n",
    "    for j in range(i, len(matrix)):\n",
    "        matrix[i][j], matrix[j][i] = matrix[j][i], matrix[i][j]\n",
    "\n",
    "# Step 2: Reverse each row\n",
    "for row in matrix:\n",
    "    row.reverse()\n",
    "\n",
    "print(\"Rotated 90°:\", matrix)\n"
   ]
  },
  {
   "cell_type": "code",
   "execution_count": null,
   "id": "b76ab22d",
   "metadata": {},
   "outputs": [],
   "source": []
  },
  {
   "cell_type": "code",
   "execution_count": null,
   "id": "919e0f41",
   "metadata": {},
   "outputs": [],
   "source": []
  }
 ],
 "metadata": {
  "kernelspec": {
   "display_name": "Python 3",
   "language": "python",
   "name": "python3"
  },
  "language_info": {
   "codemirror_mode": {
    "name": "ipython",
    "version": 3
   },
   "file_extension": ".py",
   "mimetype": "text/x-python",
   "name": "python",
   "nbconvert_exporter": "python",
   "pygments_lexer": "ipython3",
   "version": "3.12.10"
  }
 },
 "nbformat": 4,
 "nbformat_minor": 5
}
