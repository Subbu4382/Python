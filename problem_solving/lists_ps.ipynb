{
 "cells": [
  {
   "cell_type": "code",
   "execution_count": 16,
   "id": "761b1f5a",
   "metadata": {},
   "outputs": [
    {
     "name": "stdout",
     "output_type": "stream",
     "text": [
      "second largest value is : 9\n",
      "second higest : 9\n"
     ]
    }
   ],
   "source": [
    "# Find the second largest number in a list.\n",
    "l=[2,5,3,7,9,3,1,54,5,6,7,8]\n",
    "for i in range(len(l)):\n",
    "    for j in range(len(l)-i-1):\n",
    "        if l[j]>l[j+1]:\n",
    "            l[j],l[j+1]=l[j+1],l[j]\n",
    "print(\"second largest value is :\",l[-2])\n",
    "    \n",
    "        #   or\n",
    "\n",
    "first=l[0]\n",
    "second=l[0]\n",
    "for i in l:\n",
    "    if i > first:\n",
    "        second=first\n",
    "        first=i\n",
    "    elif first >i>second:\n",
    "        second=i\n",
    "print(\"second higest :\",second)\n"
   ]
  },
  {
   "cell_type": "code",
   "execution_count": 17,
   "id": "70d759af",
   "metadata": {},
   "outputs": [
    {
     "name": "stdout",
     "output_type": "stream",
     "text": [
      "[2, 5, 3, 7, 9, 1, 54, 6, 8]\n"
     ]
    }
   ],
   "source": [
    "# Remove all duplicates from a list.\n",
    "l=[2,5,3,7,9,3,1,54,5,6,7,8]\n",
    "res=[]\n",
    "for i in l:\n",
    "    if i not in res:\n",
    "        res.append(i)\n",
    "print(res)"
   ]
  },
  {
   "cell_type": "code",
   "execution_count": 30,
   "id": "2cecddc8",
   "metadata": {},
   "outputs": [
    {
     "name": "stdout",
     "output_type": "stream",
     "text": [
      "[3, 7, 9, 1, 54, 6, 8, 2, 5]\n",
      "[3, 7, 9, 1, 54, 6, 8, 2, 5]\n"
     ]
    }
   ],
   "source": [
    "# Rotate a list to the left by k steps.\n",
    "l=[2, 5, 3, 7, 9, 1, 54, 6, 8]\n",
    "k=2\n",
    "res=[]\n",
    "for i in range(k,len(l)):\n",
    "    res.append(l[i])\n",
    "for j in range(0,k):\n",
    "    res.append(l[j])\n",
    "print(res)\n",
    "       #or\n",
    "print(l[k:]+l[:k])"
   ]
  },
  {
   "cell_type": "code",
   "execution_count": 29,
   "id": "f095ad3f",
   "metadata": {},
   "outputs": [
    {
     "name": "stdout",
     "output_type": "stream",
     "text": [
      "[6, 8, 2, 5, 3, 7, 9, 1, 54]\n",
      "[6, 8, 2, 5, 3, 7, 9, 1, 54]\n"
     ]
    }
   ],
   "source": [
    "# Rotate a list to the left by k steps.\n",
    "l = [2, 5, 3, 7, 9, 1, 54, 6, 8]\n",
    "k = 2\n",
    "res = []\n",
    "for i in range(len(l)-k, len(l)):\n",
    "    res.append(l[i])\n",
    "for i in range(len(l)-k):\n",
    "    res.append(l[i])\n",
    "print(res)\n",
    "\n",
    "         #or\n",
    "print(l[-k:]+l[:-k])\n"
   ]
  },
  {
   "cell_type": "code",
   "execution_count": 34,
   "id": "20c45a66",
   "metadata": {},
   "outputs": [
    {
     "name": "stdout",
     "output_type": "stream",
     "text": [
      "[1, 2, 3, 4, 5, 6, 7, 8]\n"
     ]
    }
   ],
   "source": [
    "# Merge two sorted lists into a single sorted list.\n",
    "list1 = [1, 3, 5, 7]\n",
    "list2 = [2, 4, 6, 8]\n",
    "out=list1+list2\n",
    "for i in range(len(out)):\n",
    "    for j in range(len(out)-i-1):\n",
    "        if out[j]>out[j+1]:\n",
    "            out[j],out[j+1]=out[j+1],out[j]\n",
    "print(out)"
   ]
  },
  {
   "cell_type": "code",
   "execution_count": 41,
   "id": "60f9b9c6",
   "metadata": {},
   "outputs": [
    {
     "name": "stdout",
     "output_type": "stream",
     "text": [
      "common elements are :  [4, 7]\n"
     ]
    }
   ],
   "source": [
    "# Find the common elements between two lists.\n",
    "list1 = [1, 4, 5, 7]\n",
    "list2 = [2, 4, 6, 7]\n",
    "common=[]\n",
    "for i in list1:\n",
    "    if i in list2:\n",
    "        common.append(i)\n",
    "print(\"common elements are : \",common)"
   ]
  },
  {
   "cell_type": "code",
   "execution_count": 43,
   "id": "fec26362",
   "metadata": {},
   "outputs": [
    {
     "name": "stdout",
     "output_type": "stream",
     "text": [
      "[1, 2, 3, 4, 5, 6, 7]\n"
     ]
    }
   ],
   "source": [
    "# Flatten a nested list.\n",
    "l=[1, [2, 3], [4, [5, 6]], 7]\n",
    "stack=l[::-1]\n",
    "res=[]\n",
    "while stack:\n",
    "    current=stack.pop()\n",
    "    if isinstance(current,list):\n",
    "        stack.extend(current[::-1])\n",
    "    else:\n",
    "        res.append(current)\n",
    "print(res)\n"
   ]
  },
  {
   "cell_type": "code",
   "execution_count": 48,
   "id": "59125db3",
   "metadata": {},
   "outputs": [
    {
     "name": "stdout",
     "output_type": "stream",
     "text": [
      "[1, 2, 3, 5, 6, 7, 8, 9, 54]\n"
     ]
    }
   ],
   "source": [
    "# Sort a list without using the sort() method.\n",
    "l = [2, 5, 3, 7, 9, 1, 54, 6, 8]\n",
    "for i in range(len(l)):\n",
    "    for j in range(len(l)-i-1):\n",
    "        if l[j]>l[j+1]:\n",
    "            l[j],l[j+1]=l[j+1],l[j]\n",
    "print(l)\n"
   ]
  },
  {
   "cell_type": "markdown",
   "id": "6a06945f",
   "metadata": {},
   "source": [
    "# Distionaries"
   ]
  },
  {
   "cell_type": "code",
   "execution_count": 58,
   "id": "a97e180a",
   "metadata": {},
   "outputs": [
    {
     "name": "stdout",
     "output_type": "stream",
     "text": [
      "{'python': 2, 'is': 4, 'easy': 1, 'and': 1, 'powerful': 1}\n",
      "{'python': 2, 'is': 4}\n"
     ]
    }
   ],
   "source": [
    "# Count word frequency in a sentence using a dictionary\n",
    "sentence = \"python is is easy is and python is powerful\"\n",
    "words=sentence.split()\n",
    "freq={}\n",
    "for word in words:\n",
    "    if word in freq:\n",
    "        freq[word]+=1\n",
    "    else:\n",
    "        freq[word]=1\n",
    "print(freq)\n",
    "# if we need count > 1\n",
    "res={}\n",
    "for i,j in freq.items():\n",
    "    if j>1:\n",
    "        res[i]=j\n",
    "print(res)"
   ]
  },
  {
   "cell_type": "code",
   "execution_count": 61,
   "id": "26e7e115",
   "metadata": {},
   "outputs": [
    {
     "name": "stdout",
     "output_type": "stream",
     "text": [
      "d : 15\n"
     ]
    }
   ],
   "source": [
    "# Find the key with the maximum value in a dictionary\n",
    "dic = {'a': 5, 'b': 9, 'c': 2, 'd': 15}\n",
    "key=None\n",
    "max_v=0\n",
    "for i in dic:\n",
    "    if dic[i]>max_v:\n",
    "        max_v=dic[i]\n",
    "        key=i\n",
    "print(key , \":\",max_v)"
   ]
  },
  {
   "cell_type": "code",
   "execution_count": 63,
   "id": "e0762dbc",
   "metadata": {},
   "outputs": [
    {
     "name": "stdout",
     "output_type": "stream",
     "text": [
      "{'a': 1, 'b': 3, 'c': 4}\n"
     ]
    }
   ],
   "source": [
    "# Merge two dictionaries into one\n",
    "dict1 = {'a': 1, 'b': 2}\n",
    "dict2 = {'b': 3, 'c': 4}\n",
    "for i in dict2:\n",
    "    dict1[i]=dict2[i]\n",
    "print(dict1)"
   ]
  },
  {
   "cell_type": "code",
   "execution_count": 10,
   "id": "aaad4c54",
   "metadata": {},
   "outputs": [
    {
     "name": "stdout",
     "output_type": "stream",
     "text": [
      "{'b': 2, 'd': 3}\n",
      "{'a': 1, 'b': 2, 'd': 3}\n"
     ]
    }
   ],
   "source": [
    "# Remove duplicate values from a dictionary\n",
    "d1={'a': 1, 'b': 2, 'c': 1, 'd': 3}\n",
    "val={}\n",
    "for i in d1.values():\n",
    "    if i in val:\n",
    "        val[i]+=1\n",
    "    else:\n",
    "        val[i]=1\n",
    "res={}\n",
    "for key , values in d1.items():\n",
    "    if val[values]==1:\n",
    "        res[key]=values\n",
    "print(res)\\\n",
    "\n",
    "        #   or\n",
    "\n",
    "a=set()\n",
    "res1={}\n",
    "for i,j in d1.items():\n",
    "    if j not in a:\n",
    "        a.add(j)\n",
    "        res1[i]=j\n",
    "print(res1)\n",
    "\n",
    "#{'b': 2, 'd': 3}  # 'a' or 'c' removed because both had 1"
   ]
  },
  {
   "cell_type": "code",
   "execution_count": 15,
   "id": "54cb9ee3",
   "metadata": {},
   "outputs": [
    {
     "name": "stdout",
     "output_type": "stream",
     "text": [
      "True\n",
      "Equal\n"
     ]
    }
   ],
   "source": [
    "# Check if two dictionaries are equal\n",
    "d1 = {'a': 1, 'b': 2}\n",
    "d2 = {'b': 2, 'a': 1}\n",
    "print(d1==d2)\n",
    "equal=True\n",
    "for i in d1:\n",
    "    if i not in d2 or d1[i]!=d2[i]:\n",
    "        equal=False\n",
    "if equal:\n",
    "    print(\"Equal\")\n",
    "    \n",
    "# True"
   ]
  },
  {
   "cell_type": "code",
   "execution_count": 19,
   "id": "b555d10d",
   "metadata": {},
   "outputs": [
    {
     "name": "stdout",
     "output_type": "stream",
     "text": [
      "{1: 2, 2: 2, 3: 3}\n"
     ]
    }
   ],
   "source": [
    "# Group elements by frequency using dictionary\n",
    "data = [1, 2, 2,1, 3, 3, 3]\n",
    "res={}\n",
    "for i in data:\n",
    "    if i in res:\n",
    "        res[i]+=1\n",
    "    else:\n",
    "        res[i]=1\n",
    "print(res)\n",
    "\n",
    "#{1: 1, 2: 2, 3: 3}\n"
   ]
  },
  {
   "cell_type": "markdown",
   "id": "67d4fd5e",
   "metadata": {},
   "source": [
    "# Functions"
   ]
  },
  {
   "cell_type": "code",
   "execution_count": 20,
   "id": "06a253c9",
   "metadata": {},
   "outputs": [
    {
     "data": {
      "text/plain": [
       "'c is greater'"
      ]
     },
     "execution_count": 20,
     "metadata": {},
     "output_type": "execute_result"
    }
   ],
   "source": [
    "# Write a function to find the greatest of 3 numbers.\n",
    "def greatest(a,b,c):\n",
    "    if a>b and a>c:\n",
    "        return \"a is greater\"\n",
    "    elif b>a and b>c:\n",
    "        return \"b is greater\"\n",
    "    else:\n",
    "        return \"c is greater\"\n",
    "greatest(5,7,9)"
   ]
  },
  {
   "cell_type": "code",
   "execution_count": null,
   "id": "29b8cb77",
   "metadata": {},
   "outputs": [],
   "source": []
  }
 ],
 "metadata": {
  "kernelspec": {
   "display_name": "Python 3",
   "language": "python",
   "name": "python3"
  },
  "language_info": {
   "codemirror_mode": {
    "name": "ipython",
    "version": 3
   },
   "file_extension": ".py",
   "mimetype": "text/x-python",
   "name": "python",
   "nbconvert_exporter": "python",
   "pygments_lexer": "ipython3",
   "version": "3.12.10"
  }
 },
 "nbformat": 4,
 "nbformat_minor": 5
}
