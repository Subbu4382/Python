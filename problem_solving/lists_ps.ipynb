{
 "cells": [
  {
   "cell_type": "code",
   "execution_count": null,
   "id": "761b1f5a",
   "metadata": {},
   "outputs": [
    {
     "name": "stdout",
     "output_type": "stream",
     "text": [
      "second largest value is : 9\n",
      "second higest : 9\n"
     ]
    }
   ],
   "source": [
    "# Find the second largest number in a list.\n",
    "l=[2,5,3,7,9,3,1,54,5,6,7,8]\n",
    "for i in range(len(l)):\n",
    "    for j in range(len(l)-i-1):\n",
    "        if l[j]>l[j+1]:\n",
    "            l[j],l[j+1]=l[j+1],l[j]\n",
    "print(\"second largest value is :\",l[-2])\n",
    "    \n",
    "        #   or\n",
    "\n",
    "first=l[0]\n",
    "second=l[0]\n",
    "for i in l:\n",
    "    if i > first:\n",
    "        second=first\n",
    "        first=i\n",
    "    elif first >i>second:\n",
    "        second=i\n",
    "print(\"second higest :\",second)\n"
   ]
  },
  {
   "cell_type": "code",
   "execution_count": null,
   "id": "70d759af",
   "metadata": {},
   "outputs": [
    {
     "name": "stdout",
     "output_type": "stream",
     "text": [
      "[2, 5, 3, 7, 9, 1, 54, 6, 8]\n"
     ]
    }
   ],
   "source": [
    "# Remove all duplicates from a list.\n",
    "l=[2,5,3,7,9,3,1,54,5,6,7,8]\n",
    "res=[]\n",
    "for i in l:\n",
    "    if i not in res:\n",
    "        res.append(i)\n",
    "print(res)"
   ]
  },
  {
   "cell_type": "code",
   "execution_count": null,
   "id": "2cecddc8",
   "metadata": {},
   "outputs": [
    {
     "name": "stdout",
     "output_type": "stream",
     "text": [
      "[3, 7, 9, 1, 54, 6, 8, 2, 5]\n",
      "[3, 7, 9, 1, 54, 6, 8, 2, 5]\n"
     ]
    }
   ],
   "source": [
    "# Rotate a list to the left by k steps.\n",
    "l=[2, 5, 3, 7, 9, 1, 54, 6, 8]\n",
    "k=2\n",
    "res=[]\n",
    "for i in range(k,len(l)):\n",
    "    res.append(l[i])\n",
    "for j in range(0,k):\n",
    "    res.append(l[j])\n",
    "print(res)\n",
    "       #or\n",
    "print(l[k:]+l[:k])"
   ]
  },
  {
   "cell_type": "code",
   "execution_count": null,
   "id": "f095ad3f",
   "metadata": {},
   "outputs": [
    {
     "name": "stdout",
     "output_type": "stream",
     "text": [
      "[6, 8, 2, 5, 3, 7, 9, 1, 54]\n",
      "[6, 8, 2, 5, 3, 7, 9, 1, 54]\n"
     ]
    }
   ],
   "source": [
    "# Rotate a list to the left by k steps.\n",
    "l = [2, 5, 3, 7, 9, 1, 54, 6, 8]\n",
    "k = 2\n",
    "res = []\n",
    "for i in range(len(l)-k, len(l)):\n",
    "    res.append(l[i])\n",
    "for i in range(len(l)-k):\n",
    "    res.append(l[i])\n",
    "print(res)\n",
    "\n",
    "         #or\n",
    "print(l[-k:]+l[:-k])\n"
   ]
  },
  {
   "cell_type": "code",
   "execution_count": null,
   "id": "20c45a66",
   "metadata": {},
   "outputs": [
    {
     "name": "stdout",
     "output_type": "stream",
     "text": [
      "[1, 2, 3, 4, 5, 6, 7, 8]\n"
     ]
    }
   ],
   "source": [
    "# Merge two sorted lists into a single sorted list.\n",
    "list1 = [1, 3, 5, 7]\n",
    "list2 = [2, 4, 6, 8]\n",
    "out=list1+list2\n",
    "for i in range(len(out)):\n",
    "    for j in range(len(out)-i-1):\n",
    "        if out[j]>out[j+1]:\n",
    "            out[j],out[j+1]=out[j+1],out[j]\n",
    "print(out)"
   ]
  },
  {
   "cell_type": "code",
   "execution_count": null,
   "id": "60f9b9c6",
   "metadata": {},
   "outputs": [
    {
     "name": "stdout",
     "output_type": "stream",
     "text": [
      "common elements are :  [4, 7]\n"
     ]
    }
   ],
   "source": [
    "# Find the common elements between two lists.\n",
    "list1 = [1, 4, 5, 7]\n",
    "list2 = [2, 4, 6, 7]\n",
    "common=[]\n",
    "for i in list1:\n",
    "    if i in list2:\n",
    "        common.append(i)\n",
    "print(\"common elements are : \",common)"
   ]
  },
  {
   "cell_type": "code",
   "execution_count": null,
   "id": "fec26362",
   "metadata": {},
   "outputs": [
    {
     "name": "stdout",
     "output_type": "stream",
     "text": [
      "[1, 2, 3, 4, 5, 6, 7]\n"
     ]
    }
   ],
   "source": [
    "# Flatten a nested list.\n",
    "l=[1, [2, 3], [4, [5, 6]], 7]\n",
    "stack=l[::-1]\n",
    "res=[]\n",
    "while stack:\n",
    "    current=stack.pop()\n",
    "    if isinstance(current,list):\n",
    "        stack.extend(current[::-1])\n",
    "    else:\n",
    "        res.append(current)\n",
    "print(res)\n"
   ]
  },
  {
   "cell_type": "code",
   "execution_count": null,
   "id": "59125db3",
   "metadata": {},
   "outputs": [
    {
     "name": "stdout",
     "output_type": "stream",
     "text": [
      "[1, 2, 3, 5, 6, 7, 8, 9, 54]\n"
     ]
    }
   ],
   "source": [
    "# Sort a list without using the sort() method.\n",
    "l = [2, 5, 3, 7, 9, 1, 54, 6, 8]\n",
    "for i in range(len(l)):\n",
    "    for j in range(len(l)-i-1):\n",
    "        if l[j]>l[j+1]:\n",
    "            l[j],l[j+1]=l[j+1],l[j]\n",
    "print(l)\n"
   ]
  },
  {
   "cell_type": "markdown",
   "id": "6a06945f",
   "metadata": {},
   "source": [
    "# Distionaries"
   ]
  },
  {
   "cell_type": "code",
   "execution_count": null,
   "id": "a97e180a",
   "metadata": {},
   "outputs": [
    {
     "name": "stdout",
     "output_type": "stream",
     "text": [
      "{'python': 2, 'is': 4, 'easy': 1, 'and': 1, 'powerful': 1}\n",
      "{'python': 2, 'is': 4}\n"
     ]
    }
   ],
   "source": [
    "# Count word frequency in a sentence using a dictionary\n",
    "sentence = \"python is is easy is and python is powerful\"\n",
    "words=sentence.split()\n",
    "freq={}\n",
    "for word in words:\n",
    "    if word in freq:\n",
    "        freq[word]+=1\n",
    "    else:\n",
    "        freq[word]=1\n",
    "print(freq)\n",
    "# if we need count > 1\n",
    "res={}\n",
    "for i,j in freq.items():\n",
    "    if j>1:\n",
    "        res[i]=j\n",
    "print(res)"
   ]
  },
  {
   "cell_type": "code",
   "execution_count": 2,
   "id": "26e7e115",
   "metadata": {},
   "outputs": [
    {
     "name": "stdout",
     "output_type": "stream",
     "text": [
      "d : 15\n"
     ]
    }
   ],
   "source": [
    "# Find the key with the maximum value in a dictionary\n",
    "dic = {'a': 5, 'b': 9, 'c': 2, 'd': 15}\n",
    "key=None\n",
    "max_v=0\n",
    "for i in dic:\n",
    "    if dic[i]>max_v:\n",
    "        max_v=dic[i]\n",
    "        key=i\n",
    "print(key , \":\",max_v)"
   ]
  },
  {
   "cell_type": "code",
   "execution_count": null,
   "id": "e0762dbc",
   "metadata": {},
   "outputs": [
    {
     "name": "stdout",
     "output_type": "stream",
     "text": [
      "{'a': 1, 'b': 3, 'c': 4}\n"
     ]
    }
   ],
   "source": [
    "# Merge two dictionaries into one\n",
    "dict1 = {'a': 1, 'b': 2}\n",
    "dict2 = {'b': 3, 'c': 4}\n",
    "for i in dict2:\n",
    "    dict1[i]=dict2[i]\n",
    "print(dict1)"
   ]
  },
  {
   "cell_type": "code",
   "execution_count": 5,
   "id": "aaad4c54",
   "metadata": {},
   "outputs": [
    {
     "name": "stdout",
     "output_type": "stream",
     "text": [
      "{'b': 2, 'd': 3}\n",
      "{'a': 1, 'b': 2, 'd': 3}\n"
     ]
    }
   ],
   "source": [
    "# Remove duplicate values from a dictionary\n",
    "d1={'a': 1, 'b': 2, 'c': 1, 'd': 3}\n",
    "val={}\n",
    "for i in d1.values():\n",
    "    if i in val:\n",
    "        val[i]+=1\n",
    "    else:\n",
    "        val[i]=1\n",
    "res={}\n",
    "for key , values in d1.items():\n",
    "    if val[values]==1:\n",
    "        res[key]=values\n",
    "print(res)\n",
    "\n",
    "        #   or\n",
    "\n",
    "a=set()\n",
    "res1={}\n",
    "for i,j in d1.items():\n",
    "    if j not in a:\n",
    "        a.add(j)\n",
    "        res1[i]=j\n",
    "print(res1)\n",
    "\n",
    "#{'b': 2, 'd': 3}  # 'a' or 'c' removed because both had 1"
   ]
  },
  {
   "cell_type": "code",
   "execution_count": null,
   "id": "54cb9ee3",
   "metadata": {},
   "outputs": [
    {
     "name": "stdout",
     "output_type": "stream",
     "text": [
      "True\n",
      "Equal\n"
     ]
    }
   ],
   "source": [
    "# Check if two dictionaries are equal\n",
    "d1 = {'a': 1, 'b': 2}\n",
    "d2 = {'b': 2, 'a': 1}\n",
    "print(d1==d2)\n",
    "equal=True\n",
    "for i in d1:\n",
    "    if i not in d2 or d1[i]!=d2[i]:\n",
    "        equal=False\n",
    "if equal:\n",
    "    print(\"Equal\")\n",
    "    \n",
    "# True"
   ]
  },
  {
   "cell_type": "code",
   "execution_count": 6,
   "id": "b555d10d",
   "metadata": {},
   "outputs": [
    {
     "name": "stdout",
     "output_type": "stream",
     "text": [
      "{1: 2, 2: 2, 4: 3}\n"
     ]
    }
   ],
   "source": [
    "# Group elements by frequency using dictionary\n",
    "data = [1, 2, 2,1, 4,4, 4]\n",
    "res={}\n",
    "for i in data:\n",
    "    if i in res:\n",
    "        res[i]+=1\n",
    "    else:\n",
    "        res[i]=1\n",
    "print(res)\n",
    "\n",
    "# output:{1: 1, 2: 2, 3: 3}\n"
   ]
  },
  {
   "cell_type": "markdown",
   "id": "67d4fd5e",
   "metadata": {},
   "source": [
    "# Functions"
   ]
  },
  {
   "cell_type": "code",
   "execution_count": null,
   "id": "06a253c9",
   "metadata": {},
   "outputs": [
    {
     "data": {
      "text/plain": [
       "'a is greater'"
      ]
     },
     "execution_count": 1,
     "metadata": {},
     "output_type": "execute_result"
    }
   ],
   "source": [
    "# Write a function to find the greatest of 3 numbers.\n",
    "def greatest(a,b,c):\n",
    "    if a>b and a>c:\n",
    "        return \"a is greater\"\n",
    "    elif b>a and b>c:\n",
    "        return \"b is greater\"\n",
    "    else:\n",
    "        return \"c is greater\"\n",
    "greatest(5,7,9)\n",
    "greatest(54,7,5)"
   ]
  },
  {
   "cell_type": "code",
   "execution_count": null,
   "id": "29b8cb77",
   "metadata": {},
   "outputs": [
    {
     "name": "stdout",
     "output_type": "stream",
     "text": [
      "25\n"
     ]
    }
   ],
   "source": [
    "# Write a recursive function to calculate power of a number\n",
    "def power(num,pow):\n",
    "    if pow==0:\n",
    "        return 1\n",
    "    return num * power(num,pow-1)\n",
    "print(power(5,2))"
   ]
  },
  {
   "cell_type": "code",
   "execution_count": null,
   "id": "daa3d991",
   "metadata": {},
   "outputs": [
    {
     "data": {
      "text/plain": [
       "[0, 2, 4, 6, 8, 10, 12, 14, 16, 18]"
      ]
     },
     "execution_count": 12,
     "metadata": {},
     "output_type": "execute_result"
    }
   ],
   "source": [
    "# Create a function that returns a list of even numbers up to n.\n",
    "def even(n):\n",
    "    lst=[]\n",
    "    for i in range(n):\n",
    "        if i%2==0:\n",
    "            lst.append(i)\n",
    "    return lst\n",
    "even(20)"
   ]
  },
  {
   "cell_type": "code",
   "execution_count": null,
   "id": "7b77a30b",
   "metadata": {},
   "outputs": [
    {
     "data": {
      "text/plain": [
       "400"
      ]
     },
     "execution_count": 14,
     "metadata": {},
     "output_type": "execute_result"
    }
   ],
   "source": [
    "# Use default and keyword arguments in a function.\n",
    "def default(a=3,b=5):\n",
    "    return a*5\n",
    "def keyword(a,b,c):\n",
    "    return a*b*c\n",
    "default()\n",
    "keyword(b=10,c=5,a=8)"
   ]
  },
  {
   "cell_type": "code",
   "execution_count": null,
   "id": "fce681d1",
   "metadata": {},
   "outputs": [
    {
     "data": {
      "text/plain": [
       "55"
      ]
     },
     "execution_count": 18,
     "metadata": {},
     "output_type": "execute_result"
    }
   ],
   "source": [
    "# Implement a function that accepts a variable number of arguments.\n",
    "def vararg(*args):\n",
    "    a=0\n",
    "    for i in args:\n",
    "        a+=i\n",
    "    return a\n",
    "vararg(1,2,3,4,5,6,7,8,9,10)"
   ]
  },
  {
   "cell_type": "code",
   "execution_count": null,
   "id": "d080a70c",
   "metadata": {},
   "outputs": [
    {
     "name": "stdout",
     "output_type": "stream",
     "text": [
      "(1, 2, 3, 4, 5, 6, 7, 8)\n",
      "{'a': 'subbu', 'b': 21}\n"
     ]
    }
   ],
   "source": [
    "# Explain *args and **kwargs with examples.\n",
    "# *args --> variable number arguments\n",
    "# **kwargs --> keyword number arguments\n",
    "\n",
    "def args(*args):\n",
    "    return args\n",
    "print(args(1,2,3,4,5,6,7,8))\n",
    "\n",
    "def kwargs(**kwargs):\n",
    "    return kwargs\n",
    "print(kwargs(a=\"subbu\",b=21))"
   ]
  },
  {
   "cell_type": "code",
   "execution_count": null,
   "id": "8bc2c813",
   "metadata": {},
   "outputs": [
    {
     "name": "stdout",
     "output_type": "stream",
     "text": [
      "<function <lambda> at 0x000001FE0893F920>\n",
      "361\n"
     ]
    }
   ],
   "source": [
    "# Write a lambda function to calculate square of a number.\n",
    "num=19\n",
    "x=lambda n:n**2\n",
    "print(x) # return the address of the function\n",
    "print(x(num))"
   ]
  },
  {
   "cell_type": "code",
   "execution_count": null,
   "id": "4ca5f248",
   "metadata": {},
   "outputs": [
    {
     "name": "stdout",
     "output_type": "stream",
     "text": [
      "125\n"
     ]
    }
   ],
   "source": [
    "# calculate power of a number\n",
    "num=5\n",
    "power=3\n",
    "x=lambda n:n**power\n",
    "print(x(num))"
   ]
  },
  {
   "cell_type": "code",
   "execution_count": null,
   "id": "305f54c1",
   "metadata": {},
   "outputs": [
    {
     "name": "stdout",
     "output_type": "stream",
     "text": [
      "[2, 3, 5, 7, 11, 13, 17, 19, 23, 29, 31, 37, 41, 43, 47, 53, 59, 61, 67, 71, 73, 79, 83, 89, 97]\n",
      "25\n"
     ]
    }
   ],
   "source": [
    "# Prime numbers from 1 to 100\n",
    "n=100\n",
    "lst=[]\n",
    "for i in range(2,n+1):\n",
    "    prime=True\n",
    "    for j in range(2,int(i**0.5 +1)):\n",
    "        if i%j==0:\n",
    "            prime=False\n",
    "            break\n",
    "    if prime:\n",
    "        lst.append(i)\n",
    "print(lst)\n",
    "print(len(lst))"
   ]
  },
  {
   "cell_type": "markdown",
   "id": "71739bdb",
   "metadata": {},
   "source": [
    "# Comprehensions\n"
   ]
  },
  {
   "cell_type": "code",
   "execution_count": null,
   "id": "ed593d11",
   "metadata": {},
   "outputs": [
    {
     "name": "stdout",
     "output_type": "stream",
     "text": [
      "[4, 16, 36, 64, 100, 144, 196, 256, 324, 400]\n"
     ]
    }
   ],
   "source": [
    "# Write list comprehension to create a list of squares of even numbers.\n",
    "a=[i**2 for i in range(1,21) if i%2==0]\n",
    "print(a)"
   ]
  },
  {
   "cell_type": "code",
   "execution_count": null,
   "id": "f98166f4",
   "metadata": {},
   "outputs": [
    {
     "name": "stdout",
     "output_type": "stream",
     "text": [
      "{'Write': 5, 'dictionary': 10, 'comprehension': 13, 'to': 2, 'count': 5, 'word': 4, 'lengths': 7, 'in': 2, 'a': 1, 'sentence': 8}\n"
     ]
    }
   ],
   "source": [
    "# Write dictionary comprehension to count word lengths in a sentence.\n",
    "sentence=\"Write dictionary comprehension to count word lengths in a sentence\"\n",
    "a={word:len(word) for word in sentence.split()}\n",
    "print(a)"
   ]
  },
  {
   "cell_type": "code",
   "execution_count": null,
   "id": "1fc9dd01",
   "metadata": {},
   "outputs": [
    {
     "name": "stdout",
     "output_type": "stream",
     "text": [
      "{'i', 'e', 'o'}\n"
     ]
    }
   ],
   "source": [
    "# Write a set comprehension to find unique vowels in a string.\n",
    "s=\"comprehension\"\n",
    "a=set(i for i in s if i in \"aeiou\"  )\n",
    "print(a)"
   ]
  },
  {
   "cell_type": "markdown",
   "id": "5fa63e7f",
   "metadata": {},
   "source": [
    "# Error and Exception handling"
   ]
  },
  {
   "cell_type": "code",
   "execution_count": null,
   "id": "d671e862",
   "metadata": {},
   "outputs": [
    {
     "name": "stdout",
     "output_type": "stream",
     "text": [
      "invalid literal for int() with base 10: '@'\n",
      "successfully executed\n"
     ]
    }
   ],
   "source": [
    "# Handle division by zero exception.\n",
    "\n",
    "try:\n",
    "    num=int(input(\"enter a number :\"))\n",
    "    n=int(input(\"enter a divisior\"))\n",
    "    a=num/n\n",
    "except ZeroDivisionError:\n",
    "    print(\"number cant divide by zero\")\n",
    "except Exception as e:\n",
    "    print(e)\n",
    "else:\n",
    "    print(a)\n",
    "finally:\n",
    "    print(\"successfully executed\")"
   ]
  },
  {
   "cell_type": "code",
   "execution_count": null,
   "id": "a68f7e44",
   "metadata": {},
   "outputs": [
    {
     "name": "stdout",
     "output_type": "stream",
     "text": [
      "Custom Error Caught: cant divide by zero\n",
      "Program execution completed.\n"
     ]
    }
   ],
   "source": [
    "# Step 1: Create a custom exception with extra info\n",
    "class Divisionbyzero(Exception):\n",
    "    pass\n",
    "    # def __init__(self, numerator, denominator, message=\"You cannot divide by zero!\"):\n",
    "    #     self.numerator = numerator\n",
    "    #     self.denominator = denominator\n",
    "    #     self.message = message\n",
    "    # def __str__(self):\n",
    "    #     return f\"{self.message} (Attempted {self.numerator} / {self.denominator})\"\n",
    "def safe_divide(num, den):\n",
    "    if den == 0:\n",
    "        raise Divisionbyzero(\"cant divide by zero\")\n",
    "    return num / den\n",
    "try:\n",
    "    numerator = int(input(\"Enter numerator: \"))\n",
    "    denominator = int(input(\"Enter denominator: \"))\n",
    "\n",
    "    result = safe_divide(numerator, denominator)\n",
    "    print(\"Result:\", result)\n",
    "\n",
    "except Divisionbyzero as e: \n",
    "    print(\"Custom Error Caught:\", e)\n",
    "\n",
    "except ValueError:\n",
    "    print(\"Please enter valid integers only.\")\n",
    "\n",
    "except Exception as e:\n",
    "    print(\"Unexpected Error:\", e)\n",
    "\n",
    "finally:\n",
    "    print(\"Program execution completed.\")\n"
   ]
  },
  {
   "cell_type": "code",
   "execution_count": 8,
   "id": "b282a680",
   "metadata": {},
   "outputs": [
    {
     "name": "stdout",
     "output_type": "stream",
     "text": [
      "input not be empty\n",
      "\n"
     ]
    }
   ],
   "source": [
    "# Raise an exception if the input is an empty string.\n",
    "class emptyinputerror(Exception):\n",
    "    pass\n",
    "try:\n",
    "  n=input()\n",
    "  if n==\"\":\n",
    "    raise emptyinputerror(\"input not be empty\")\n",
    "except Exception as e:\n",
    "   print(e)\n",
    "print(n)"
   ]
  },
  {
   "cell_type": "code",
   "execution_count": 5,
   "id": "32996486",
   "metadata": {},
   "outputs": [
    {
     "name": "stdout",
     "output_type": "stream",
     "text": [
      "S\n"
     ]
    }
   ],
   "source": [
    "print(chr(ord(\"s\")-32))"
   ]
  },
  {
   "cell_type": "code",
   "execution_count": 6,
   "id": "18bc3bd2",
   "metadata": {},
   "outputs": [
    {
     "name": "stdout",
     "output_type": "stream",
     "text": [
      "[1, 2, 5, 8, 0, 0]\n"
     ]
    }
   ],
   "source": [
    "# movie all zeros to in a list to end\n",
    "lst=[1,0,2,0,5,8]\n",
    "p=0\n",
    "for i in range(len(lst)):\n",
    "    if lst[i]!=0:\n",
    "        lst[i],lst[p]=lst[p],lst[i]\n",
    "        p+=1\n",
    "print(lst)"
   ]
  },
  {
   "cell_type": "code",
   "execution_count": null,
   "id": "f7ae4bed",
   "metadata": {},
   "outputs": [],
   "source": []
  }
 ],
 "metadata": {
  "kernelspec": {
   "display_name": "Python 3",
   "language": "python",
   "name": "python3"
  },
  "language_info": {
   "codemirror_mode": {
    "name": "ipython",
    "version": 3
   },
   "file_extension": ".py",
   "mimetype": "text/x-python",
   "name": "python",
   "nbconvert_exporter": "python",
   "pygments_lexer": "ipython3",
   "version": "3.12.10"
  }
 },
 "nbformat": 4,
 "nbformat_minor": 5
}
