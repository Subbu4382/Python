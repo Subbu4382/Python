{
 "cells": [
  {
   "cell_type": "markdown",
   "id": "e2072736",
   "metadata": {},
   "source": [
    "# Reverse a Number"
   ]
  },
  {
   "cell_type": "code",
   "execution_count": null,
   "id": "9840b5f7",
   "metadata": {},
   "outputs": [
    {
     "name": "stdout",
     "output_type": "stream",
     "text": [
      "Reversed number: 321\n"
     ]
    }
   ],
   "source": [
    "# Reverse a number without converting to string\n",
    "\n",
    "num = int(input(\"Enter a number :\"))\n",
    "reversed_num = 0\n",
    "\n",
    "while num:\n",
    "    digit = num % 10                             # Get last digit\n",
    "    reversed_num = reversed_num * 10 + digit     # Append digit\n",
    "    num //= 10                                   # Remove last digit\n",
    "\n",
    "print(\"Reversed number:\", reversed_num)\n"
   ]
  },
  {
   "cell_type": "markdown",
   "id": "770239f0",
   "metadata": {},
   "source": [
    "# Prime Number"
   ]
  },
  {
   "cell_type": "code",
   "execution_count": null,
   "id": "f6b97ca7",
   "metadata": {},
   "outputs": [
    {
     "name": "stdout",
     "output_type": "stream",
     "text": [
      "17 is a prime number\n"
     ]
    }
   ],
   "source": [
    "# Function to check if a number is prime (special number with exactly two divisors)\n",
    "def is_prime(n):\n",
    "    # 1 and numbers below are not prime\n",
    "    if n <= 1:\n",
    "        return False\n",
    "    # Check for divisors from 2 to sqrt(n)\n",
    "    for i in range(2, int(n ** 0.5) + 1):\n",
    "        if n % i == 0:  # If divisible, not prime\n",
    "            return False\n",
    "\n",
    "    return True  # No divisors found → prime\n",
    "\n",
    "number = int(input(\"Enter a number :\"))\n",
    "if is_prime(number):\n",
    "    print(f\"{number} is a prime number\")\n",
    "else:\n",
    "    print(f\"{number} is not a prime number\")\n"
   ]
  },
  {
   "cell_type": "markdown",
   "id": "152ff56b",
   "metadata": {},
   "source": [
    "# Finding Greatest Common Divisor(GCD)"
   ]
  },
  {
   "cell_type": "code",
   "execution_count": 9,
   "id": "15cd519d",
   "metadata": {},
   "outputs": [
    {
     "name": "stdout",
     "output_type": "stream",
     "text": [
      "The GCD of 48 and 18 is 6\n"
     ]
    }
   ],
   "source": [
    "# Program to find the Greatest Common Divisor (GCD) using Euclidean Algorithm\n",
    "\n",
    "def gcd(a, b):\n",
    "    while b != 0:\n",
    "        a, b = b, a % b  # 'a' becomes 'b', 'b' becomes remainder\n",
    "    return a\n",
    "\n",
    "num1 = int(input(\"Enter a number :\"))\n",
    "num2 = int(input(\"Enter a number :\"))\n",
    "\n",
    "result = gcd(num1, num2)\n",
    "print(f\"The GCD of {num1} and {num2} is {result}\")\n"
   ]
  },
  {
   "cell_type": "markdown",
   "id": "f8e96ea0",
   "metadata": {},
   "source": [
    "# Finding LCM Without GCD Formula (Loop Method)"
   ]
  },
  {
   "cell_type": "code",
   "execution_count": null,
   "id": "b7d4b7e3",
   "metadata": {},
   "outputs": [
    {
     "name": "stdout",
     "output_type": "stream",
     "text": [
      "LCM (loop method) of 48 and 18 is: 144\n"
     ]
    }
   ],
   "source": [
    "def find_lcm_loop(a, b):\n",
    "    greater = max(a, b)  # Start from the larger number\n",
    "\n",
    "    while True:\n",
    "        # If 'greater' is divisible by both numbers, it's the LCM\n",
    "        if greater % a == 0 and greater % b == 0:\n",
    "            return greater\n",
    "        greater += 1  # Increment and check again\n",
    "        \n",
    "num1 = int(input(\"Enter a number :\"))\n",
    "num2 = int(input(\"Enter a number :\"))\n",
    "print(f\"LCM (loop method) of {num1} and {num2} is:\", find_lcm_loop(num1, num2))\n"
   ]
  },
  {
   "cell_type": "markdown",
   "id": "3745aa38",
   "metadata": {},
   "source": [
    "# Finding LCM using Math Module"
   ]
  },
  {
   "cell_type": "code",
   "execution_count": 23,
   "id": "c8e79c09",
   "metadata": {},
   "outputs": [
    {
     "name": "stdout",
     "output_type": "stream",
     "text": [
      "528\n"
     ]
    }
   ],
   "source": [
    "import math\n",
    "LCM=math.lcm(48,22)\n",
    "print(LCM)"
   ]
  },
  {
   "cell_type": "markdown",
   "id": "6e60d251",
   "metadata": {},
   "source": [
    "# Finding LCM using GCD"
   ]
  },
  {
   "cell_type": "code",
   "execution_count": null,
   "id": "88a78a80",
   "metadata": {},
   "outputs": [
    {
     "name": "stdout",
     "output_type": "stream",
     "text": [
      "LCM of 48 and 18 is: 144\n"
     ]
    }
   ],
   "source": [
    "# Function to find GCD using Euclidean Algorithm\n",
    "def gcd(a, b):\n",
    "    while b != 0:\n",
    "        a, b = b, a % b  # Keep replacing a with b, and b with remainder\n",
    "    return a\n",
    "\n",
    "# Function to find LCM using the GCD\n",
    "def lcm(a, b):\n",
    "    return (a * b) // gcd(a, b)\n",
    "\n",
    "# Example usage\n",
    "num1 = int(input(\"Enter a number :\"))\n",
    "num2 = int(input(\"Enter a number :\"))\n",
    "\n",
    "print(f\"LCM of {num1} and {num2} is:\", lcm(num1, num2))\n"
   ]
  },
  {
   "cell_type": "markdown",
   "id": "31b74427",
   "metadata": {},
   "source": [
    "# Determine whether a is an Armstrong Number."
   ]
  },
  {
   "cell_type": "code",
   "execution_count": 22,
   "id": "317500c7",
   "metadata": {},
   "outputs": [
    {
     "name": "stdout",
     "output_type": "stream",
     "text": [
      "153 is an Armstrong number\n"
     ]
    }
   ],
   "source": [
    "num = int(input(\"Enter a number :\"))\n",
    "original_num = num\n",
    "digits = len(str(num))  # number of digits\n",
    "sum_of_powers = 0\n",
    "\n",
    "while num > 0:\n",
    "    digit = num % 10\n",
    "    sum_of_powers += digit ** digits\n",
    "    num //= 10\n",
    "\n",
    "if sum_of_powers == original_num:\n",
    "    print(f\"{original_num} is an Armstrong number\")\n",
    "else:\n",
    "    print(f\"{original_num} is not an Armstrong number\")\n"
   ]
  },
  {
   "cell_type": "markdown",
   "id": "e672c164",
   "metadata": {},
   "source": [
    "# Fibonacci Series"
   ]
  },
  {
   "cell_type": "code",
   "execution_count": 3,
   "id": "d5902286",
   "metadata": {},
   "outputs": [
    {
     "name": "stdout",
     "output_type": "stream",
     "text": [
      "Fibonacci Series: 0 1 1 2 3 5 8 13 21 34 "
     ]
    }
   ],
   "source": [
    "#15 Write a program to print fibonacci series upto n terms in python\n",
    "num = int(input())\n",
    "n1, n2 = 0, 1\n",
    "print(\"Fibonacci Series:\", n1, n2, end=\" \")\n",
    "for i in range(2, num):\n",
    "    n3 = n1 + n2\n",
    "    n1,n2=n2,n3\n",
    "    print(n3, end=\" \")"
   ]
  },
  {
   "cell_type": "markdown",
   "id": "0b71bcfa",
   "metadata": {},
   "source": [
    "# Finding Factors Of a Number"
   ]
  },
  {
   "cell_type": "code",
   "execution_count": null,
   "id": "90ccdfdb",
   "metadata": {},
   "outputs": [
    {
     "name": "stdout",
     "output_type": "stream",
     "text": [
      "Factors : 1 2 5 10 "
     ]
    }
   ],
   "source": [
    "#18 Python program to find factors of a number\n",
    "num=int(input(\"enter a number :\"))\n",
    "print(\"Factors :\",end=\" \")\n",
    "for i in range(1,num+1):\n",
    "  if num%i==0:\n",
    "    print(i,end=\" \")"
   ]
  },
  {
   "cell_type": "markdown",
   "id": "008501b9",
   "metadata": {},
   "source": [
    "# Prime Factors Of a Number"
   ]
  },
  {
   "cell_type": "code",
   "execution_count": 16,
   "id": "11e61e46",
   "metadata": {},
   "outputs": [
    {
     "name": "stdout",
     "output_type": "stream",
     "text": [
      "Prime Factors of 24: 2 2 2 3 "
     ]
    }
   ],
   "source": [
    "# Prime factors of a number\n",
    "num = int(input(\"Enter a number: \"))\n",
    "i = 2\n",
    "print(f\"Prime Factors of {num}:\", end=\" \")\n",
    "while num > 1:\n",
    "    if num % i == 0:\n",
    "        print(i, end=\" \")\n",
    "        num //= i\n",
    "    else:\n",
    "        i += 1\n"
   ]
  },
  {
   "cell_type": "markdown",
   "id": "d99451c7",
   "metadata": {},
   "source": [
    "# Reverse a string"
   ]
  },
  {
   "cell_type": "code",
   "execution_count": 4,
   "id": "8a8c7d13",
   "metadata": {},
   "outputs": [
    {
     "name": "stdout",
     "output_type": "stream",
     "text": [
      "nohtyp\n"
     ]
    }
   ],
   "source": [
    "def reverse_string_manual(s):\n",
    "    reversed_s = \"\"\n",
    "    for char in s:\n",
    "        reversed_s = char + reversed_s\n",
    "    return reversed_s\n",
    "\n",
    "original_string = \"python\"\n",
    "result = reverse_string_manual(original_string)\n",
    "print(result)"
   ]
  },
  {
   "cell_type": "markdown",
   "id": "764ee741",
   "metadata": {},
   "source": [
    "# Check if a string is digit."
   ]
  },
  {
   "cell_type": "code",
   "execution_count": 10,
   "id": "417e1b7e",
   "metadata": {},
   "outputs": [
    {
     "name": "stdout",
     "output_type": "stream",
     "text": [
      "12h5 : Not a digit\n"
     ]
    }
   ],
   "source": [
    "def is_string_digit_manual(s):\n",
    "    is_digit = True\n",
    "    for char in s:\n",
    "        if not (49<=ord(char)<=58):\n",
    "            is_digit = False\n",
    "            break\n",
    "    return is_digit\n",
    "\n",
    "string = \"12h5\"\n",
    "if is_string_digit_manual(string):\n",
    "    print(f\"{string}  is a digit\")\n",
    "else:\n",
    "    print(f\"{string} : Not a digit\")"
   ]
  },
  {
   "cell_type": "markdown",
   "id": "f488ca25",
   "metadata": {},
   "source": [
    "# Swap Case of All Characters"
   ]
  },
  {
   "cell_type": "code",
   "execution_count": 7,
   "id": "51e8fdb1",
   "metadata": {},
   "outputs": [
    {
     "name": "stdout",
     "output_type": "stream",
     "text": [
      "hELLO wORLD\n"
     ]
    }
   ],
   "source": [
    "def swap_case_manual(text):\n",
    "    swapped_text = \"\"\n",
    "    for char in text:\n",
    "        if 'a' <= char <= 'z':\n",
    "            swapped_text += chr(ord(char) - 32)\n",
    "        elif 'A' <= char <= 'Z':\n",
    "            swapped_text += chr(ord(char) + 32)\n",
    "        else:\n",
    "            swapped_text += char\n",
    "    return swapped_text\n",
    "\n",
    "original_text = \"Hello World\"\n",
    "result_swapped = swap_case_manual(original_text)\n",
    "print(result_swapped)"
   ]
  },
  {
   "cell_type": "markdown",
   "id": "fa207b06",
   "metadata": {},
   "source": [
    "# 🔄 Reverse each word in a sentence"
   ]
  },
  {
   "cell_type": "code",
   "execution_count": null,
   "id": "2cc0d04d",
   "metadata": {},
   "outputs": [
    {
     "name": "stdout",
     "output_type": "stream",
     "text": [
      "ih mai nohtyp repoleved \n"
     ]
    }
   ],
   "source": [
    "# 🔄 Reverse each word in a sentence\n",
    "s = \"hi iam python developer\"\n",
    "words = s.split()\n",
    "r_sentence = ''\n",
    "\n",
    "for i in words:\n",
    "    res = ''\n",
    "    for j in i:\n",
    "        res = j + res   #  adding character in reverse order\n",
    "    r_sentence += res + \" \"\n",
    "\n",
    "print(r_sentence) \n"
   ]
  },
  {
   "cell_type": "markdown",
   "id": "b5877fe5",
   "metadata": {},
   "source": [
    "# Find longest word in a sentence"
   ]
  },
  {
   "cell_type": "code",
   "execution_count": 2,
   "id": "7a1b5a18",
   "metadata": {},
   "outputs": [
    {
     "name": "stdout",
     "output_type": "stream",
     "text": [
      "developer\n"
     ]
    }
   ],
   "source": [
    "# Find longest word in a sentence\n",
    "s = \"Iam a python developer\"\n",
    "long = 0\n",
    "lgw = ''\n",
    "words = s.split()\n",
    "\n",
    "for i in words:\n",
    "    if len(i) > long:   # checking word length\n",
    "        long = len(i)\n",
    "        lgw = i\n",
    "\n",
    "print(lgw) \n"
   ]
  },
  {
   "cell_type": "markdown",
   "id": "b3c785bd",
   "metadata": {},
   "source": [
    "# Count Frequency of Characters"
   ]
  },
  {
   "cell_type": "code",
   "execution_count": 2,
   "id": "4f04049a",
   "metadata": {},
   "outputs": [
    {
     "name": "stdout",
     "output_type": "stream",
     "text": [
      "p2y1t1h1o2n1d1e3v1l1r1\n"
     ]
    }
   ],
   "source": [
    "# Count frequency of characters\n",
    "s = \"pythondeveloper\"\n",
    "freq = \"\"\n",
    "\n",
    "for i in s:\n",
    "    count=0\n",
    "    if i not in freq:\n",
    "        for j in s:\n",
    "            if i==j:\n",
    "                count+=1\n",
    "        freq+=i+str(count)\n",
    "\n",
    "print(freq)   # Output: u2a2m2\n"
   ]
  },
  {
   "cell_type": "markdown",
   "id": "8d89c0a1",
   "metadata": {},
   "source": [
    "# Replace Multiple Spaces with Single Space"
   ]
  },
  {
   "cell_type": "code",
   "execution_count": 4,
   "id": "c2542179",
   "metadata": {},
   "outputs": [
    {
     "name": "stdout",
     "output_type": "stream",
     "text": [
      "p y th o n\n"
     ]
    }
   ],
   "source": [
    "# Replace multiple spaces with single space\n",
    "s = \"p  y  th   o   n\"\n",
    "res = \"\"\n",
    "\n",
    "for i in range(len(s)):\n",
    "    if s[i]==\" \" and s[i+1]==\" \":\n",
    "        continue\n",
    "    else:\n",
    "        res+=s[i]\n",
    "print(res)"
   ]
  },
  {
   "cell_type": "markdown",
   "id": "63eb98ba",
   "metadata": {},
   "source": [
    "# Encode String with ROT13 Cipher"
   ]
  },
  {
   "cell_type": "code",
   "execution_count": 5,
   "id": "82dea4af",
   "metadata": {},
   "outputs": [
    {
     "name": "stdout",
     "output_type": "stream",
     "text": [
      "Fgevatf\n"
     ]
    }
   ],
   "source": [
    "# Encode string with ROT13 cipher\n",
    "s = \"Strings\"\n",
    "res = \"\"\n",
    "\n",
    "for ch in s:\n",
    "    if \"a\" <= ch <= \"z\":\n",
    "        res += chr((ord(ch) - ord(\"a\") + 13) % 26 + ord(\"a\"))\n",
    "    elif \"A\" <= ch <= \"Z\":\n",
    "        res += chr((ord(ch) - ord(\"A\") + 13) % 26 + ord(\"A\"))\n",
    "    else:\n",
    "        res += ch\n",
    "\n",
    "print(res)   # Output: fhOoh\n"
   ]
  },
  {
   "cell_type": "markdown",
   "id": "dc474e3b",
   "metadata": {},
   "source": [
    "# Sort characters of a string"
   ]
  },
  {
   "cell_type": "code",
   "execution_count": 4,
   "id": "ab925552",
   "metadata": {},
   "outputs": [
    {
     "name": "stdout",
     "output_type": "stream",
     "text": [
      "deeeloprv\n"
     ]
    }
   ],
   "source": [
    "s = \"developer\"\n",
    "chars = list(s)\n",
    "res=''\n",
    "for i in range(len(chars)):\n",
    "    for j in range(i + 1, len(chars)):\n",
    "        if chars[i] > chars[j]:\n",
    "            chars[i], chars[j] = chars[j], chars[i]\n",
    "for i in chars:\n",
    "    res+=i\n",
    "print(res) "
   ]
  },
  {
   "cell_type": "markdown",
   "id": "21b8551d",
   "metadata": {},
   "source": [
    "# Extract email from a text string"
   ]
  },
  {
   "cell_type": "code",
   "execution_count": 5,
   "id": "afe718da",
   "metadata": {},
   "outputs": [
    {
     "name": "stdout",
     "output_type": "stream",
     "text": [
      "python123@gmail.com\n"
     ]
    }
   ],
   "source": [
    "s = \"hi my name is subbu and my mail id is python123@gmail.com\"\n",
    "words = s.split()\n",
    "for word in words:\n",
    "    if \"@\" in word:\n",
    "        print(word)"
   ]
  },
  {
   "cell_type": "markdown",
   "id": "ecf303d1",
   "metadata": {},
   "source": [
    "# Remove the nth character from a string"
   ]
  },
  {
   "cell_type": "code",
   "execution_count": 6,
   "id": "b70c3d77",
   "metadata": {},
   "outputs": [
    {
     "name": "stdout",
     "output_type": "stream",
     "text": [
      "deveoper\n"
     ]
    }
   ],
   "source": [
    "s = \"developer\"\n",
    "n = 5\n",
    "res = \"\"\n",
    "for i in range(len(s)):\n",
    "    if i != n - 1:\n",
    "        res += s[i]\n",
    "print(res)"
   ]
  },
  {
   "cell_type": "code",
   "execution_count": null,
   "id": "42d5a92a",
   "metadata": {},
   "outputs": [],
   "source": []
  }
 ],
 "metadata": {
  "kernelspec": {
   "display_name": "Python 3",
   "language": "python",
   "name": "python3"
  },
  "language_info": {
   "codemirror_mode": {
    "name": "ipython",
    "version": 3
   },
   "file_extension": ".py",
   "mimetype": "text/x-python",
   "name": "python",
   "nbconvert_exporter": "python",
   "pygments_lexer": "ipython3",
   "version": "3.12.10"
  }
 },
 "nbformat": 4,
 "nbformat_minor": 5
}
