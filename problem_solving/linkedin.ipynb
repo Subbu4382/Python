{
 "cells": [
  {
   "cell_type": "markdown",
   "id": "e2072736",
   "metadata": {},
   "source": [
    "# Reverse a Number"
   ]
  },
  {
   "cell_type": "code",
   "execution_count": null,
   "id": "9840b5f7",
   "metadata": {},
   "outputs": [
    {
     "name": "stdout",
     "output_type": "stream",
     "text": [
      "Reversed number: 321\n"
     ]
    }
   ],
   "source": [
    "# Reverse a number without converting to string\n",
    "\n",
    "num = int(input(\"Enter a number :\"))\n",
    "reversed_num = 0\n",
    "\n",
    "while num:\n",
    "    digit = num % 10                             # Get last digit\n",
    "    reversed_num = reversed_num * 10 + digit     # Append digit\n",
    "    num //= 10                                   # Remove last digit\n",
    "\n",
    "print(\"Reversed number:\", reversed_num)\n"
   ]
  },
  {
   "cell_type": "markdown",
   "id": "770239f0",
   "metadata": {},
   "source": [
    "# Prime Number"
   ]
  },
  {
   "cell_type": "code",
   "execution_count": null,
   "id": "f6b97ca7",
   "metadata": {},
   "outputs": [
    {
     "name": "stdout",
     "output_type": "stream",
     "text": [
      "17 is a prime number\n"
     ]
    }
   ],
   "source": [
    "# Function to check if a number is prime (special number with exactly two divisors)\n",
    "def is_prime(n):\n",
    "    # 1 and numbers below are not prime\n",
    "    if n <= 1:\n",
    "        return False\n",
    "    # Check for divisors from 2 to sqrt(n)\n",
    "    for i in range(2, int(n ** 0.5) + 1):\n",
    "        if n % i == 0:  # If divisible, not prime\n",
    "            return False\n",
    "\n",
    "    return True  # No divisors found → prime\n",
    "\n",
    "number = int(input(\"Enter a number :\"))\n",
    "if is_prime(number):\n",
    "    print(f\"{number} is a prime number\")\n",
    "else:\n",
    "    print(f\"{number} is not a prime number\")\n"
   ]
  },
  {
   "cell_type": "markdown",
   "id": "152ff56b",
   "metadata": {},
   "source": [
    "# Finding Greatest Common Divisor(GCD)"
   ]
  },
  {
   "cell_type": "code",
   "execution_count": 9,
   "id": "15cd519d",
   "metadata": {},
   "outputs": [
    {
     "name": "stdout",
     "output_type": "stream",
     "text": [
      "The GCD of 48 and 18 is 6\n"
     ]
    }
   ],
   "source": [
    "# Program to find the Greatest Common Divisor (GCD) using Euclidean Algorithm\n",
    "\n",
    "def gcd(a, b):\n",
    "    while b != 0:\n",
    "        a, b = b, a % b  # 'a' becomes 'b', 'b' becomes remainder\n",
    "    return a\n",
    "\n",
    "num1 = int(input(\"Enter a number :\"))\n",
    "num2 = int(input(\"Enter a number :\"))\n",
    "\n",
    "result = gcd(num1, num2)\n",
    "print(f\"The GCD of {num1} and {num2} is {result}\")\n"
   ]
  },
  {
   "cell_type": "markdown",
   "id": "f8e96ea0",
   "metadata": {},
   "source": [
    "# Finding LCM Without GCD Formula (Loop Method)"
   ]
  },
  {
   "cell_type": "code",
   "execution_count": null,
   "id": "b7d4b7e3",
   "metadata": {},
   "outputs": [
    {
     "name": "stdout",
     "output_type": "stream",
     "text": [
      "LCM (loop method) of 48 and 18 is: 144\n"
     ]
    }
   ],
   "source": [
    "def find_lcm_loop(a, b):\n",
    "    greater = max(a, b)  # Start from the larger number\n",
    "\n",
    "    while True:\n",
    "        # If 'greater' is divisible by both numbers, it's the LCM\n",
    "        if greater % a == 0 and greater % b == 0:\n",
    "            return greater\n",
    "        greater += 1  # Increment and check again\n",
    "        \n",
    "num1 = int(input(\"Enter a number :\"))\n",
    "num2 = int(input(\"Enter a number :\"))\n",
    "print(f\"LCM (loop method) of {num1} and {num2} is:\", find_lcm_loop(num1, num2))\n"
   ]
  },
  {
   "cell_type": "markdown",
   "id": "3745aa38",
   "metadata": {},
   "source": [
    "# Finding LCM using Math Module"
   ]
  },
  {
   "cell_type": "code",
   "execution_count": 18,
   "id": "c8e79c09",
   "metadata": {},
   "outputs": [
    {
     "name": "stdout",
     "output_type": "stream",
     "text": [
      "144\n"
     ]
    }
   ],
   "source": [
    "import math\n",
    "LCM=math.lcm(48,18)\n",
    "print(LCM)"
   ]
  },
  {
   "cell_type": "markdown",
   "id": "6e60d251",
   "metadata": {},
   "source": [
    "# Finding LCM using GCD"
   ]
  },
  {
   "cell_type": "code",
   "execution_count": null,
   "id": "88a78a80",
   "metadata": {},
   "outputs": [
    {
     "name": "stdout",
     "output_type": "stream",
     "text": [
      "LCM of 48 and 18 is: 144\n"
     ]
    }
   ],
   "source": [
    "# Function to find GCD using Euclidean Algorithm\n",
    "def gcd(a, b):\n",
    "    while b != 0:\n",
    "        a, b = b, a % b  # Keep replacing a with b, and b with remainder\n",
    "    return a\n",
    "\n",
    "# Function to find LCM using the GCD\n",
    "def lcm(a, b):\n",
    "    return (a * b) // gcd(a, b)\n",
    "\n",
    "# Example usage\n",
    "num1 = int(input(\"Enter a number :\"))\n",
    "num2 = int(input(\"Enter a number :\"))\n",
    "\n",
    "print(f\"LCM of {num1} and {num2} is:\", lcm(num1, num2))\n"
   ]
  },
  {
   "cell_type": "markdown",
   "id": "31b74427",
   "metadata": {},
   "source": [
    "# Determine whether a is an Armstrong Number."
   ]
  },
  {
   "cell_type": "code",
   "execution_count": 22,
   "id": "317500c7",
   "metadata": {},
   "outputs": [
    {
     "name": "stdout",
     "output_type": "stream",
     "text": [
      "153 is an Armstrong number\n"
     ]
    }
   ],
   "source": [
    "num = int(input(\"Enter a number :\"))\n",
    "original_num = num\n",
    "digits = len(str(num))  # number of digits\n",
    "sum_of_powers = 0\n",
    "\n",
    "while num > 0:\n",
    "    digit = num % 10\n",
    "    sum_of_powers += digit ** digits\n",
    "    num //= 10\n",
    "\n",
    "if sum_of_powers == original_num:\n",
    "    print(f\"{original_num} is an Armstrong number\")\n",
    "else:\n",
    "    print(f\"{original_num} is not an Armstrong number\")\n"
   ]
  },
  {
   "cell_type": "code",
   "execution_count": null,
   "id": "d5902286",
   "metadata": {},
   "outputs": [],
   "source": []
  }
 ],
 "metadata": {
  "kernelspec": {
   "display_name": "Python 3",
   "language": "python",
   "name": "python3"
  },
  "language_info": {
   "codemirror_mode": {
    "name": "ipython",
    "version": 3
   },
   "file_extension": ".py",
   "mimetype": "text/x-python",
   "name": "python",
   "nbconvert_exporter": "python",
   "pygments_lexer": "ipython3",
   "version": "3.12.10"
  }
 },
 "nbformat": 4,
 "nbformat_minor": 5
}
