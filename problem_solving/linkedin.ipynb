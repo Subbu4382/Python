{
 "cells": [
  {
   "cell_type": "markdown",
   "id": "e2072736",
   "metadata": {},
   "source": [
    "# Reverse a Number"
   ]
  },
  {
   "cell_type": "code",
   "execution_count": null,
   "id": "9840b5f7",
   "metadata": {},
   "outputs": [
    {
     "name": "stdout",
     "output_type": "stream",
     "text": [
      "Reversed number: 321\n"
     ]
    }
   ],
   "source": [
    "# Reverse a number without converting to string\n",
    "\n",
    "num = int(input(\"Enter a number :\"))\n",
    "reversed_num = 0\n",
    "\n",
    "while num:\n",
    "    digit = num % 10                             # Get last digit\n",
    "    reversed_num = reversed_num * 10 + digit     # Append digit\n",
    "    num //= 10                                   # Remove last digit\n",
    "\n",
    "print(\"Reversed number:\", reversed_num)\n"
   ]
  },
  {
   "cell_type": "markdown",
   "id": "770239f0",
   "metadata": {},
   "source": [
    "# Prime Number"
   ]
  },
  {
   "cell_type": "code",
   "execution_count": null,
   "id": "f6b97ca7",
   "metadata": {},
   "outputs": [
    {
     "name": "stdout",
     "output_type": "stream",
     "text": [
      "17 is a prime number\n"
     ]
    }
   ],
   "source": [
    "# Function to check if a number is prime (special number with exactly two divisors)\n",
    "def is_prime(n):\n",
    "    # 1 and numbers below are not prime\n",
    "    if n <= 1:\n",
    "        return False\n",
    "    # Check for divisors from 2 to sqrt(n)\n",
    "    for i in range(2, int(n ** 0.5) + 1):\n",
    "        if n % i == 0:  # If divisible, not prime\n",
    "            return False\n",
    "\n",
    "    return True  # No divisors found → prime\n",
    "\n",
    "number = int(input(\"Enter a number :\"))\n",
    "if is_prime(number):\n",
    "    print(f\"{number} is a prime number\")\n",
    "else:\n",
    "    print(f\"{number} is not a prime number\")\n"
   ]
  },
  {
   "cell_type": "markdown",
   "id": "152ff56b",
   "metadata": {},
   "source": [
    "# Finding Greatest Common Divisor(GCD)"
   ]
  },
  {
   "cell_type": "code",
   "execution_count": 9,
   "id": "15cd519d",
   "metadata": {},
   "outputs": [
    {
     "name": "stdout",
     "output_type": "stream",
     "text": [
      "The GCD of 48 and 18 is 6\n"
     ]
    }
   ],
   "source": [
    "# Program to find the Greatest Common Divisor (GCD) using Euclidean Algorithm\n",
    "\n",
    "def gcd(a, b):\n",
    "    while b != 0:\n",
    "        a, b = b, a % b  # 'a' becomes 'b', 'b' becomes remainder\n",
    "    return a\n",
    "\n",
    "num1 = int(input(\"Enter a number :\"))\n",
    "num2 = int(input(\"Enter a number :\"))\n",
    "\n",
    "result = gcd(num1, num2)\n",
    "print(f\"The GCD of {num1} and {num2} is {result}\")\n"
   ]
  },
  {
   "cell_type": "markdown",
   "id": "f8e96ea0",
   "metadata": {},
   "source": [
    "# Finding LCM Without GCD Formula (Loop Method)"
   ]
  },
  {
   "cell_type": "code",
   "execution_count": null,
   "id": "b7d4b7e3",
   "metadata": {},
   "outputs": [
    {
     "name": "stdout",
     "output_type": "stream",
     "text": [
      "LCM (loop method) of 48 and 18 is: 144\n"
     ]
    }
   ],
   "source": [
    "def find_lcm_loop(a, b):\n",
    "    greater = max(a, b)  # Start from the larger number\n",
    "\n",
    "    while True:\n",
    "        # If 'greater' is divisible by both numbers, it's the LCM\n",
    "        if greater % a == 0 and greater % b == 0:\n",
    "            return greater\n",
    "        greater += 1  # Increment and check again\n",
    "        \n",
    "num1 = int(input(\"Enter a number :\"))\n",
    "num2 = int(input(\"Enter a number :\"))\n",
    "print(f\"LCM (loop method) of {num1} and {num2} is:\", find_lcm_loop(num1, num2))\n"
   ]
  },
  {
   "cell_type": "markdown",
   "id": "3745aa38",
   "metadata": {},
   "source": [
    "# Finding LCM using Math Module"
   ]
  },
  {
   "cell_type": "code",
   "execution_count": 23,
   "id": "c8e79c09",
   "metadata": {},
   "outputs": [
    {
     "name": "stdout",
     "output_type": "stream",
     "text": [
      "528\n"
     ]
    }
   ],
   "source": [
    "import math\n",
    "LCM=math.lcm(48,22)\n",
    "print(LCM)"
   ]
  },
  {
   "cell_type": "markdown",
   "id": "6e60d251",
   "metadata": {},
   "source": [
    "# Finding LCM using GCD"
   ]
  },
  {
   "cell_type": "code",
   "execution_count": null,
   "id": "88a78a80",
   "metadata": {},
   "outputs": [
    {
     "name": "stdout",
     "output_type": "stream",
     "text": [
      "LCM of 48 and 18 is: 144\n"
     ]
    }
   ],
   "source": [
    "# Function to find GCD using Euclidean Algorithm\n",
    "def gcd(a, b):\n",
    "    while b != 0:\n",
    "        a, b = b, a % b  # Keep replacing a with b, and b with remainder\n",
    "    return a\n",
    "\n",
    "# Function to find LCM using the GCD\n",
    "def lcm(a, b):\n",
    "    return (a * b) // gcd(a, b)\n",
    "\n",
    "# Example usage\n",
    "num1 = int(input(\"Enter a number :\"))\n",
    "num2 = int(input(\"Enter a number :\"))\n",
    "\n",
    "print(f\"LCM of {num1} and {num2} is:\", lcm(num1, num2))\n"
   ]
  },
  {
   "cell_type": "markdown",
   "id": "31b74427",
   "metadata": {},
   "source": [
    "# Determine whether a is an Armstrong Number."
   ]
  },
  {
   "cell_type": "code",
   "execution_count": 22,
   "id": "317500c7",
   "metadata": {},
   "outputs": [
    {
     "name": "stdout",
     "output_type": "stream",
     "text": [
      "153 is an Armstrong number\n"
     ]
    }
   ],
   "source": [
    "num = int(input(\"Enter a number :\"))\n",
    "original_num = num\n",
    "digits = len(str(num))  # number of digits\n",
    "sum_of_powers = 0\n",
    "\n",
    "while num > 0:\n",
    "    digit = num % 10\n",
    "    sum_of_powers += digit ** digits\n",
    "    num //= 10\n",
    "\n",
    "if sum_of_powers == original_num:\n",
    "    print(f\"{original_num} is an Armstrong number\")\n",
    "else:\n",
    "    print(f\"{original_num} is not an Armstrong number\")\n"
   ]
  },
  {
   "cell_type": "markdown",
   "id": "e672c164",
   "metadata": {},
   "source": [
    "# Fibonacci Series"
   ]
  },
  {
   "cell_type": "code",
   "execution_count": 3,
   "id": "d5902286",
   "metadata": {},
   "outputs": [
    {
     "name": "stdout",
     "output_type": "stream",
     "text": [
      "Fibonacci Series: 0 1 1 2 3 5 8 13 21 34 "
     ]
    }
   ],
   "source": [
    "#15 Write a program to print fibonacci series upto n terms in python\n",
    "num = int(input())\n",
    "n1, n2 = 0, 1\n",
    "print(\"Fibonacci Series:\", n1, n2, end=\" \")\n",
    "for i in range(2, num):\n",
    "    n3 = n1 + n2\n",
    "    n1,n2=n2,n3\n",
    "    print(n3, end=\" \")"
   ]
  },
  {
   "cell_type": "markdown",
   "id": "0b71bcfa",
   "metadata": {},
   "source": [
    "# Finding Factors Of a Number"
   ]
  },
  {
   "cell_type": "code",
   "execution_count": null,
   "id": "90ccdfdb",
   "metadata": {},
   "outputs": [
    {
     "name": "stdout",
     "output_type": "stream",
     "text": [
      "Factors : 1 2 5 10 "
     ]
    }
   ],
   "source": [
    "#18 Python program to find factors of a number\n",
    "num=int(input(\"enter a number :\"))\n",
    "print(\"Factors :\",end=\" \")\n",
    "for i in range(1,num+1):\n",
    "  if num%i==0:\n",
    "    print(i,end=\" \")"
   ]
  },
  {
   "cell_type": "markdown",
   "id": "008501b9",
   "metadata": {},
   "source": [
    "# Prime Factors Of a Number"
   ]
  },
  {
   "cell_type": "code",
   "execution_count": 16,
   "id": "11e61e46",
   "metadata": {},
   "outputs": [
    {
     "name": "stdout",
     "output_type": "stream",
     "text": [
      "Prime Factors of 24: 2 2 2 3 "
     ]
    }
   ],
   "source": [
    "# Prime factors of a number\n",
    "num = int(input(\"Enter a number: \"))\n",
    "i = 2\n",
    "print(f\"Prime Factors of {num}:\", end=\" \")\n",
    "while num > 1:\n",
    "    if num % i == 0:\n",
    "        print(i, end=\" \")\n",
    "        num //= i\n",
    "    else:\n",
    "        i += 1\n"
   ]
  },
  {
   "cell_type": "markdown",
   "id": "d99451c7",
   "metadata": {},
   "source": [
    "# Reverse a string"
   ]
  },
  {
   "cell_type": "code",
   "execution_count": 4,
   "id": "8a8c7d13",
   "metadata": {},
   "outputs": [
    {
     "name": "stdout",
     "output_type": "stream",
     "text": [
      "nohtyp\n"
     ]
    }
   ],
   "source": [
    "def reverse_string_manual(s):\n",
    "    reversed_s = \"\"\n",
    "    for char in s:\n",
    "        reversed_s = char + reversed_s\n",
    "    return reversed_s\n",
    "\n",
    "original_string = \"python\"\n",
    "result = reverse_string_manual(original_string)\n",
    "print(result)"
   ]
  },
  {
   "cell_type": "markdown",
   "id": "764ee741",
   "metadata": {},
   "source": [
    "# Check if a string is digit."
   ]
  },
  {
   "cell_type": "code",
   "execution_count": 10,
   "id": "417e1b7e",
   "metadata": {},
   "outputs": [
    {
     "name": "stdout",
     "output_type": "stream",
     "text": [
      "12h5 : Not a digit\n"
     ]
    }
   ],
   "source": [
    "def is_string_digit_manual(s):\n",
    "    is_digit = True\n",
    "    for char in s:\n",
    "        if not (49<=ord(char)<=58):\n",
    "            is_digit = False\n",
    "            break\n",
    "    return is_digit\n",
    "\n",
    "string = \"12h5\"\n",
    "if is_string_digit_manual(string):\n",
    "    print(f\"{string}  is a digit\")\n",
    "else:\n",
    "    print(f\"{string} : Not a digit\")"
   ]
  },
  {
   "cell_type": "markdown",
   "id": "f488ca25",
   "metadata": {},
   "source": [
    "# Swap Case of All Characters"
   ]
  },
  {
   "cell_type": "code",
   "execution_count": 7,
   "id": "51e8fdb1",
   "metadata": {},
   "outputs": [
    {
     "name": "stdout",
     "output_type": "stream",
     "text": [
      "hELLO wORLD\n"
     ]
    }
   ],
   "source": [
    "def swap_case_manual(text):\n",
    "    swapped_text = \"\"\n",
    "    for char in text:\n",
    "        if 'a' <= char <= 'z':\n",
    "            swapped_text += chr(ord(char) - 32)\n",
    "        elif 'A' <= char <= 'Z':\n",
    "            swapped_text += chr(ord(char) + 32)\n",
    "        else:\n",
    "            swapped_text += char\n",
    "    return swapped_text\n",
    "\n",
    "original_text = \"Hello World\"\n",
    "result_swapped = swap_case_manual(original_text)\n",
    "print(result_swapped)"
   ]
  },
  {
   "cell_type": "markdown",
   "id": "fa207b06",
   "metadata": {},
   "source": [
    "# 🔄 Reverse each word in a sentence"
   ]
  },
  {
   "cell_type": "code",
   "execution_count": null,
   "id": "2cc0d04d",
   "metadata": {},
   "outputs": [
    {
     "name": "stdout",
     "output_type": "stream",
     "text": [
      "ih mai nohtyp repoleved \n"
     ]
    }
   ],
   "source": [
    "# 🔄 Reverse each word in a sentence\n",
    "s = \"hi iam python developer\"\n",
    "words = s.split()\n",
    "r_sentence = ''\n",
    "\n",
    "for i in words:\n",
    "    res = ''\n",
    "    for j in i:\n",
    "        res = j + res   #  adding character in reverse order\n",
    "    r_sentence += res + \" \"\n",
    "\n",
    "print(r_sentence) \n"
   ]
  },
  {
   "cell_type": "markdown",
   "id": "b5877fe5",
   "metadata": {},
   "source": [
    "# Find longest word in a sentence"
   ]
  },
  {
   "cell_type": "code",
   "execution_count": 2,
   "id": "7a1b5a18",
   "metadata": {},
   "outputs": [
    {
     "name": "stdout",
     "output_type": "stream",
     "text": [
      "developer\n"
     ]
    }
   ],
   "source": [
    "# Find longest word in a sentence\n",
    "s = \"Iam a python developer\"\n",
    "long = 0\n",
    "lgw = ''\n",
    "words = s.split()\n",
    "\n",
    "for i in words:\n",
    "    if len(i) > long:   # checking word length\n",
    "        long = len(i)\n",
    "        lgw = i\n",
    "\n",
    "print(lgw) \n"
   ]
  },
  {
   "cell_type": "markdown",
   "id": "b3c785bd",
   "metadata": {},
   "source": [
    "# Count Frequency of Characters"
   ]
  },
  {
   "cell_type": "code",
   "execution_count": 2,
   "id": "4f04049a",
   "metadata": {},
   "outputs": [
    {
     "name": "stdout",
     "output_type": "stream",
     "text": [
      "p2y1t1h1o2n1d1e3v1l1r1\n"
     ]
    }
   ],
   "source": [
    "# Count frequency of characters\n",
    "s = \"pythondeveloper\"\n",
    "freq = \"\"\n",
    "\n",
    "for i in s:\n",
    "    count=0\n",
    "    if i not in freq:\n",
    "        for j in s:\n",
    "            if i==j:\n",
    "                count+=1\n",
    "        freq+=i+str(count)\n",
    "\n",
    "print(freq)   # Output: u2a2m2\n"
   ]
  },
  {
   "cell_type": "markdown",
   "id": "8d89c0a1",
   "metadata": {},
   "source": [
    "# Replace Multiple Spaces with Single Space"
   ]
  },
  {
   "cell_type": "code",
   "execution_count": 4,
   "id": "c2542179",
   "metadata": {},
   "outputs": [
    {
     "name": "stdout",
     "output_type": "stream",
     "text": [
      "p y th o n\n"
     ]
    }
   ],
   "source": [
    "# Replace multiple spaces with single space\n",
    "s = \"p  y  th   o   n\"\n",
    "res = \"\"\n",
    "\n",
    "for i in range(len(s)):\n",
    "    if s[i]==\" \" and s[i+1]==\" \":\n",
    "        continue\n",
    "    else:\n",
    "        res+=s[i]\n",
    "print(res)"
   ]
  },
  {
   "cell_type": "markdown",
   "id": "63eb98ba",
   "metadata": {},
   "source": [
    "# Encode String with ROT13 Cipher"
   ]
  },
  {
   "cell_type": "code",
   "execution_count": 5,
   "id": "82dea4af",
   "metadata": {},
   "outputs": [
    {
     "name": "stdout",
     "output_type": "stream",
     "text": [
      "Fgevatf\n"
     ]
    }
   ],
   "source": [
    "# Encode string with ROT13 cipher\n",
    "s = \"Strings\"\n",
    "res = \"\"\n",
    "\n",
    "for ch in s:\n",
    "    if \"a\" <= ch <= \"z\":\n",
    "        res += chr((ord(ch) - ord(\"a\") + 13) % 26 + ord(\"a\"))\n",
    "    elif \"A\" <= ch <= \"Z\":\n",
    "        res += chr((ord(ch) - ord(\"A\") + 13) % 26 + ord(\"A\"))\n",
    "    else:\n",
    "        res += ch\n",
    "\n",
    "print(res)   # Output: fhOoh\n"
   ]
  },
  {
   "cell_type": "markdown",
   "id": "dc474e3b",
   "metadata": {},
   "source": [
    "# Sort characters of a string"
   ]
  },
  {
   "cell_type": "code",
   "execution_count": 4,
   "id": "ab925552",
   "metadata": {},
   "outputs": [
    {
     "name": "stdout",
     "output_type": "stream",
     "text": [
      "deeeloprv\n"
     ]
    }
   ],
   "source": [
    "s = \"developer\"\n",
    "chars = list(s)\n",
    "res=''\n",
    "for i in range(len(chars)):\n",
    "    for j in range(i + 1, len(chars)):\n",
    "        if chars[i] > chars[j]:\n",
    "            chars[i], chars[j] = chars[j], chars[i]\n",
    "for i in chars:\n",
    "    res+=i\n",
    "print(res) "
   ]
  },
  {
   "cell_type": "markdown",
   "id": "21b8551d",
   "metadata": {},
   "source": [
    "# Extract email from a text string"
   ]
  },
  {
   "cell_type": "code",
   "execution_count": 5,
   "id": "afe718da",
   "metadata": {},
   "outputs": [
    {
     "name": "stdout",
     "output_type": "stream",
     "text": [
      "python123@gmail.com\n"
     ]
    }
   ],
   "source": [
    "s = \"hi my name is subbu and my mail id is python123@gmail.com\"\n",
    "words = s.split()\n",
    "for word in words:\n",
    "    if \"@\" in word:\n",
    "        print(word)"
   ]
  },
  {
   "cell_type": "markdown",
   "id": "ecf303d1",
   "metadata": {},
   "source": [
    "# Remove the nth character from a string"
   ]
  },
  {
   "cell_type": "code",
   "execution_count": 6,
   "id": "b70c3d77",
   "metadata": {},
   "outputs": [
    {
     "name": "stdout",
     "output_type": "stream",
     "text": [
      "deveoper\n"
     ]
    }
   ],
   "source": [
    "s = \"developer\"\n",
    "n = 5\n",
    "res = \"\"\n",
    "for i in range(len(s)):\n",
    "    if i != n - 1:\n",
    "        res += s[i]\n",
    "print(res)"
   ]
  },
  {
   "cell_type": "markdown",
   "id": "589ecd6c",
   "metadata": {},
   "source": [
    "# Check if a substring exists in a main string"
   ]
  },
  {
   "cell_type": "code",
   "execution_count": 3,
   "id": "42d5a92a",
   "metadata": {},
   "outputs": [
    {
     "name": "stdout",
     "output_type": "stream",
     "text": [
      "man is a substring of subrahmanyam\n"
     ]
    }
   ],
   "source": [
    "string = \"subrahmanyam\"\n",
    "sub_str = \"man\"\n",
    "found = False\n",
    "\n",
    "for i in range(len(string) - len(sub_str) + 1):\n",
    "    if sub_str == string[i:i+len(sub_str)]:\n",
    "        print(f\"{sub_str} is a substring of {string}\")\n",
    "        found = True\n",
    "        break\n",
    "\n",
    "if not found:\n",
    "    print(f\"{sub_str} is NOT a substring of {string}\")\n"
   ]
  },
  {
   "cell_type": "markdown",
   "id": "bd8e1e6e",
   "metadata": {},
   "source": [
    "# Compress string using counts of repeated characters."
   ]
  },
  {
   "cell_type": "code",
   "execution_count": 2,
   "id": "9f72ec14",
   "metadata": {},
   "outputs": [
    {
     "name": "stdout",
     "output_type": "stream",
     "text": [
      "a3b2ca3\n"
     ]
    }
   ],
   "source": [
    "s = \"aaabbcaaa\"\n",
    "res=''\n",
    "count=1\n",
    "for i in range(len(s)-1):\n",
    "    if s[i]==s[i+1]:\n",
    "        count+=1\n",
    "        \n",
    "    else:\n",
    "        if count>1:\n",
    "            res+=s[i]+str(count)\n",
    "        else:\n",
    "            res+=s[i]\n",
    "        count=1\n",
    "if count>1:\n",
    "    res+=s[-1]+str(count)\n",
    "else:\n",
    "    res+=s[-1]\n",
    "print(res)"
   ]
  },
  {
   "cell_type": "markdown",
   "id": "38743d7f",
   "metadata": {},
   "source": [
    "# Find the first non-repeating character in a string."
   ]
  },
  {
   "cell_type": "code",
   "execution_count": 3,
   "id": "0b85bafe",
   "metadata": {},
   "outputs": [
    {
     "name": "stdout",
     "output_type": "stream",
     "text": [
      "first non repeating charecter is q\n"
     ]
    }
   ],
   "source": [
    "s='aabcbddqcl'\n",
    "\n",
    "for i in range(len(s)):\n",
    "    repeat=False\n",
    "    for j in range(len(s)):\n",
    "        if i!=j and s[i]==s[j]:\n",
    "            repeat=True\n",
    "            break\n",
    "    if not repeat:\n",
    "         print(f\"first non repeating charecter is {s[i]}\")\n",
    "         break"
   ]
  },
  {
   "cell_type": "markdown",
   "id": "e12e0e06",
   "metadata": {},
   "source": [
    "# Find the longest palindrome in a string."
   ]
  },
  {
   "cell_type": "code",
   "execution_count": null,
   "id": "3dc4cecf",
   "metadata": {},
   "outputs": [
    {
     "name": "stdout",
     "output_type": "stream",
     "text": [
      "malayalam\n"
     ]
    }
   ],
   "source": [
    "s='malayalam_industry'\n",
    "longest=''\n",
    "for i in range(len(s)):\n",
    "    for j in range(i+2,len(s)+1):\n",
    "        sub=s[i:j]\n",
    "        if sub==sub[::-1] and len(sub)>len(longest):\n",
    "            longest=sub\n",
    "print(longest)"
   ]
  },
  {
   "cell_type": "markdown",
   "id": "551e8ff6",
   "metadata": {},
   "source": [
    "# Find the Longest Common Prefix among a list of strings"
   ]
  },
  {
   "cell_type": "code",
   "execution_count": 1,
   "id": "d853872a",
   "metadata": {},
   "outputs": [
    {
     "name": "stdout",
     "output_type": "stream",
     "text": [
      "py\n"
     ]
    }
   ],
   "source": [
    "l = [\"python\", \"pycharm\", \"pypy\"]\n",
    "prefix = ''\n",
    "stop = False\n",
    "\n",
    "for i in range(len(l[0])):\n",
    "    char = l[0][i]\n",
    "    for word in l[1:]:\n",
    "        if i >= len(word) or word[i] != char:\n",
    "            stop = True\n",
    "            break\n",
    "    if stop:\n",
    "        break\n",
    "    prefix += char\n",
    "\n",
    "print(prefix) "
   ]
  },
  {
   "cell_type": "markdown",
   "id": "ff314ca0",
   "metadata": {},
   "source": [
    "# Find the Second Largest Number in a List"
   ]
  },
  {
   "cell_type": "code",
   "execution_count": 2,
   "id": "954b308c",
   "metadata": {},
   "outputs": [
    {
     "name": "stdout",
     "output_type": "stream",
     "text": [
      "second largest value is: 9\n",
      "second largest : 9\n"
     ]
    }
   ],
   "source": [
    "# Using sorting\n",
    "l=[2,5,3,7,9,3,1,54,5,6,7,8]\n",
    "for i in range(len(l)):\n",
    "    for j in range(len(l)-i-1):\n",
    "        if l[j] > l[j+1]:\n",
    "            l[j], l[j+1] = l[j+1], l[j]\n",
    "print(\"second largest value is:\", l[-2])\n",
    "\n",
    "# Using variables\n",
    "first = l[0]\n",
    "second = l[0]\n",
    "for i in l:\n",
    "    if i > first:\n",
    "        second = first\n",
    "        first = i\n",
    "    elif first > i > second:\n",
    "        second = i\n",
    "print(\"second largest :\", second)\n"
   ]
  },
  {
   "cell_type": "markdown",
   "id": "23f72848",
   "metadata": {},
   "source": [
    "# Merge Two Sorted Lists into One"
   ]
  },
  {
   "cell_type": "code",
   "execution_count": 4,
   "id": "4159f1c7",
   "metadata": {},
   "outputs": [
    {
     "name": "stdout",
     "output_type": "stream",
     "text": [
      "[1, 2, 3, 4, 5, 6, 7, 8]\n"
     ]
    }
   ],
   "source": [
    "list1 = [1, 3, 5, 7]\n",
    "list2 = [2, 4, 6, 8]\n",
    "res = list1 + list2\n",
    "for i in range(len(res)):\n",
    "    for j in range(len(res)-i-1):\n",
    "        if res[j] > res[j+1]:\n",
    "            res[j], res[j+1] = res[j+1], res[j]\n",
    "print(res)\n"
   ]
  },
  {
   "cell_type": "markdown",
   "id": "daa58220",
   "metadata": {},
   "source": [
    "# Rotate a list to the left by k steps."
   ]
  },
  {
   "cell_type": "code",
   "execution_count": 5,
   "id": "a5f4fd00",
   "metadata": {},
   "outputs": [
    {
     "name": "stdout",
     "output_type": "stream",
     "text": [
      "[3, 7, 9, 1, 54, 6, 8, 2, 5]\n",
      "[3, 7, 9, 1, 54, 6, 8, 2, 5]\n"
     ]
    }
   ],
   "source": [
    "lst=[2, 5, 3, 7, 9, 1, 54, 6, 8]\n",
    "k=2\n",
    "res=[]\n",
    "for i in range(k,len(lst)):\n",
    "    res.append(lst[i])\n",
    "for j in range(0,k):\n",
    "    res.append(lst[j])\n",
    "print(res)\n",
    "#or By Using Slicing\n",
    "print(lst[k:]+lst[:k])"
   ]
  },
  {
   "cell_type": "markdown",
   "id": "37f7a143",
   "metadata": {},
   "source": [
    "# Rotate a list to the right by k steps."
   ]
  },
  {
   "cell_type": "code",
   "execution_count": 4,
   "id": "db6ab4fa",
   "metadata": {},
   "outputs": [
    {
     "name": "stdout",
     "output_type": "stream",
     "text": [
      "[6, 8, 2, 5, 3, 7, 9, 1, 54]\n",
      "[6, 8, 2, 5, 3, 7, 9, 1, 54]\n"
     ]
    }
   ],
   "source": [
    "lst = [2, 5, 3, 7, 9, 1, 54, 6, 8]\n",
    "k = 2\n",
    "res = []\n",
    "for i in range(len(lst)-k, len(lst)):\n",
    "    res.append(lst[i])\n",
    "for i in range(len(lst)-k):\n",
    "    res.append(lst[i])\n",
    "print(res)\n",
    "\n",
    "# Or By using Slicing\n",
    "print(lst[-k:]+lst[:-k])\n"
   ]
  },
  {
   "cell_type": "markdown",
   "id": "c3334099",
   "metadata": {},
   "source": [
    "# Sort a list without using the sort() method."
   ]
  },
  {
   "cell_type": "code",
   "execution_count": 1,
   "id": "9b961020",
   "metadata": {},
   "outputs": [
    {
     "name": "stdout",
     "output_type": "stream",
     "text": [
      "[1, 2, 3, 5, 6, 7, 8, 9, 54]\n"
     ]
    }
   ],
   "source": [
    "# Sort a list without using the sort() method.\n",
    "l = [2, 5, 3, 7, 9, 1, 54, 6, 8]\n",
    "for i in range(len(l)):\n",
    "    for j in range(len(l)-i-1):\n",
    "        if l[j]>l[j+1]:\n",
    "            l[j],l[j+1]=l[j+1],l[j]\n",
    "print(l)\n"
   ]
  },
  {
   "cell_type": "markdown",
   "id": "a8fffb3b",
   "metadata": {},
   "source": [
    "# Counting Frequencies of Elements in a List"
   ]
  },
  {
   "cell_type": "code",
   "execution_count": 2,
   "id": "ddbc6462",
   "metadata": {},
   "outputs": [
    {
     "name": "stdout",
     "output_type": "stream",
     "text": [
      "[1, 2, 3] [3, 1, 2]\n",
      "1 --> 3\n",
      "2 --> 1\n",
      "3 --> 2\n"
     ]
    }
   ],
   "source": [
    "l=[1,2,1,3,1,3]\n",
    "e=[]\n",
    "c=[]\n",
    "for i in l:\n",
    "    if i not in e:\n",
    "        count=0\n",
    "        e.append(i)\n",
    "        for j in l:\n",
    "            if i==j:\n",
    "                count+=1\n",
    "        c.append(count)\n",
    "print(e,c)\n",
    "for i in range(len(e)):\n",
    "    print(e[i],\"-->\",c[i])"
   ]
  },
  {
   "cell_type": "markdown",
   "id": "fa3374ad",
   "metadata": {},
   "source": [
    "# Flatten a nested list."
   ]
  },
  {
   "cell_type": "code",
   "execution_count": 1,
   "id": "1417c08b",
   "metadata": {},
   "outputs": [
    {
     "name": "stdout",
     "output_type": "stream",
     "text": [
      "[1, 2, 3, 4, 5, 6, 7]\n"
     ]
    }
   ],
   "source": [
    "l = [1, [2, 3], [4, [5, 6]], 7]\n",
    "stack = l[::-1]\n",
    "res = []\n",
    "\n",
    "while stack:\n",
    "    current = stack.pop()\n",
    "    if isinstance(current, list):\n",
    "        stack.extend(current[::-1])\n",
    "    else:\n",
    "        res.append(current)\n",
    "\n",
    "print(res) \n"
   ]
  },
  {
   "cell_type": "markdown",
   "id": "e0572904",
   "metadata": {},
   "source": [
    "# Count word frequency in a sentence using a dictionary"
   ]
  },
  {
   "cell_type": "code",
   "execution_count": 2,
   "id": "10e6b91b",
   "metadata": {},
   "outputs": [
    {
     "name": "stdout",
     "output_type": "stream",
     "text": [
      "{'Python': 2, 'is': 2, 'powerful': 1, 'and': 1, 'easy': 1, 'to': 1, 'learn': 1}\n",
      "Word frequency Greater that 1 : {'Python': 2, 'is': 2}\n"
     ]
    }
   ],
   "source": [
    "sentence = \"Python is powerful and Python is easy to learn\"\n",
    "words=sentence.split()\n",
    "freq={}\n",
    "for word in words:\n",
    "    if word in freq:\n",
    "        freq[word]+=1\n",
    "    else:\n",
    "        freq[word]=1\n",
    "print(freq)\n",
    "# if we need count > 1\n",
    "res={}\n",
    "for i,j in freq.items():\n",
    "    if j>1:\n",
    "        res[i]=j\n",
    "print(\"Word frequency Greater that 1 :\",res)"
   ]
  },
  {
   "cell_type": "markdown",
   "id": "a67a85bc",
   "metadata": {},
   "source": [
    "# Group elements by frequency using dictionary"
   ]
  },
  {
   "cell_type": "code",
   "execution_count": 3,
   "id": "d3ba132d",
   "metadata": {},
   "outputs": [
    {
     "name": "stdout",
     "output_type": "stream",
     "text": [
      "{1: 2, 2: 2, 4: 3}\n"
     ]
    }
   ],
   "source": [
    "data = [1, 2, 2,1, 4,4, 4]\n",
    "res={}\n",
    "for i in data:\n",
    "    if i in res:\n",
    "        res[i]+=1\n",
    "    else:\n",
    "        res[i]=1\n",
    "print(res)\n",
    "\n",
    "# output:{1: 1, 2: 2, 3: 3}\n"
   ]
  },
  {
   "cell_type": "markdown",
   "id": "552233a0",
   "metadata": {},
   "source": [
    "# Find the key with the maximum value in a dictionary"
   ]
  },
  {
   "cell_type": "code",
   "execution_count": 4,
   "id": "5a3a2092",
   "metadata": {},
   "outputs": [
    {
     "name": "stdout",
     "output_type": "stream",
     "text": [
      "d : 15\n"
     ]
    }
   ],
   "source": [
    "dic = {'a': 5, 'b': 9, 'c': 2, 'd': 15}\n",
    "key=None\n",
    "max_v=0\n",
    "for i in dic:\n",
    "    if dic[i]>max_v:\n",
    "        max_v=dic[i]\n",
    "        key=i  \n",
    "print(key , \":\",max_v)"
   ]
  },
  {
   "cell_type": "markdown",
   "id": "bfe26833",
   "metadata": {},
   "source": [
    "# Remove duplicate values from a dictionary"
   ]
  },
  {
   "cell_type": "code",
   "execution_count": 3,
   "id": "06e55abb",
   "metadata": {},
   "outputs": [
    {
     "name": "stdout",
     "output_type": "stream",
     "text": [
      "{'b': 2, 'd': 3}\n"
     ]
    }
   ],
   "source": [
    "d1={'a': 1, 'b': 2, 'c': 1, 'd': 3}\n",
    "val={}\n",
    "for i in d1.values():\n",
    "    if i in val:\n",
    "        val[i]+=1\n",
    "    else:\n",
    "        val[i]=1\n",
    "res={}\n",
    "for key , values in d1.items():\n",
    "    if val[values]==1:\n",
    "        res[key]=values\n",
    "print(res)"
   ]
  },
  {
   "cell_type": "markdown",
   "id": "a0ad9519",
   "metadata": {},
   "source": [
    "# Generate the transpose of a Matrix"
   ]
  },
  {
   "cell_type": "code",
   "execution_count": 5,
   "id": "69a70985",
   "metadata": {},
   "outputs": [
    {
     "name": "stdout",
     "output_type": "stream",
     "text": [
      "Transpose: [[1, 4, 7], [2, 5, 8], [3, 6, 9]]\n",
      "\n",
      "In-place Transpose: [[1, 4, 7], [2, 5, 8], [3, 6, 9]]\n"
     ]
    }
   ],
   "source": [
    "# Method 1: Using a new matrix\n",
    "matrix = [[1, 2, 3],\n",
    "          [4, 5, 6],\n",
    "          [7, 8, 9]]\n",
    "\n",
    "rows, cols = len(matrix), len(matrix[0])\n",
    "transpose = [[0] * rows for i in range(cols)]\n",
    "\n",
    "for i in range(rows):\n",
    "    for j in range(cols):\n",
    "        transpose[j][i] = matrix[i][j]\n",
    "print(\"Transpose:\", transpose)\n",
    "print()\n",
    "\n",
    "# Method 2: In-place swapping\n",
    "\n",
    "for i in range(len(matrix)):\n",
    "    for j in range(i, len(matrix)):\n",
    "        matrix[i][j], matrix[j][i] = matrix[j][i], matrix[i][j]\n",
    "\n",
    "print(\"In-place Transpose:\", matrix)"
   ]
  },
  {
   "cell_type": "markdown",
   "id": "65ad4a4c",
   "metadata": {},
   "source": [
    "# Rotate a Matrix 90 degrees Cloclwise"
   ]
  },
  {
   "cell_type": "code",
   "execution_count": 1,
   "id": "26bff61c",
   "metadata": {},
   "outputs": [
    {
     "name": "stdout",
     "output_type": "stream",
     "text": [
      "Rotated 90° clockwise : [[7, 4, 1], [8, 5, 2], [9, 6, 3]]\n"
     ]
    }
   ],
   "source": [
    "\n",
    "matrix = [[1, 2, 3],\n",
    "          [4, 5, 6],\n",
    "          [7, 8, 9]]\n",
    "\n",
    "# Step 1: Transpose\n",
    "for i in range(len(matrix)):\n",
    "    for j in range(i, len(matrix)):\n",
    "        matrix[i][j], matrix[j][i] = matrix[j][i], matrix[i][j]\n",
    "\n",
    "# Step 2: Reverse each row\n",
    "n=len(matrix)\n",
    "for row in matrix:\n",
    "    # row.reverse()\n",
    "    for i in range(n//2):\n",
    "        row[i],row[n-1]=row[n-1],row[i]\n",
    "\n",
    "print(\"Rotated 90° clockwise :\", matrix)\n"
   ]
  },
  {
   "cell_type": "markdown",
   "id": "989b69af",
   "metadata": {},
   "source": [
    "# Rotate a Matrix 90 degrees Anti-Cloclwise"
   ]
  },
  {
   "cell_type": "code",
   "execution_count": 6,
   "id": "19e4a0cc",
   "metadata": {},
   "outputs": [
    {
     "name": "stdout",
     "output_type": "stream",
     "text": [
      "Rotated 90° Anti-clockwise: [[3, 6, 9], [2, 5, 8], [1, 4, 7]]\n"
     ]
    }
   ],
   "source": [
    "\n",
    "matrix = [[1, 2, 3],\n",
    "          [4, 5, 6],\n",
    "          [7, 8, 9]]\n",
    "\n",
    "# Transpose\n",
    "for i in range(len(matrix)):\n",
    "    for j in range(i, len(matrix)):\n",
    "        matrix[i][j], matrix[j][i] = matrix[j][i], matrix[i][j]\n",
    "\n",
    "n=len(matrix)\n",
    "for j in range(n):\n",
    "    for i in range(n // 2):   # swap top with bottom\n",
    "        matrix[i][j], matrix[n - 1][j] = matrix[n - 1][j], matrix[i][j]\n",
    "\n",
    "print(\"Rotated 90° Anti-clockwise:\", matrix)"
   ]
  },
  {
   "cell_type": "markdown",
   "id": "dc259f0d",
   "metadata": {},
   "source": [
    "# Finding Sum of diagonals In a Matrix"
   ]
  },
  {
   "cell_type": "code",
   "execution_count": null,
   "id": "5c10652a",
   "metadata": {},
   "outputs": [
    {
     "name": "stdout",
     "output_type": "stream",
     "text": [
      "15 15\n",
      "Primary: 21\n",
      "Secondary: 101\n"
     ]
    }
   ],
   "source": [
    "\n",
    "matrix = [[1,2,3],\n",
    "          [4,5,6],\n",
    "          [7,8,9]]\n",
    "primary=0\n",
    "secondary=0\n",
    "n=len(matrix)\n",
    "for i in range(n):\n",
    "    for j in range(n):\n",
    "        if i==j:\n",
    "            primary+=matrix[i][j]\n",
    "        if (i+j)==n-1:\n",
    "            secondary+=matrix[i][j]\n",
    "print(primary,secondary)\n",
    "\n",
    "            #  or\n",
    "\n",
    "matrix = [[1,2,3],\n",
    "          [4,11,6],\n",
    "          [87,8,9]]\n",
    "\n",
    "n = len(matrix)\n",
    "primary = sum(matrix[i][i] for i in range(n))        # Primary diagonal\n",
    "secondary = sum(matrix[i][n-1-i] for i in range(n))  # Secondary diagonal\n",
    "\n",
    "print(\"Primary:\", primary)\n",
    "print(\"Secondary:\", secondary)\n",
    "\n"
   ]
  },
  {
   "cell_type": "markdown",
   "id": "eae6fc4b",
   "metadata": {},
   "source": [
    "# Find the element in a sorted matrix"
   ]
  },
  {
   "cell_type": "code",
   "execution_count": null,
   "id": "acae4281",
   "metadata": {},
   "outputs": [
    {
     "name": "stdout",
     "output_type": "stream",
     "text": [
      "Target 5 : Found\n"
     ]
    }
   ],
   "source": [
    "\n",
    "matrix = [[1, 4, 7],\n",
    "          [2, 5, 8],\n",
    "          [3, 6, 9]]\n",
    "\n",
    "target = 5\n",
    "rows, cols = len(matrix), len(matrix[0])\n",
    "\n",
    "i, j = 0, cols-1 \n",
    "found = False\n",
    "\n",
    "while i < rows and j >= 0:\n",
    "    if matrix[i][j] == target:\n",
    "        found = True\n",
    "        break\n",
    "    elif matrix[i][j] > target:\n",
    "        j -= 1   # move left\n",
    "    else:\n",
    "        i += 1   # move down\n",
    "\n",
    "if found:\n",
    "    print(f\"Target {target} : Found\")\n",
    "else:\n",
    "    print(f\"Target Not Found\")\n"
   ]
  },
  {
   "cell_type": "markdown",
   "id": "566afa58",
   "metadata": {},
   "source": [
    "# Matrix multiplication"
   ]
  },
  {
   "cell_type": "code",
   "execution_count": 3,
   "id": "c647f324",
   "metadata": {},
   "outputs": [
    {
     "name": "stdout",
     "output_type": "stream",
     "text": [
      "[[58, 64], [139, 154]]\n"
     ]
    }
   ],
   "source": [
    "\n",
    "A = [[1, 2, 3],\n",
    "     [4, 5, 6],]\n",
    "\n",
    "B = [[7, 8],\n",
    "     [9, 10],\n",
    "     [11, 12]]\n",
    "rowa=len(A)\n",
    "cola=len(A[0])\n",
    "rowb=len(B)\n",
    "colb=len(B[0])\n",
    "\n",
    "result=[[0]*colb for _ in range(rowa)]\n",
    "for i in range(rowa):                              \n",
    "    for j in range(colb):\n",
    "        for k in range(cola):\n",
    "            result[i][j]+=A[i][k] * B[k][j]\n",
    "print(result)"
   ]
  },
  {
   "cell_type": "markdown",
   "id": "9058a6b8",
   "metadata": {},
   "source": [
    "# Matrix addition"
   ]
  },
  {
   "cell_type": "code",
   "execution_count": null,
   "id": "acde8f40",
   "metadata": {},
   "outputs": [
    {
     "name": "stdout",
     "output_type": "stream",
     "text": [
      "[[10, 7, 10], [13, 8, 13]]\n"
     ]
    }
   ],
   "source": [
    "\n",
    "a=[[1,2,3],[7,6,5]]\n",
    "b=[[9,5,7],[6,2,8]]\n",
    "rows=len(a)\n",
    "cols=len(a[0])\n",
    "add=[[0]*cols for i in range(rows)]\n",
    "\n",
    "for i in range(rows):\n",
    "    for j in range(cols):\n",
    "        add[i][j]=a[i][j] + b[i][j]\n",
    "print(add)"
   ]
  },
  {
   "cell_type": "code",
   "execution_count": null,
   "id": "5fb68b9c",
   "metadata": {},
   "outputs": [],
   "source": []
  }
 ],
 "metadata": {
  "kernelspec": {
   "display_name": "Python 3",
   "language": "python",
   "name": "python3"
  },
  "language_info": {
   "codemirror_mode": {
    "name": "ipython",
    "version": 3
   },
   "file_extension": ".py",
   "mimetype": "text/x-python",
   "name": "python",
   "nbconvert_exporter": "python",
   "pygments_lexer": "ipython3",
   "version": "3.12.10"
  }
 },
 "nbformat": 4,
 "nbformat_minor": 5
}
