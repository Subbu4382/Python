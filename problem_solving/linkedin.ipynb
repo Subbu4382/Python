{
 "cells": [
  {
   "cell_type": "markdown",
   "id": "e2072736",
   "metadata": {},
   "source": [
    "# Reverse a Number"
   ]
  },
  {
   "cell_type": "code",
   "execution_count": null,
   "id": "9840b5f7",
   "metadata": {},
   "outputs": [
    {
     "name": "stdout",
     "output_type": "stream",
     "text": [
      "Reversed number: 321\n"
     ]
    }
   ],
   "source": [
    "# Reverse a number without converting to string\n",
    "\n",
    "num = int(input(\"Enter a number :\"))\n",
    "reversed_num = 0\n",
    "\n",
    "while num:\n",
    "    digit = num % 10                             # Get last digit\n",
    "    reversed_num = reversed_num * 10 + digit     # Append digit\n",
    "    num //= 10                                   # Remove last digit\n",
    "\n",
    "print(\"Reversed number:\", reversed_num)\n"
   ]
  },
  {
   "cell_type": "code",
   "execution_count": null,
   "id": "f6b97ca7",
   "metadata": {},
   "outputs": [],
   "source": []
  }
 ],
 "metadata": {
  "kernelspec": {
   "display_name": "Python 3",
   "language": "python",
   "name": "python3"
  },
  "language_info": {
   "codemirror_mode": {
    "name": "ipython",
    "version": 3
   },
   "file_extension": ".py",
   "mimetype": "text/x-python",
   "name": "python",
   "nbconvert_exporter": "python",
   "pygments_lexer": "ipython3",
   "version": "3.12.10"
  }
 },
 "nbformat": 4,
 "nbformat_minor": 5
}
