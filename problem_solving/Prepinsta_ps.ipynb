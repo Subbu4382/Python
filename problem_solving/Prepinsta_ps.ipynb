{
 "cells": [
  {
   "cell_type": "code",
   "execution_count": 5,
   "id": "f57a3e02",
   "metadata": {},
   "outputs": [
    {
     "name": "stdout",
     "output_type": "stream",
     "text": [
      "55\n"
     ]
    }
   ],
   "source": [
    "# Sum of N natural numbers\n",
    "n=10\n",
    "sum=n*(n+1)//2\n",
    "print(sum)"
   ]
  },
  {
   "cell_type": "code",
   "execution_count": null,
   "id": "b6fbd8e7",
   "metadata": {},
   "outputs": [
    {
     "name": "stdout",
     "output_type": "stream",
     "text": [
      "not a prime\n"
     ]
    }
   ],
   "source": [
    "# checking prime\n",
    "n=int(input(\"enter a number\"))\n",
    "count=0\n",
    "for i in range(1,n+1):\n",
    "    if n%i==0:\n",
    "        count+=1\n",
    "if count > 2 or n<2:\n",
    "    print(\"not a prime\")\n",
    "else:\n",
    "    print(\"prime\")"
   ]
  },
  {
   "cell_type": "code",
   "execution_count": null,
   "id": "37384920",
   "metadata": {},
   "outputs": [
    {
     "name": "stdout",
     "output_type": "stream",
     "text": [
      "2 2 2 3 3 239\n"
     ]
    }
   ],
   "source": [
    "# prime factors\n",
    "def primefactors(num):\n",
    "  while num%2==0:\n",
    "     print(2,end=\" \")\n",
    "     num=num//2   # to get clean code \n",
    "  for i in range(3,int(num**0.5+1),2):\n",
    "    while num%i==0:\n",
    "        print(i,end=\" \")\n",
    "        num=num//i\n",
    "  if num>2:\n",
    "     print(num)\n",
    "num=17208\n",
    "primefactors(num)\n",
    "    "
   ]
  },
  {
   "cell_type": "code",
   "execution_count": 60,
   "id": "b2692dc1",
   "metadata": {},
   "outputs": [
    {
     "name": "stdout",
     "output_type": "stream",
     "text": [
      "9\n",
      "9\n",
      "12\n"
     ]
    }
   ],
   "source": [
    "# HCF or GCD of two numbers\n",
    "a,b=27,45\n",
    "while b!=0:\n",
    "    a,b=b,a%b\n",
    "print(a)\n",
    "  # or\n",
    "a,b=27,45\n",
    "smaller=a if a<b else b\n",
    "hcf=1\n",
    "for i in range(1,smaller+1):\n",
    "    if (a%i==0) and (b%i==0):\n",
    "        hcf=i\n",
    "print(hcf)\n",
    "    # or\n",
    "a,b=36,60\n",
    "while a!=b:\n",
    "    if a>b:\n",
    "        a-=b\n",
    "    elif a<b:\n",
    "        b-=a\n",
    "print(a)\n"
   ]
  },
  {
   "cell_type": "markdown",
   "id": "03d50e52",
   "metadata": {},
   "source": [
    "lcm=product of two numbers / hcf"
   ]
  },
  {
   "cell_type": "markdown",
   "id": "db46513c",
   "metadata": {},
   "source": [
    "lcm*hcf=product of two numbers"
   ]
  },
  {
   "cell_type": "code",
   "execution_count": 54,
   "id": "057bc0bb",
   "metadata": {},
   "outputs": [
    {
     "name": "stdout",
     "output_type": "stream",
     "text": [
      "135\n"
     ]
    }
   ],
   "source": [
    "# LCM\n",
    "a,b=27,45\n",
    "max_num=a if a>b else b\n",
    "for i in range(max_num,(a*b)+1,max_num):\n",
    "    if (i %a==0) and (i % b ==0):\n",
    "        lcm=i\n",
    "        break\n",
    "print(lcm)"
   ]
  },
  {
   "cell_type": "code",
   "execution_count": 62,
   "id": "d15ef1f1",
   "metadata": {},
   "outputs": [
    {
     "name": "stdout",
     "output_type": "stream",
     "text": [
      "9.0\n"
     ]
    }
   ],
   "source": [
    "print((27*45)/135)"
   ]
  },
  {
   "cell_type": "code",
   "execution_count": 4,
   "id": "8fa13a0f",
   "metadata": {},
   "outputs": [
    {
     "name": "stdout",
     "output_type": "stream",
     "text": [
      "612\n"
     ]
    }
   ],
   "source": [
    "a,b=36,51\n",
    "max_num=a if a>b else b\n",
    "temp=max_num\n",
    "while True:\n",
    "    if(max_num%a==0) and (max_num%b==0):\n",
    "        lcm=max_num\n",
    "        break\n",
    "    max_num=max_num+temp\n",
    "print(lcm)\n"
   ]
  },
  {
   "cell_type": "code",
   "execution_count": null,
   "id": "d88b0971",
   "metadata": {},
   "outputs": [
    {
     "name": "stdout",
     "output_type": "stream",
     "text": [
      "687\n"
     ]
    }
   ],
   "source": [
    "# converting binary to decimal\n",
    "b=1010101111\n",
    "decimal=0\n",
    "i=0\n",
    "while b:\n",
    "    digit=b%10\n",
    "    decimal+=digit*(2**i)\n",
    "    b//=10\n",
    "    i+=1\n",
    "print(decimal)\n"
   ]
  },
  {
   "cell_type": "code",
   "execution_count": null,
   "id": "8b3ab73a",
   "metadata": {},
   "outputs": [
    {
     "name": "stdout",
     "output_type": "stream",
     "text": [
      "3003\n"
     ]
    }
   ],
   "source": [
    "# octal to decimal\n",
    "octal=5673\n",
    "base=8\n",
    "i=0\n",
    "decimal=0\n",
    "while octal:\n",
    "    digit=octal%10\n",
    "    decimal+=digit*(base**i)\n",
    "    octal//=10\n",
    "    i+=1\n",
    "print(decimal)"
   ]
  },
  {
   "cell_type": "code",
   "execution_count": 3,
   "id": "e0e7aff2",
   "metadata": {},
   "outputs": [
    {
     "name": "stdout",
     "output_type": "stream",
     "text": [
      "370103\n"
     ]
    }
   ],
   "source": [
    "# hexa decimal to decimal\n",
    "hex=\"5A5B7\"\n",
    "base=16\n",
    "pow=0\n",
    "decimal=0\n",
    "for i in range(len(hex)-1,-1,-1):\n",
    "    if \"0\"<=hex[i]<=\"9\":\n",
    "        digit=ord(hex[i])-48\n",
    "        decimal+=digit*(base**pow)\n",
    "        pow+=1\n",
    "    elif \"A\"<=hex[i]<=\"F\":\n",
    "        digit=ord(hex[i])-55\n",
    "        decimal+=digit*(base**pow)\n",
    "        pow+=1\n",
    "print(decimal)"
   ]
  },
  {
   "cell_type": "code",
   "execution_count": 12,
   "id": "99be262a",
   "metadata": {},
   "outputs": [
    {
     "name": "stdout",
     "output_type": "stream",
     "text": [
      "110100111\n"
     ]
    }
   ],
   "source": [
    "# decimal to binary\n",
    "d=423\n",
    "b=\"\"\n",
    "while d:\n",
    "    rem=d%2\n",
    "    b=str(rem)+b\n",
    "    d//=2\n",
    "print(b)\n"
   ]
  },
  {
   "cell_type": "code",
   "execution_count": 13,
   "id": "08068bf9",
   "metadata": {},
   "outputs": [
    {
     "name": "stdout",
     "output_type": "stream",
     "text": [
      "21346\n"
     ]
    }
   ],
   "source": [
    "# decimal to octal\n",
    "d=8934\n",
    "o=\"\"\n",
    "while d:\n",
    "    rem=d%8\n",
    "    o=str(rem)+o\n",
    "    d//=8\n",
    "print(o)"
   ]
  },
  {
   "cell_type": "code",
   "execution_count": 18,
   "id": "7a029212",
   "metadata": {},
   "outputs": [
    {
     "name": "stdout",
     "output_type": "stream",
     "text": [
      "67A9198AF21\n"
     ]
    }
   ],
   "source": [
    "# decimal to hexa decimal\n",
    "d=7123498479393\n",
    "h=\"\"\n",
    "while d:\n",
    "    rem=d%16\n",
    "    if rem<10:\n",
    "        h=chr(rem+48)+h\n",
    "        d//=16\n",
    "    else:\n",
    "        h=chr(rem+55) + h\n",
    "        d//=16\n",
    "print(h)"
   ]
  },
  {
   "cell_type": "code",
   "execution_count": null,
   "id": "f5b785fd",
   "metadata": {},
   "outputs": [
    {
     "name": "stdout",
     "output_type": "stream",
     "text": [
      "55  found at index :  4\n"
     ]
    }
   ],
   "source": [
    "# Linear Search \n",
    "def linear(l,item):\n",
    "    for i in range(len(l)):\n",
    "        if l[i]==item:\n",
    "            print(item,\" found at index : \",i)\n",
    "            return\n",
    "        print(\"not found\")\n",
    "l=[1,4,5,3,55,6]\n",
    "item=55\n",
    "linear(l,item)"
   ]
  },
  {
   "cell_type": "code",
   "execution_count": 3,
   "id": "7f35381b",
   "metadata": {},
   "outputs": [
    {
     "data": {
      "text/plain": [
       "2"
      ]
     },
     "execution_count": 3,
     "metadata": {},
     "output_type": "execute_result"
    }
   ],
   "source": [
    " # Finding smallest element in array\n",
    "def smallest(l):\n",
    "    min=l[0]\n",
    "    for i in range(1,len(l)):\n",
    "        if l[i]<min:\n",
    "            min=l[i]\n",
    "    return min\n",
    "arr=[4,5,2,5,6,2,6,4]\n",
    "smallest(arr)"
   ]
  },
  {
   "cell_type": "code",
   "execution_count": null,
   "id": "24843e7b",
   "metadata": {},
   "outputs": [],
   "source": []
  }
 ],
 "metadata": {
  "kernelspec": {
   "display_name": "Python 3",
   "language": "python",
   "name": "python3"
  },
  "language_info": {
   "codemirror_mode": {
    "name": "ipython",
    "version": 3
   },
   "file_extension": ".py",
   "mimetype": "text/x-python",
   "name": "python",
   "nbconvert_exporter": "python",
   "pygments_lexer": "ipython3",
   "version": "3.12.10"
  }
 },
 "nbformat": 4,
 "nbformat_minor": 5
}
