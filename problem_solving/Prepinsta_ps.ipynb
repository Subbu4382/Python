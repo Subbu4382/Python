{
 "cells": [
  {
   "cell_type": "code",
   "execution_count": 5,
   "id": "f57a3e02",
   "metadata": {},
   "outputs": [
    {
     "name": "stdout",
     "output_type": "stream",
     "text": [
      "55\n"
     ]
    }
   ],
   "source": [
    "# Sum of N natural numbers\n",
    "n=10\n",
    "sum=n*(n+1)//2\n",
    "print(sum)"
   ]
  },
  {
   "cell_type": "code",
   "execution_count": null,
   "id": "b6fbd8e7",
   "metadata": {},
   "outputs": [
    {
     "name": "stdout",
     "output_type": "stream",
     "text": [
      "not a prime\n"
     ]
    }
   ],
   "source": [
    "# checking prime\n",
    "n=int(input(\"enter a number\"))\n",
    "count=0\n",
    "for i in range(1,n+1):\n",
    "    if n%i==0:\n",
    "        count+=1\n",
    "if count > 2 or n<2:\n",
    "    print(\"not a prime\")\n",
    "else:\n",
    "    print(\"prime\")"
   ]
  },
  {
   "cell_type": "code",
   "execution_count": null,
   "id": "37384920",
   "metadata": {},
   "outputs": [
    {
     "name": "stdout",
     "output_type": "stream",
     "text": [
      "2 2 2 3 3 239\n"
     ]
    }
   ],
   "source": [
    "# prime factors\n",
    "def primefactors(num):\n",
    "  while num%2==0:\n",
    "     print(2,end=\" \")\n",
    "     num=num//2   # to get clean code \n",
    "  for i in range(3,int(num**0.5+1),2):\n",
    "    while num%i==0:\n",
    "        print(i,end=\" \")\n",
    "        num=num//i\n",
    "  if num>2:\n",
    "     print(num)\n",
    "num=17208\n",
    "primefactors(num)\n",
    "    "
   ]
  },
  {
   "cell_type": "code",
   "execution_count": 42,
   "id": "b2692dc1",
   "metadata": {},
   "outputs": [
    {
     "name": "stdout",
     "output_type": "stream",
     "text": [
      "9\n",
      "9\n",
      "9\n"
     ]
    }
   ],
   "source": [
    "# HCF or GCD of two numbers\n",
    "a,b=27,45\n",
    "while b!=0:\n",
    "    a,b=b,a%b\n",
    "print(a)\n",
    "  # or\n",
    "a,b=27,45\n",
    "smaller=a if a<b else b\n",
    "hcf=1\n",
    "for i in range(1,smaller+1):\n",
    "    if (a%i==0) and (b%i==0):\n",
    "        hcf=i\n",
    "print(hcf)\n",
    "    # or\n",
    "a,b=27,45\n",
    "while a!=b:\n",
    "    if a>b:\n",
    "        a-=b\n",
    "    elif a<b:\n",
    "        b-=a\n",
    "print(a)\n"
   ]
  },
  {
   "cell_type": "code",
   "execution_count": null,
   "id": "057bc0bb",
   "metadata": {},
   "outputs": [],
   "source": []
  }
 ],
 "metadata": {
  "kernelspec": {
   "display_name": "Python 3",
   "language": "python",
   "name": "python3"
  },
  "language_info": {
   "codemirror_mode": {
    "name": "ipython",
    "version": 3
   },
   "file_extension": ".py",
   "mimetype": "text/x-python",
   "name": "python",
   "nbconvert_exporter": "python",
   "pygments_lexer": "ipython3",
   "version": "3.12.10"
  }
 },
 "nbformat": 4,
 "nbformat_minor": 5
}
