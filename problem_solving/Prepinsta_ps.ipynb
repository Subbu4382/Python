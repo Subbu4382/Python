{
 "cells": [
  {
   "cell_type": "code",
   "execution_count": 5,
   "id": "f57a3e02",
   "metadata": {},
   "outputs": [
    {
     "name": "stdout",
     "output_type": "stream",
     "text": [
      "55\n"
     ]
    }
   ],
   "source": [
    "# Sum of N natural numbers\n",
    "n=10\n",
    "sum=n*(n+1)//2\n",
    "print(sum)"
   ]
  },
  {
   "cell_type": "code",
   "execution_count": null,
   "id": "b6fbd8e7",
   "metadata": {},
   "outputs": [
    {
     "name": "stdout",
     "output_type": "stream",
     "text": [
      "not a prime\n"
     ]
    }
   ],
   "source": [
    "# checking prime\n",
    "n=int(input(\"enter a number\"))\n",
    "count=0\n",
    "for i in range(1,n+1):\n",
    "    if n%i==0:\n",
    "        count+=1\n",
    "if count > 2 or n<2:\n",
    "    print(\"not a prime\")\n",
    "else:\n",
    "    print(\"prime\")"
   ]
  },
  {
   "cell_type": "code",
   "execution_count": 31,
   "id": "37384920",
   "metadata": {},
   "outputs": [
    {
     "name": "stdout",
     "output_type": "stream",
     "text": [
      "3 7\n"
     ]
    }
   ],
   "source": [
    "# prime factors\n",
    "def primefactors(num):\n",
    "  for i in range(2,int(num**0.5+1)):\n",
    "    while num%i==0:\n",
    "        print(i,end=\" \")\n",
    "        num=num//i\n",
    "  if num>2:\n",
    "     print(num)\n",
    "num=21\n",
    "primefactors(num)\n",
    "    "
   ]
  },
  {
   "cell_type": "code",
   "execution_count": null,
   "id": "b2692dc1",
   "metadata": {},
   "outputs": [],
   "source": []
  }
 ],
 "metadata": {
  "kernelspec": {
   "display_name": "Python 3",
   "language": "python",
   "name": "python3"
  },
  "language_info": {
   "codemirror_mode": {
    "name": "ipython",
    "version": 3
   },
   "file_extension": ".py",
   "mimetype": "text/x-python",
   "name": "python",
   "nbconvert_exporter": "python",
   "pygments_lexer": "ipython3",
   "version": "3.12.10"
  }
 },
 "nbformat": 4,
 "nbformat_minor": 5
}
