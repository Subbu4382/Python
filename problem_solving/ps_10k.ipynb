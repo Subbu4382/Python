{
 "cells": [
  {
   "cell_type": "code",
   "execution_count": 15,
   "id": "01223d15",
   "metadata": {},
   "outputs": [
    {
     "name": "stdout",
     "output_type": "stream",
     "text": [
      "n\n"
     ]
    }
   ],
   "source": [
    "n=\"N\"\n",
    "if \"A\"<=n<=\"Z\":\n",
    "    print(chr(ord(n)+32))\n",
    "else:\n",
    "    print(n)"
   ]
  },
  {
   "cell_type": "code",
   "execution_count": null,
   "id": "dfd58aa2",
   "metadata": {},
   "outputs": [
    {
     "name": "stdout",
     "output_type": "stream",
     "text": [
      "lower case\n"
     ]
    }
   ],
   "source": [
    "n=input(\"Enter a character\")\n",
    "if 65<=ord(n)<=90:\n",
    "    print(\"upper case\")\n",
    "elif 97<=ord(n)<=122:\n",
    "    print(\"lower case\")\n",
    "else:\n",
    "    print(\"enter valid character\")"
   ]
  },
  {
   "cell_type": "code",
   "execution_count": 21,
   "id": "b43409bc",
   "metadata": {},
   "outputs": [
    {
     "name": "stdout",
     "output_type": "stream",
     "text": [
      "{'s': 115}\n"
     ]
    }
   ],
   "source": [
    "s=input()\n",
    "dct={}\n",
    "if \"A\"<=s<=\"Z\":\n",
    "    print(chr(ord(s)+32))\n",
    "else:\n",
    "    dct[s]=ord(s)\n",
    "    print(dct)\n",
    "    # print(f\"{s} : {ord(s)} \")\n"
   ]
  },
  {
   "cell_type": "code",
   "execution_count": 36,
   "id": "f86cfd57",
   "metadata": {},
   "outputs": [
    {
     "name": "stdout",
     "output_type": "stream",
     "text": [
      "@%@."
     ]
    }
   ],
   "source": [
    "s=\"subbu@%@.com\"\n",
    "for i in s:\n",
    "    if not((65<=ord(i)<=90) or (97<=ord(i)<=122)):\n",
    "        print(i,end=\"\")"
   ]
  },
  {
   "cell_type": "code",
   "execution_count": 5,
   "id": "74113bc1",
   "metadata": {},
   "outputs": [
    {
     "name": "stdout",
     "output_type": "stream",
     "text": [
      "అ ఆ ఇ ఈ ఉ ఊ ఋ ఌ ఍ ఎ ఏ ఐ ఑ ఒ ఓ "
     ]
    }
   ],
   "source": [
    "for i in range(3077,3092):\n",
    "    print(chr(i),end=\" \")\n",
    "    "
   ]
  },
  {
   "cell_type": "code",
   "execution_count": null,
   "id": "1a4284be",
   "metadata": {},
   "outputs": [
    {
     "name": "stdout",
     "output_type": "stream",
     "text": [
      "prime\n"
     ]
    }
   ],
   "source": [
    "n=\"197\"\n",
    "l=[]\n",
    "for i in range(len(n)):\n",
    "    l.append(int(n[i+1:]+n[:i+1]))\n",
    "for i in l:\n",
    "    \n",
    "    for j in range(2,i//2):\n",
    "        prime=True\n",
    "        if i%j==0:\n",
    "            prime=False\n",
    "if prime:\n",
    "    print(\"prime\")\n",
    "else:\n",
    "    print(\"not prime\")"
   ]
  },
  {
   "cell_type": "code",
   "execution_count": 18,
   "id": "f9286823",
   "metadata": {},
   "outputs": [
    {
     "name": "stdout",
     "output_type": "stream",
     "text": [
      "hours :1 minutes :1 seconds :12\n"
     ]
    }
   ],
   "source": [
    "seconds=3672\n",
    "hours=seconds//3600\n",
    "seconds=seconds%3600\n",
    "min=seconds//60\n",
    "seconds=seconds%60\n",
    "print(f\"hours :{hours} minutes :{min} seconds :{seconds}\")"
   ]
  },
  {
   "cell_type": "code",
   "execution_count": null,
   "id": "24c3bd48",
   "metadata": {},
   "outputs": [],
   "source": []
  }
 ],
 "metadata": {
  "kernelspec": {
   "display_name": "Python 3",
   "language": "python",
   "name": "python3"
  },
  "language_info": {
   "codemirror_mode": {
    "name": "ipython",
    "version": 3
   },
   "file_extension": ".py",
   "mimetype": "text/x-python",
   "name": "python",
   "nbconvert_exporter": "python",
   "pygments_lexer": "ipython3",
   "version": "3.12.10"
  }
 },
 "nbformat": 4,
 "nbformat_minor": 5
}
