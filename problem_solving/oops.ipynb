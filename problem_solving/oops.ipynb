{
 "cells": [
  {
   "cell_type": "markdown",
   "id": "95ab376c",
   "metadata": {},
   "source": [
    "# OOPs \n"
   ]
  },
  {
   "cell_type": "markdown",
   "id": "29445c9b",
   "metadata": {},
   "source": [
    "self is used to store the address or point the address of the object and we can use any variable instead of self but mainly self was used by all programmers\n",
    "\n",
    "for every class level methods self is its 1st parameter"
   ]
  },
  {
   "cell_type": "code",
   "execution_count": 1,
   "id": "26dad1e3",
   "metadata": {},
   "outputs": [
    {
     "name": "stdout",
     "output_type": "stream",
     "text": [
      "<__main__.car object at 0x0000021247501100>\n",
      "car was started\n",
      "car has stopped\n"
     ]
    },
    {
     "data": {
      "text/plain": [
       "1"
      ]
     },
     "execution_count": 1,
     "metadata": {},
     "output_type": "execute_result"
    }
   ],
   "source": [
    "# Create a class Car with attributes and methods (start, stop).\n",
    "class car():\n",
    "    driver=1\n",
    "    doors=4\n",
    "    def start(self):\n",
    "      print(f\"car was started\")\n",
    "    def stop(self):\n",
    "      print(\"car has stopped\")\n",
    "car1=car()\n",
    "print(car1)\n",
    "car1.start()\n",
    "car1.stop()\n",
    "car1.driver\n"
   ]
  },
  {
   "cell_type": "code",
   "execution_count": 2,
   "id": "80bc79c1",
   "metadata": {},
   "outputs": [
    {
     "name": "stdout",
     "output_type": "stream",
     "text": [
      "this car contains 4 wheels and black color\n"
     ]
    },
    {
     "data": {
      "text/plain": [
       "4"
      ]
     },
     "execution_count": 2,
     "metadata": {},
     "output_type": "execute_result"
    }
   ],
   "source": [
    "# Create a class Car with attributes and methods (start, stop).\n",
    "class car():\n",
    "    driver=1\n",
    "    def __init__(self,wheels,color):\n",
    "       self.wheels=wheels\n",
    "       self.color=color\n",
    "    def __str__(self):\n",
    "       return f\"this car contains {self.wheels} wheels and {self.color} color\"\n",
    "    def start(self):\n",
    "      print(f\"car was started\")\n",
    "    def stop(self):\n",
    "      print(\"car has stopped\")\n",
    "car2=car(4,\"black\")\n",
    "print(car2)\n",
    "car2.wheels\n"
   ]
  },
  {
   "cell_type": "code",
   "execution_count": 3,
   "id": "7ca3742d",
   "metadata": {},
   "outputs": [
    {
     "name": "stdout",
     "output_type": "stream",
     "text": [
      "Vehical is created with speed 120 and 4 wheels\n",
      "a tata car is created \n",
      "Vehical is created with speed 110 and 2 wheels\n",
      "a n150 bike is created\n"
     ]
    }
   ],
   "source": [
    "# Create a class hierarchy using inheritance (Vehicle → Car, Bike).\n",
    "class vehical():\n",
    "    def __init__(self,speed,wheels):\n",
    "        self.speed=speed\n",
    "        self.wheels=wheels\n",
    "        print(f\"Vehical is created with speed {self.speed} and {self.wheels} wheels\")\n",
    "class car(vehical):\n",
    "    def __init__(self, brand, color,speed,wheels):\n",
    "        self.brand=brand\n",
    "        self.color=color\n",
    "        super().__init__(speed,wheels)\n",
    "        print(f\"a {self.brand} car is created \")\n",
    "    def start(self):\n",
    "        print(\"car has started\")\n",
    "class bike(vehical):\n",
    "    def __init__(self, model,color,speed,wheels):\n",
    "        self.model=model\n",
    "        self.color=color\n",
    "        super().__init__(speed,wheels)\n",
    "        print(f\"a {self.model} bike is created\")\n",
    "car1 =car(speed=120, wheels=4, brand=\"tata\", color=\"black\")\n",
    "car1.brand\n",
    "car1.speed\n",
    "bike1=bike(\"n150\",\"black\",110,2)\n",
    "\n",
    "        \n",
    "        "
   ]
  },
  {
   "cell_type": "code",
   "execution_count": 4,
   "id": "1df70d69",
   "metadata": {},
   "outputs": [],
   "source": [
    "# Use @classmethod and @staticmethod in a class example.\n",
    "class car():\n",
    "    wheels=0\n",
    "    cars_created=0\n",
    "    def __init__(self,brand,year):\n",
    "        self.brand=brand\n",
    "        self.year=year\n",
    "        car.cars_created+=1\n",
    "        print(f\" a new {self.year} {self.brand} has created\")\n",
    "    def info(self,count):\n",
    "        car.wheels=count\n",
    "        print(f\"Info {self.brand}\")\n",
    "    @classmethod\n",
    "    def total_cars(cls):\n",
    "        print(car.cars_created)\n",
    "    @classmethod\n",
    "    def old_car(cls,brand,year):\n",
    "       return cls(brand,year)\n",
    "    @staticmethod\n",
    "    def car_dis():\n",
    "        print(\"this method provides a general discription of car\")\n",
    "    "
   ]
  },
  {
   "cell_type": "code",
   "execution_count": 5,
   "id": "e4e97698",
   "metadata": {},
   "outputs": [
    {
     "name": "stdout",
     "output_type": "stream",
     "text": [
      " a new 2025 tesla has created\n",
      " a new 2024 rangrover has created\n",
      "Info tesla\n",
      "2\n",
      " a new 2018 nano has created\n",
      "this method provides a general discription of car\n"
     ]
    }
   ],
   "source": [
    "car1=car(\"tesla\",2025)\n",
    "car2=car(\"rangrover\",2024)\n",
    "car1.info(4)\n",
    "car1.wheels\n",
    "car1.total_cars()\n",
    "car1.old_car(\"nano\",2018)\n",
    "car1.car_dis()"
   ]
  },
  {
   "cell_type": "code",
   "execution_count": 6,
   "id": "6d9e2dc2",
   "metadata": {},
   "outputs": [
    {
     "data": {
      "text/plain": [
       "12"
      ]
     },
     "execution_count": 6,
     "metadata": {},
     "output_type": "execute_result"
    }
   ],
   "source": [
    "# Demonstrate method overloading using default arguments.\n",
    "class math():\n",
    "    def add(self,a,b):\n",
    "        return a+b\n",
    "    def add(self,a,b,c=0):\n",
    "        return a+b+c\n",
    "math1=math()\n",
    "math1.add(2,3)\n",
    "math1.add(1,4,7)\n",
    "     "
   ]
  },
  {
   "cell_type": "code",
   "execution_count": 7,
   "id": "b497b336",
   "metadata": {},
   "outputs": [
    {
     "name": "stdout",
     "output_type": "stream",
     "text": [
      "it is a mobile display\n"
     ]
    }
   ],
   "source": [
    "# Demonstrate method overriding using inheritance.\n",
    "class laptop():\n",
    "    def display(self):\n",
    "        print(\"it is a laptop display\")\n",
    "class mobile(laptop):\n",
    "    def display(self):\n",
    "        print(\"it is a mobile display\")\n",
    "        # super().display()\n",
    "mob=mobile()\n",
    "mob.display()"
   ]
  },
  {
   "cell_type": "code",
   "execution_count": 8,
   "id": "e530f5b1",
   "metadata": {},
   "outputs": [
    {
     "name": "stdout",
     "output_type": "stream",
     "text": [
      "Account holder subbu and Account number 12345\n",
      "amount added sucessufully\n",
      "current balance 5500 \n",
      "insuffcient funds\n",
      "withdraw sucessful\n",
      "current balance 5000\n"
     ]
    }
   ],
   "source": [
    "# Create a bank account class with deposit and withdraw methods.\n",
    "class bank_acc():\n",
    "    def __init__(self,acc,name,balance):\n",
    "        self.acc=acc\n",
    "        self.name=name\n",
    "        self.balance=balance\n",
    "        print(f\"Account holder {self.name} and Account number {self.acc}\")\n",
    "    def deposit(self,amount):\n",
    "        if amount>0:\n",
    "            self.balance+=amount\n",
    "        print(\"amount added sucessufully\")\n",
    "        print(f\"current balance {self.balance} \")\n",
    "    def withdraw(self,amount):\n",
    "        if self.balance<amount:\n",
    "            print(\"insuffcient funds\")\n",
    "        elif amount<=0:\n",
    "            print(\"enter a valid amount to withdraw\")\n",
    "        elif amount>0:\n",
    "            self.balance-=amount\n",
    "            print(\"withdraw sucessful\")\n",
    "            print(f\"current balance {self.balance}\")\n",
    "acc=bank_acc(12345,\"subbu\",5000)\n",
    "acc.deposit(500)\n",
    "acc.withdraw(8000)\n",
    "acc.withdraw(500)\n",
    "    \n",
    "    "
   ]
  },
  {
   "cell_type": "code",
   "execution_count": 9,
   "id": "8ac59ac4",
   "metadata": {},
   "outputs": [
    {
     "name": "stdout",
     "output_type": "stream",
     "text": [
      "enter upi id for payment\n",
      "recharge completed\n"
     ]
    }
   ],
   "source": [
    "# Show encapsulation using private variables.\n",
    "class recharge():\n",
    "    __mobileno=9912575847\n",
    "    plan=859\n",
    "    def __payment(self,upi):\n",
    "        self.upi=upi\n",
    "        print(f\"enter upi id for payment\")\n",
    "    def done(self):\n",
    "        print(\"recharge completed\")\n",
    "jio=recharge()\n",
    "jio.plan\n",
    "# jio.__mobileno\n",
    "jio._recharge__mobileno\n",
    "# jio.__payment()\n",
    "jio._recharge__payment(\"subbu@1234\")\n",
    "jio.done()"
   ]
  },
  {
   "cell_type": "code",
   "execution_count": 10,
   "id": "c2794a50",
   "metadata": {},
   "outputs": [
    {
     "name": "stdout",
     "output_type": "stream",
     "text": [
      "a male person is speaking\n",
      "None\n",
      "a child can speak\n",
      "None\n"
     ]
    }
   ],
   "source": [
    "# Demonstrate polymorphism using duck typing.\n",
    "class male():\n",
    "    def speak(self):\n",
    "        print(\"a male person is speaking\")\n",
    "class female():\n",
    "    def speak(self):\n",
    "        print(\"a female can speak\")\n",
    "class child():\n",
    "    def speak(self):\n",
    "        print(\"a child can speak\")\n",
    "def action(human):\n",
    "    print(human.speak())\n",
    "Male=male()\n",
    "Female=female()\n",
    "Child=child()\n",
    "\n",
    "action(Male)\n",
    "action(Child)"
   ]
  },
  {
   "cell_type": "code",
   "execution_count": 11,
   "id": "2c8eeffb",
   "metadata": {},
   "outputs": [
    {
     "name": "stdout",
     "output_type": "stream",
     "text": [
      "A init\n",
      "B init\n",
      "A init\n",
      "C init\n",
      "D init\n"
     ]
    }
   ],
   "source": [
    "class A:\n",
    "    def __init__(self):\n",
    "        print(\"A init\")\n",
    "\n",
    "class B(A):\n",
    "    def __init__(self):\n",
    "        A.__init__(self)  # calling A directly\n",
    "        print(\"B init\")\n",
    "\n",
    "class C(A):\n",
    "    def __init__(self):\n",
    "        A.__init__(self)  # calling A directly\n",
    "        print(\"C init\")\n",
    "\n",
    "class D(B, C):\n",
    "    def __init__(self):\n",
    "        B.__init__(self)\n",
    "        C.__init__(self)\n",
    "        print(\"D init\")\n",
    "\n",
    "obj = D()\n"
   ]
  },
  {
   "cell_type": "code",
   "execution_count": 12,
   "id": "a9e741a6",
   "metadata": {},
   "outputs": [
    {
     "name": "stdout",
     "output_type": "stream",
     "text": [
      "A init\n",
      "C init\n",
      "B init\n",
      "D init\n"
     ]
    }
   ],
   "source": [
    "class A:\n",
    "    def __init__(self):\n",
    "        print(\"A init\")\n",
    "\n",
    "class B(A):\n",
    "    def __init__(self):\n",
    "        super().__init__()  # MRO will handle the next class\n",
    "        print(\"B init\")\n",
    "\n",
    "class C(A):\n",
    "    def __init__(self):\n",
    "        super().__init__()\n",
    "        print(\"C init\")\n",
    "\n",
    "class D(B, C):\n",
    "    def __init__(self):\n",
    "        super().__init__()  # Calls B, then C, then A, no repeats\n",
    "        print(\"D init\")\n",
    "\n",
    "obj = D()\n"
   ]
  },
  {
   "cell_type": "code",
   "execution_count": 11,
   "id": "f7701f53",
   "metadata": {},
   "outputs": [
    {
     "name": "stdout",
     "output_type": "stream",
     "text": [
      "parent constructor\n",
      "child constructor\n"
     ]
    }
   ],
   "source": [
    "class hello:\n",
    "    def __init__(self,a,b):\n",
    "        self.a=a\n",
    "        self.b=b\n",
    "        print(\"parent constructor\")\n",
    "class child(hello):\n",
    "    def __init__(self,a,b):\n",
    "        # hello.__init__(self,a,b)\n",
    "        super().__init__(a, b)\n",
    "        print(\"child constructor\")\n",
    "c1=child(5,6)"
   ]
  },
  {
   "cell_type": "code",
   "execution_count": null,
   "id": "b1399abd",
   "metadata": {},
   "outputs": [
    {
     "name": "stdout",
     "output_type": "stream",
     "text": [
      "This is child method\n"
     ]
    }
   ],
   "source": [
    "class Parent:\n",
    "    def show(self):\n",
    "        # ❌ Cannot call child method directly\n",
    "        self.child_method()\n",
    "\n",
    "class Child(Parent):\n",
    "    a=10\n",
    "    def child_method(self):\n",
    "        print(\"This is child method\")\n",
    "\n",
    "c = Child()\n",
    "c.show()\n"
   ]
  },
  {
   "cell_type": "code",
   "execution_count": 28,
   "id": "5939f012",
   "metadata": {},
   "outputs": [
    {
     "name": "stdout",
     "output_type": "stream",
     "text": [
      "Vehical is created with speed  and wheels\n",
      "a tata car is created \n",
      "car has started 45\n"
     ]
    }
   ],
   "source": [
    "class vehical():\n",
    "    def __init__(self,speed,wheels):\n",
    "        self.__speed=speed\n",
    "        self._wheels=wheels\n",
    "        print(f\"Vehical is created with speed  and wheels\")\n",
    "    def start(self):\n",
    "        print(\"car has started\",self.__speed)\n",
    "class car(vehical):\n",
    "    def __init__(self, brand, color,speed,wheels):\n",
    "        self.brand=brand\n",
    "        self.color=color\n",
    "        super().__init__(speed,wheels)\n",
    "        print(f\"a {self.brand} car is created \")\n",
    "    def stop(self):\n",
    "        print(\"car has started\",self._wheels)\n",
    "c1=car(\"tata\",\"black\",45,4)\n",
    "c1.start()"
   ]
  },
  {
   "cell_type": "code",
   "execution_count": null,
   "id": "ffa3c118",
   "metadata": {},
   "outputs": [],
   "source": []
  }
 ],
 "metadata": {
  "kernelspec": {
   "display_name": "Python 3",
   "language": "python",
   "name": "python3"
  },
  "language_info": {
   "codemirror_mode": {
    "name": "ipython",
    "version": 3
   },
   "file_extension": ".py",
   "mimetype": "text/x-python",
   "name": "python",
   "nbconvert_exporter": "python",
   "pygments_lexer": "ipython3",
   "version": "3.12.10"
  }
 },
 "nbformat": 4,
 "nbformat_minor": 5
}
