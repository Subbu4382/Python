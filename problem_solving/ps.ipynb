{
 "cells": [
  {
   "cell_type": "code",
   "execution_count": 4,
   "id": "5e30dbc2",
   "metadata": {},
   "outputs": [
    {
     "name": "stdout",
     "output_type": "stream",
     "text": [
      "maynamharbus\n",
      "maynamharbus\n"
     ]
    }
   ],
   "source": [
    "#  Reverse a string without slicing.\n",
    "s='subrahmanyam'\n",
    "res=''\n",
    "for i in s:\n",
    "    res=i+res\n",
    "print(res)\n",
    "res=s[::-1]\n",
    "print(res)"
   ]
  },
  {
   "cell_type": "code",
   "execution_count": 14,
   "id": "4f9d5bc1",
   "metadata": {},
   "outputs": [
    {
     "name": "stdout",
     "output_type": "stream",
     "text": [
      "120\n"
     ]
    },
    {
     "data": {
      "text/plain": [
       "120"
      ]
     },
     "execution_count": 14,
     "metadata": {},
     "output_type": "execute_result"
    }
   ],
   "source": [
    "# Find the factorial of a number (iterative).\n",
    "num=5\n",
    "fact=1\n",
    "for i in range(1,num+1):\n",
    "    fact=fact*i\n",
    "print(fact)\n",
    "\n",
    "        # or\n",
    "def fact(n):\n",
    "    if n==0 or n==1:\n",
    "        return 1\n",
    "    else:\n",
    "       return n *fact(n-1)\n",
    "fact(5)"
   ]
  },
  {
   "cell_type": "code",
   "execution_count": 17,
   "id": "9ec65e11",
   "metadata": {},
   "outputs": [
    {
     "name": "stdout",
     "output_type": "stream",
     "text": [
      "palindrom\n"
     ]
    }
   ],
   "source": [
    "# Check if a number is a palindrome.\n",
    "num=int(input()) #153\n",
    "temp=num\n",
    "rev=0\n",
    "while num:\n",
    "    d=num%10\n",
    "    rev=rev*10 + d\n",
    "    num=num//10\n",
    "if temp==rev:\n",
    "    print(\"palindrom\")\n",
    "else:\n",
    "    print(\"not a palindrom\")\n",
    "    "
   ]
  },
  {
   "cell_type": "code",
   "execution_count": 18,
   "id": "6b7fd5ff",
   "metadata": {},
   "outputs": [
    {
     "name": "stdout",
     "output_type": "stream",
     "text": [
      "4\n"
     ]
    }
   ],
   "source": [
    "# Count the number of vowels in a given string.\n",
    "s='subrahmanyam'\n",
    "count=0\n",
    "for i in s:\n",
    "    if i in 'aeiouAEIOU':\n",
    "        count+=1\n",
    "print(count)"
   ]
  },
  {
   "cell_type": "code",
   "execution_count": 27,
   "id": "4793b6be",
   "metadata": {},
   "outputs": [
    {
     "name": "stdout",
     "output_type": "stream",
     "text": [
      "largest : 55\n",
      "[1, 2, 4, 1, 3, 6, 4, 6, 3, 5, 55]\n"
     ]
    }
   ],
   "source": [
    "# Find the largest number in a list without using max()\n",
    "l=[1,2,4,6,1,3,55,4,6,3,5]\n",
    "temp=l.copy()\n",
    "for i in range(len(l)-1):\n",
    "    if l[i]>l[i+1]:\n",
    "        l[i+1],l[i]=l[i],l[i+1]\n",
    "print('largest :',l[-1])\n",
    "print(l)\n"
   ]
  },
  {
   "cell_type": "code",
   "execution_count": 29,
   "id": "712f04d0",
   "metadata": {},
   "outputs": [
    {
     "name": "stdout",
     "output_type": "stream",
     "text": [
      "smallest : 1\n",
      "[1, 1, 2, 3, 3, 4, 4, 5, 6, 6, 55]\n"
     ]
    }
   ],
   "source": [
    "# Find the smallest number in a list without using min().\n",
    "l=[1,2,4,6,1,3,55,4,6,3,5]\n",
    "for i in range(len(l)):\n",
    "    for j in range(len(l)-1):\n",
    "        if l[j]>l[j+1]:\n",
    "            l[j],l[j+1]=l[j+1],l[j]\n",
    "print(\"smallest :\",l[0])\n",
    "print(l)"
   ]
  },
  {
   "cell_type": "code",
   "execution_count": 32,
   "id": "3d1b9a9e",
   "metadata": {},
   "outputs": [
    {
     "name": "stdout",
     "output_type": "stream",
     "text": [
      "[1, 2, 4, 6, 3, 55, 5]\n"
     ]
    }
   ],
   "source": [
    "# Remove duplicates from a list while preserving order.\n",
    "l=[1,2,4,6,1,3,55,4,6,3,5]\n",
    "res=[]\n",
    "for i in l:\n",
    "    if i not in res:\n",
    "        res.append(i)\n",
    "print(res)"
   ]
  },
  {
   "cell_type": "code",
   "execution_count": 48,
   "id": "cb6c51b2",
   "metadata": {},
   "outputs": [
    {
     "name": "stdout",
     "output_type": "stream",
     "text": [
      "{'id': 5, 'mail': 'ausdb', 'name': 's', 'age': 23}\n"
     ]
    }
   ],
   "source": [
    "# Merge two dictionaries.\n",
    "d1={\"name\":\"s\",\"age\":23}\n",
    "d2={\"id\":5,\"mail\":\"ausdb\"}\n",
    "for i in d1:\n",
    "    d2[i]=d1[i]\n",
    "print(d2)"
   ]
  },
  {
   "cell_type": "code",
   "execution_count": null,
   "id": "4fadfa85",
   "metadata": {},
   "outputs": [],
   "source": []
  },
  {
   "cell_type": "code",
   "execution_count": null,
   "id": "1e97fbcc",
   "metadata": {},
   "outputs": [],
   "source": []
  }
 ],
 "metadata": {
  "kernelspec": {
   "display_name": "Python 3",
   "language": "python",
   "name": "python3"
  },
  "language_info": {
   "codemirror_mode": {
    "name": "ipython",
    "version": 3
   },
   "file_extension": ".py",
   "mimetype": "text/x-python",
   "name": "python",
   "nbconvert_exporter": "python",
   "pygments_lexer": "ipython3",
   "version": "3.12.10"
  }
 },
 "nbformat": 4,
 "nbformat_minor": 5
}
