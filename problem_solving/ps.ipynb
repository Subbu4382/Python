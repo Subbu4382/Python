{
 "cells": [
  {
   "cell_type": "code",
   "execution_count": 4,
   "id": "5e30dbc2",
   "metadata": {},
   "outputs": [
    {
     "name": "stdout",
     "output_type": "stream",
     "text": [
      "maynamharbus\n",
      "maynamharbus\n"
     ]
    }
   ],
   "source": [
    "#  Reverse a string without slicing.\n",
    "s='subrahmanyam'\n",
    "res=''\n",
    "for i in s:\n",
    "    res=i+res\n",
    "print(res)\n",
    "res=s[::-1]\n",
    "print(res)"
   ]
  },
  {
   "cell_type": "code",
   "execution_count": 14,
   "id": "4f9d5bc1",
   "metadata": {},
   "outputs": [
    {
     "name": "stdout",
     "output_type": "stream",
     "text": [
      "120\n"
     ]
    },
    {
     "data": {
      "text/plain": [
       "120"
      ]
     },
     "execution_count": 14,
     "metadata": {},
     "output_type": "execute_result"
    }
   ],
   "source": [
    "# Find the factorial of a number (iterative).\n",
    "num=5\n",
    "fact=1\n",
    "for i in range(1,num+1):\n",
    "    fact=fact*i\n",
    "print(fact)\n",
    "\n",
    "        # or\n",
    "def fact(n):\n",
    "    if n==0 or n==1:\n",
    "        return 1\n",
    "    else:\n",
    "       return n *fact(n-1)\n",
    "fact(5)"
   ]
  },
  {
   "cell_type": "code",
   "execution_count": 17,
   "id": "9ec65e11",
   "metadata": {},
   "outputs": [
    {
     "name": "stdout",
     "output_type": "stream",
     "text": [
      "palindrom\n"
     ]
    }
   ],
   "source": [
    "# Check if a number is a palindrome.\n",
    "num=int(input()) #153\n",
    "temp=num\n",
    "rev=0\n",
    "while num:\n",
    "    d=num%10\n",
    "    rev=rev*10 + d\n",
    "    num=num//10\n",
    "if temp==rev:\n",
    "    print(\"palindrom\")\n",
    "else:\n",
    "    print(\"not a palindrom\")\n",
    "    "
   ]
  },
  {
   "cell_type": "code",
   "execution_count": 18,
   "id": "6b7fd5ff",
   "metadata": {},
   "outputs": [
    {
     "name": "stdout",
     "output_type": "stream",
     "text": [
      "4\n"
     ]
    }
   ],
   "source": [
    "# Count the number of vowels in a given string.\n",
    "s='subrahmanyam'\n",
    "count=0\n",
    "for i in s:\n",
    "    if i in 'aeiouAEIOU':\n",
    "        count+=1\n",
    "print(count)"
   ]
  },
  {
   "cell_type": "code",
   "execution_count": 27,
   "id": "4793b6be",
   "metadata": {},
   "outputs": [
    {
     "name": "stdout",
     "output_type": "stream",
     "text": [
      "largest : 55\n",
      "[1, 2, 4, 1, 3, 6, 4, 6, 3, 5, 55]\n"
     ]
    }
   ],
   "source": [
    "# Find the largest number in a list without using max()\n",
    "l=[1,2,4,6,1,3,55,4,6,3,5]\n",
    "temp=l.copy()\n",
    "for i in range(len(l)-1):\n",
    "    if l[i]>l[i+1]:\n",
    "        l[i+1],l[i]=l[i],l[i+1]\n",
    "print('largest :',l[-1])\n",
    "print(l)\n"
   ]
  },
  {
   "cell_type": "code",
   "execution_count": 29,
   "id": "712f04d0",
   "metadata": {},
   "outputs": [
    {
     "name": "stdout",
     "output_type": "stream",
     "text": [
      "smallest : 1\n",
      "[1, 1, 2, 3, 3, 4, 4, 5, 6, 6, 55]\n"
     ]
    }
   ],
   "source": [
    "# Find the smallest number in a list without using min().\n",
    "l=[1,2,4,6,1,3,55,4,6,3,5]\n",
    "for i in range(len(l)):\n",
    "    for j in range(len(l)-1):\n",
    "        if l[j]>l[j+1]:\n",
    "            l[j],l[j+1]=l[j+1],l[j]\n",
    "print(\"smallest :\",l[0])\n",
    "print(l)"
   ]
  },
  {
   "cell_type": "code",
   "execution_count": 32,
   "id": "3d1b9a9e",
   "metadata": {},
   "outputs": [
    {
     "name": "stdout",
     "output_type": "stream",
     "text": [
      "[1, 2, 4, 6, 3, 55, 5]\n"
     ]
    }
   ],
   "source": [
    "# Remove duplicates from a list while preserving order.\n",
    "l=[1,2,4,6,1,3,55,4,6,3,5]\n",
    "res=[]\n",
    "for i in l:\n",
    "    if i not in res:\n",
    "        res.append(i)\n",
    "print(res)"
   ]
  },
  {
   "cell_type": "code",
   "execution_count": 48,
   "id": "cb6c51b2",
   "metadata": {},
   "outputs": [
    {
     "name": "stdout",
     "output_type": "stream",
     "text": [
      "{'id': 5, 'mail': 'ausdb', 'name': 's', 'age': 23}\n"
     ]
    }
   ],
   "source": [
    "# Merge two dictionaries.\n",
    "d1={\"name\":\"s\",\"age\":23}\n",
    "d2={\"id\":5,\"mail\":\"ausdb\"}\n",
    "for i in d1:\n",
    "    d2[i]=d1[i]\n",
    "print(d2)"
   ]
  },
  {
   "cell_type": "code",
   "execution_count": 65,
   "id": "4fadfa85",
   "metadata": {},
   "outputs": [
    {
     "name": "stdout",
     "output_type": "stream",
     "text": [
      "a3m2\n"
     ]
    }
   ],
   "source": [
    "# Count the frequency of each character in a string.\n",
    "s=\"subrahmanyam\"\n",
    "res=\"\"\n",
    "for i in s:\n",
    "    count=0\n",
    "    if i not in res:\n",
    "        for j in s:\n",
    "            if i==j:\n",
    "                count+=1\n",
    "        # res+=i+str(count)\n",
    "        if count>1:\n",
    "            res+=i+str(count)\n",
    "print(res)"
   ]
  },
  {
   "cell_type": "code",
   "execution_count": 66,
   "id": "1e97fbcc",
   "metadata": {},
   "outputs": [
    {
     "name": "stdout",
     "output_type": "stream",
     "text": [
      "20 10\n"
     ]
    }
   ],
   "source": [
    "# Swap two numbers without a temporary variable.\n",
    "a=10\n",
    "b=20\n",
    "a,b=b,a\n",
    "print(a,b)"
   ]
  },
  {
   "cell_type": "code",
   "execution_count": 68,
   "id": "29133d5e",
   "metadata": {},
   "outputs": [
    {
     "name": "stdout",
     "output_type": "stream",
     "text": [
      "0b1010\n"
     ]
    }
   ],
   "source": [
    "# Convert a given integer to binary without using bin()\n",
    "a=10\n",
    "b=bin(a)\n",
    "print(b)"
   ]
  },
  {
   "cell_type": "code",
   "execution_count": 106,
   "id": "b85757e1",
   "metadata": {},
   "outputs": [
    {
     "name": "stdout",
     "output_type": "stream",
     "text": [
      "1111011\n"
     ]
    }
   ],
   "source": [
    "# Convert a given integer to binary without using bin()\n",
    "n=123\n",
    "binary=''\n",
    "while n:\n",
    "    rem=n%2\n",
    "    binary=str(rem)+binary\n",
    "    n=n//2\n",
    "print(binary)\n"
   ]
  },
  {
   "cell_type": "code",
   "execution_count": 82,
   "id": "829c5b87",
   "metadata": {},
   "outputs": [
    {
     "name": "stdout",
     "output_type": "stream",
     "text": [
      "tsuj gnivlos elpmis nohtyp smelborp \n"
     ]
    }
   ],
   "source": [
    "# Reverse words in a sentence while keeping their order.\n",
    "s='just solving simple python problems'\n",
    "words=s.split()\n",
    "l=''\n",
    "for word in words:\n",
    "    res=''\n",
    "    for i in word:\n",
    "        res=i+res\n",
    "    l+=res +\" \"\n",
    "print(l)\n"
   ]
  },
  {
   "cell_type": "code",
   "execution_count": 84,
   "id": "e49f5577",
   "metadata": {},
   "outputs": [
    {
     "name": "stdout",
     "output_type": "stream",
     "text": [
      "anagram\n"
     ]
    }
   ],
   "source": [
    "# Check if two strings are anagrams.\n",
    "s1='silent'\n",
    "s2='listen'\n",
    "an=False\n",
    "if len(s1)==len(s2):\n",
    "    for i in s1:\n",
    "        if i in s2:\n",
    "            an=True\n",
    "if an:\n",
    "    print(\"anagram\")\n",
    "else:\n",
    "    print(\"not anagram\")"
   ]
  },
  {
   "cell_type": "code",
   "execution_count": 101,
   "id": "0e7df442",
   "metadata": {},
   "outputs": [
    {
     "name": "stdout",
     "output_type": "stream",
     "text": [
      "string contains only digits  12985\n"
     ]
    }
   ],
   "source": [
    "# Check if a string contains only digits.\n",
    "s=\"12985\"\n",
    "found=True\n",
    "for i in s:\n",
    "    if not(48<=ord(i)<=57):\n",
    "        found=False\n",
    "if found:\n",
    "    print(\"string contains only digits \",s)\n",
    "else:\n",
    "    print(\"having charecters\")"
   ]
  },
  {
   "cell_type": "code",
   "execution_count": 103,
   "id": "1c156d65",
   "metadata": {},
   "outputs": [
    {
     "name": "stdout",
     "output_type": "stream",
     "text": [
      "s%20u%20b%20b%20u\n"
     ]
    }
   ],
   "source": [
    "# Replace all spaces with %20 (URLify).\n",
    "s=\"s u b b u\"\n",
    "res=''\n",
    "for i in s:\n",
    "    if i==\" \":\n",
    "        res+=\"%20\"\n",
    "    else:\n",
    "        res+=i\n",
    "print(res)"
   ]
  },
  {
   "cell_type": "code",
   "execution_count": 114,
   "id": "2c94b1dd",
   "metadata": {},
   "outputs": [
    {
     "name": "stdout",
     "output_type": "stream",
     "text": [
      "b\n"
     ]
    }
   ],
   "source": [
    "# Find the first non-repeating character in a string.\n",
    "s='ssuubra'\n",
    "for i in range(len(s)):\n",
    "    repeat=False\n",
    "    for j in range(len(s)):\n",
    "        if i!=j and s[i]==s[j]:\n",
    "            repeat=True\n",
    "            # break\n",
    "    if repeat==False:\n",
    "       print(s[i])\n",
    "       break\n"
   ]
  },
  {
   "cell_type": "code",
   "execution_count": 120,
   "id": "cba53615",
   "metadata": {},
   "outputs": [
    {
     "name": "stdout",
     "output_type": "stream",
     "text": [
      "a3b2c1\n"
     ]
    }
   ],
   "source": [
    "# Compress a string (e.g., \"aaabbc\" → \"a3b2c1\").\n",
    "s=\"aaabbc\"\n",
    "res=''\n",
    "count=1\n",
    "for i in range(len(s)-1):\n",
    "    if s[i]==s[i+1]:\n",
    "        count+=1\n",
    "    else:\n",
    "       res+=s[i]+str(count)\n",
    "       count=1\n",
    "res+=s[-1]+str(count)\n",
    "print(res)\n"
   ]
  },
  {
   "cell_type": "code",
   "execution_count": 21,
   "id": "24ce8f41",
   "metadata": {},
   "outputs": [
    {
     "name": "stdout",
     "output_type": "stream",
     "text": [
      "['abc@gmail.com']\n"
     ]
    }
   ],
   "source": [
    "# Validate an email using regex.\n",
    "import re\n",
    "s=\"my mail id is abc@gmail.com\"\n",
    "p=re.compile(r\"\\w+@\\w+\\.+\\w{2,}\")\n",
    "r=p.findall(s)\n",
    "print(r)"
   ]
  },
  {
   "cell_type": "code",
   "execution_count": 27,
   "id": "f4df1edf",
   "metadata": {},
   "outputs": [
    {
     "name": "stdout",
     "output_type": "stream",
     "text": [
      "lo\n"
     ]
    }
   ],
   "source": [
    "# Longest common prefix among a list of strings.\n",
    "l=[\"love\",\"loveyou\",\"load\"]\n",
    "prefix=''\n",
    "stop=False\n",
    "for i in range(len(l[0])):\n",
    "    char=l[0][i]\n",
    "    for word in l[1:]:\n",
    "        if i>=len(word) or word[i]!=char:\n",
    "            stop=True\n",
    "            break\n",
    "    if stop:\n",
    "        break      \n",
    "    prefix+=char\n",
    "print(prefix)"
   ]
  },
  {
   "cell_type": "code",
   "execution_count": 39,
   "id": "0f667021",
   "metadata": {},
   "outputs": [
    {
     "name": "stdout",
     "output_type": "stream",
     "text": [
      "['p', 'py', 'pyt', 'pyth', 'pytho', 'python', 'y', 'yt', 'yth', 'ytho', 'ython', 't', 'th', 'tho', 'thon', 'h', 'ho', 'hon', 'o', 'on', 'n']\n"
     ]
    }
   ],
   "source": [
    "# Find all substrings of a given string.\n",
    "s='python'\n",
    "ls=[]\n",
    "for i in range(len(s)):\n",
    "    for j in range(i+1,len(s)+1):\n",
    "        ls.append(s[i:j])\n",
    "print(ls)\n"
   ]
  },
  {
   "cell_type": "code",
   "execution_count": 51,
   "id": "67838f80",
   "metadata": {},
   "outputs": [
    {
     "name": "stdout",
     "output_type": "stream",
     "text": [
      "['madam', 'ada', 'ama', 'malayalam', 'ala', 'alayala', 'layal', 'aya', 'ala']\n",
      "malayalam\n",
      "malayalam\n"
     ]
    }
   ],
   "source": [
    "# Find the longest palindrome in a string.\n",
    "s='madamalayalam'\n",
    "l=[]\n",
    "for i in range(len(s)):\n",
    "    for j in range(i+2,len(s)+1):\n",
    "        sub=s[i:j]\n",
    "        if sub==sub[::-1]:\n",
    "            l.append(sub)\n",
    "print(l)\n",
    "longest=l[0]\n",
    "for i in l:\n",
    "    if len(i)>len(longest):\n",
    "        longest=i\n",
    "print(longest)\n",
    "\n",
    "            # or\n",
    "\n",
    "longest=''\n",
    "for i in range(len(s)):\n",
    "    for j in range(i+2,len(s)+1):\n",
    "        sub=s[i:j]\n",
    "        if sub==sub[::-1] and len(sub)>len(longest):\n",
    "            longest=sub\n",
    "print(longest)"
   ]
  },
  {
   "cell_type": "code",
   "execution_count": null,
   "id": "bf4b4364",
   "metadata": {},
   "outputs": [],
   "source": [
    "\n"
   ]
  },
  {
   "cell_type": "code",
   "execution_count": null,
   "id": "e21ee86a",
   "metadata": {},
   "outputs": [],
   "source": []
  }
 ],
 "metadata": {
  "kernelspec": {
   "display_name": "Python 3",
   "language": "python",
   "name": "python3"
  },
  "language_info": {
   "codemirror_mode": {
    "name": "ipython",
    "version": 3
   },
   "file_extension": ".py",
   "mimetype": "text/x-python",
   "name": "python",
   "nbconvert_exporter": "python",
   "pygments_lexer": "ipython3",
   "version": "3.12.10"
  }
 },
 "nbformat": 4,
 "nbformat_minor": 5
}
