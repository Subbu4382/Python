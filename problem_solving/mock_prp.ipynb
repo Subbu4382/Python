{
 "cells": [
  {
   "cell_type": "code",
   "execution_count": null,
   "id": "216bc3f1",
   "metadata": {},
   "outputs": [],
   "source": [
    "# Write a program to check whether a given number is even or odd (without % operator).\n",
    "n=10\n",
    "if n&1==0:print(\"even\")\n",
    "else:print(\"odd\")"
   ]
  },
  {
   "cell_type": "code",
   "execution_count": null,
   "id": "5631a625",
   "metadata": {},
   "outputs": [],
   "source": [
    "#Generate the Fibonacci sequence up to n terms.\n",
    "a,b=0,1\n",
    "n=int(input())\n",
    "for i in range(n):\n",
    "    c=a+b\n",
    "    a=b\n",
    "    b=c\n",
    "    print(c,end=\" \")"
   ]
  },
  {
   "cell_type": "code",
   "execution_count": null,
   "id": "425606a9",
   "metadata": {},
   "outputs": [],
   "source": [
    "# Reverse a given integer number (e.g., 123 → 321).\n",
    "n=123\n",
    "res=0\n",
    "while n:\n",
    "    d=n%10\n",
    "    res=res*10 +d\n",
    "    n//=10\n",
    "print(res)"
   ]
  },
  {
   "cell_type": "code",
   "execution_count": null,
   "id": "a3f35644",
   "metadata": {},
   "outputs": [],
   "source": [
    "# Print the multiplication table of a given number.\n",
    "num=19\n",
    "for i in range(1,20):\n",
    "    print(num ,\"*\", i, \"=\",num*i)"
   ]
  },
  {
   "cell_type": "code",
   "execution_count": 22,
   "id": "29af7fb8",
   "metadata": {},
   "outputs": [
    {
     "name": "stdout",
     "output_type": "stream",
     "text": [
      "120\n"
     ]
    }
   ],
   "source": [
    "# Find the factorial of a number using loops.\n",
    "n=5\n",
    "fact=1\n",
    "for i in range(1,n+1):\n",
    "    fact=fact*i\n",
    "print(fact)"
   ]
  },
  {
   "cell_type": "code",
   "execution_count": null,
   "id": "b21cca00",
   "metadata": {},
   "outputs": [
    {
     "name": "stdout",
     "output_type": "stream",
     "text": [
      "*\n",
      "**\n",
      "***\n",
      "****\n",
      "*\n",
      "**\n",
      "***\n",
      "****\n"
     ]
    }
   ],
   "source": [
    "# *\n",
    "# **\n",
    "# ***\n",
    "# ****\n",
    "rows=4\n",
    "for i in range(1,rows+1):\n",
    "    res=''\n",
    "    for j in range(1,i+1):\n",
    "        res+=\"*\"\n",
    "    print(res)\n",
    "    #  or\n",
    "for i in range(1,rows+1):\n",
    "    cols=i\n",
    "    print(\"*\"*cols)"
   ]
  },
  {
   "cell_type": "code",
   "execution_count": 34,
   "id": "f17c953b",
   "metadata": {},
   "outputs": [
    {
     "name": "stdout",
     "output_type": "stream",
     "text": [
      "4\n"
     ]
    }
   ],
   "source": [
    "# Count the number of digits in a given number.\n",
    "n=1234\n",
    "cout=0\n",
    "while n:\n",
    "    d=n%10\n",
    "    cout+=1\n",
    "    n//=10\n",
    "print(cout)"
   ]
  },
  {
   "cell_type": "code",
   "execution_count": 35,
   "id": "753cbcc8",
   "metadata": {},
   "outputs": [
    {
     "name": "stdout",
     "output_type": "stream",
     "text": [
      "10\n"
     ]
    }
   ],
   "source": [
    "# Find the sum of digits of a number (e.g., 123 → 6).\n",
    "n=1234\n",
    "sum=0\n",
    "while n:\n",
    "    d=n%10\n",
    "    sum+=d\n",
    "    n//=10\n",
    "print(sum)"
   ]
  },
  {
   "cell_type": "code",
   "execution_count": 48,
   "id": "38798422",
   "metadata": {},
   "outputs": [
    {
     "name": "stdout",
     "output_type": "stream",
     "text": [
      "e3\n"
     ]
    }
   ],
   "source": [
    "# Count the frequency of each character in a string.\n",
    "s=\"developer\"\n",
    "res=''\n",
    "for i in s:\n",
    "    count=0\n",
    "    if i not in res:\n",
    "        for j in range(len(s)):\n",
    "            if i==s[j]:\n",
    "                count+=1\n",
    "        if count>1:\n",
    "             res+=i+str(count)\n",
    "    \n",
    "print(res)"
   ]
  },
  {
   "cell_type": "code",
   "execution_count": 51,
   "id": "d1bcae99",
   "metadata": {},
   "outputs": [
    {
     "name": "stdout",
     "output_type": "stream",
     "text": [
      "d\n"
     ]
    }
   ],
   "source": [
    "# Find the first non-repeating character in a string.\n",
    "s=\"aabbccd\"\n",
    "for i in range(len(s)):\n",
    "    found=True\n",
    "    for j in range(len(s)-1):\n",
    "        if s[i]==s[j]:\n",
    "            found=False\n",
    "            break\n",
    "    if found:\n",
    "        print(s[i])\n"
   ]
  },
  {
   "cell_type": "code",
   "execution_count": 54,
   "id": "e78cda75",
   "metadata": {},
   "outputs": [
    {
     "name": "stdout",
     "output_type": "stream",
     "text": [
      "a3b2c1a2\n"
     ]
    }
   ],
   "source": [
    "# Compress a string (e.g., \"aaabbcaa\" → \"a3b2ca2\").\n",
    "s=\"aaabbcaa\"\n",
    "res=''\n",
    "count=1\n",
    "for i in range(len(s)-1):\n",
    "    \n",
    "    if s[i]==s[i+1]:\n",
    "        count+=1\n",
    "    else:\n",
    "        res+=s[i]+str(count)\n",
    "        count=1\n",
    "res+=s[-1] + str(count)\n",
    "print(res)"
   ]
  },
  {
   "cell_type": "code",
   "execution_count": 67,
   "id": "92dc48f1",
   "metadata": {},
   "outputs": [
    {
     "name": "stdout",
     "output_type": "stream",
     "text": [
      "anagram\n"
     ]
    }
   ],
   "source": [
    "# anagram\n",
    "str1 = \"listen\"\n",
    "str2 = \"silent\"\n",
    "if len(str1)==len(str2):\n",
    "    l=list(str2)\n",
    "    for i in str1:\n",
    "        if i in l:\n",
    "            l.remove(i)\n",
    "        else:\n",
    "            print(\"not\")\n",
    "    else:\n",
    "        print(\"anagram\")\n",
    "else:\n",
    "    print(\"not\")\n",
    "   "
   ]
  },
  {
   "cell_type": "code",
   "execution_count": 60,
   "id": "e295c37f",
   "metadata": {},
   "outputs": [
    {
     "name": "stdout",
     "output_type": "stream",
     "text": [
      "anagram\n"
     ]
    }
   ],
   "source": [
    "str1 = \"listen\"\n",
    "str2 = \"silent\"\n",
    "if sorted(str1)==sorted(str2):\n",
    "    print(\"anagram\")\n",
    "else:\n",
    "    print(\"not\")\n"
   ]
  },
  {
   "cell_type": "code",
   "execution_count": 68,
   "id": "ac60f2d6",
   "metadata": {},
   "outputs": [
    {
     "name": "stdout",
     "output_type": "stream",
     "text": [
      "8 7\n"
     ]
    }
   ],
   "source": [
    "# Find the second largest element in a list without using sorting.\n",
    "l=[1,4,5,7,3,8]\n",
    "largest=l[0]\n",
    "second=l[0]\n",
    "for i in l:\n",
    "    if i>largest:\n",
    "        second=largest\n",
    "        largest=i\n",
    "    elif largest>i>second:\n",
    "        second=i\n",
    "print(largest,second)"
   ]
  },
  {
   "cell_type": "code",
   "execution_count": 72,
   "id": "73ffde24",
   "metadata": {},
   "outputs": [
    {
     "name": "stdout",
     "output_type": "stream",
     "text": [
      "[[4, [5]], [2, 3], 1]\n",
      "[1, 2, 3, 4, 5]\n"
     ]
    }
   ],
   "source": [
    "# Flatten a nested list (e.g., [1,[2,3],[4,[5]]] → [1,2,3,4,5]).\n",
    "l=[1,[2,3],[4,[5]]]\n",
    "stack=l[::-1]\n",
    "res=[]\n",
    "print(stack)\n",
    "while stack:\n",
    "    crr=stack.pop()\n",
    "    if isinstance(crr,list):\n",
    "        stack.extend(crr[::-1])\n",
    "    else:\n",
    "        res.append(crr)\n",
    "print(res)"
   ]
  },
  {
   "cell_type": "code",
   "execution_count": 73,
   "id": "06a798cf",
   "metadata": {},
   "outputs": [
    {
     "name": "stdout",
     "output_type": "stream",
     "text": [
      "{'a': 2, 'b': 2, 'c': 1}\n"
     ]
    }
   ],
   "source": [
    "# Count the frequency of elements in a list using a dictionary.\n",
    "l=[\"a\",\"b\",\"a\",\"b\",\"c\"]\n",
    "fre={}\n",
    "for i in l:\n",
    "    if i in fre:\n",
    "      fre[i]+=1\n",
    "    else:\n",
    "       fre[i]=1\n",
    "print(fre)"
   ]
  },
  {
   "cell_type": "code",
   "execution_count": 75,
   "id": "f82054a2",
   "metadata": {},
   "outputs": [
    {
     "name": "stdout",
     "output_type": "stream",
     "text": [
      "{2}\n"
     ]
    }
   ],
   "source": [
    "l=[1,2,3,4]\n",
    "k=[7,6,5,2]\n",
    "s=set(l)\n",
    "s1=set(k)\n",
    "print(s.intersection(s1))"
   ]
  },
  {
   "cell_type": "code",
   "execution_count": 82,
   "id": "cdfea912",
   "metadata": {},
   "outputs": [
    {
     "name": "stdout",
     "output_type": "stream",
     "text": [
      "{'iam', 'subbu', 'hi'}\n",
      "iam  subbu  hi\n"
     ]
    }
   ],
   "source": [
    "s=\" hi iam hi subbu\"\n",
    "words=s.split()\n",
    "a=set(words)\n",
    "print(a)\n",
    "res=\"  \".join(a)\n",
    "print(res)\n"
   ]
  },
  {
   "cell_type": "code",
   "execution_count": 85,
   "id": "796b45b4",
   "metadata": {},
   "outputs": [
    {
     "data": {
      "text/plain": [
       "26"
      ]
     },
     "execution_count": 85,
     "metadata": {},
     "output_type": "execute_result"
    }
   ],
   "source": [
    "# Create a class Rectangle with attributes length & breadth and a method to calculate area & perimeter.\n",
    "class rectangle:\n",
    "    def __init__(self,l,b):\n",
    "        self.l=l\n",
    "        self.b=b\n",
    "    def area(self):\n",
    "        return self.l*self.b\n",
    "    def peri(self):\n",
    "        return 2*(self.l+self.b)\n",
    "c1=rectangle(8,5)\n",
    "c1.area()\n",
    "c1.peri()"
   ]
  },
  {
   "cell_type": "code",
   "execution_count": null,
   "id": "1c43a66f",
   "metadata": {},
   "outputs": [],
   "source": []
  }
 ],
 "metadata": {
  "kernelspec": {
   "display_name": "Python 3",
   "language": "python",
   "name": "python3"
  },
  "language_info": {
   "codemirror_mode": {
    "name": "ipython",
    "version": 3
   },
   "file_extension": ".py",
   "mimetype": "text/x-python",
   "name": "python",
   "nbconvert_exporter": "python",
   "pygments_lexer": "ipython3",
   "version": "3.12.10"
  }
 },
 "nbformat": 4,
 "nbformat_minor": 5
}
