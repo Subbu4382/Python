{
 "cells": [
  {
   "cell_type": "code",
   "execution_count": 2,
   "id": "4e5406e1",
   "metadata": {},
   "outputs": [
    {
     "name": "stdout",
     "output_type": "stream",
     "text": [
      "maynamharbus\n"
     ]
    }
   ],
   "source": [
    "s='subrahmanyam'\n",
    "rev=''\n",
    "for i in s:\n",
    "    rev=i+rev\n",
    "print(rev)\n"
   ]
  },
  {
   "cell_type": "code",
   "execution_count": 1,
   "id": "780f2ac3",
   "metadata": {},
   "outputs": [
    {
     "name": "stdout",
     "output_type": "stream",
     "text": [
      "string ends with 'World'\n"
     ]
    }
   ],
   "source": [
    "# Check if string ends with \"world\".\n",
    "st=\"hello world\"\n",
    "ending=\"world\"\n",
    "if st[-len(ending):]==ending:\n",
    "    print(\"string ends with 'World'\")\n",
    "else:\n",
    "    print(\"not ends with 'world' \")"
   ]
  },
  {
   "cell_type": "code",
   "execution_count": 14,
   "id": "edc43c7a",
   "metadata": {},
   "outputs": [
    {
     "name": "stdout",
     "output_type": "stream",
     "text": [
      "it is a digit\n"
     ]
    }
   ],
   "source": [
    "# Check if a string is digit.\n",
    "st=\"1235\"\n",
    "dig=False\n",
    "for i in st:\n",
    "    if 49<=ord(i)<=58:\n",
    "        dig=True\n",
    "if dig:\n",
    "    print(\"it is a digit\")\n",
    "else:\n",
    "    print(\"not a digit\")"
   ]
  },
  {
   "cell_type": "code",
   "execution_count": 15,
   "id": "e521ec42",
   "metadata": {},
   "outputs": [
    {
     "name": "stdout",
     "output_type": "stream",
     "text": [
      "hELLO wORLD\n"
     ]
    }
   ],
   "source": [
    "#  Swap case of all characters.\n",
    "text = \"Hello World\"\n",
    "swapped = \"\"\n",
    "\n",
    "for char in text:\n",
    "    if 'a' <= char <= 'z':\n",
    "        swapped += chr(ord(char) - 32)  \n",
    "    elif 'A' <= char <= 'Z':\n",
    "        swapped += chr(ord(char) + 32)  \n",
    "    else:\n",
    "        swapped += char\n",
    "\n",
    "print(swapped)\n"
   ]
  },
  {
   "cell_type": "code",
   "execution_count": 17,
   "id": "ef1e3ccd",
   "metadata": {},
   "outputs": [
    {
     "name": "stdout",
     "output_type": "stream",
     "text": [
      "5\n"
     ]
    }
   ],
   "source": [
    "# Count total words in a string.\n",
    "s=\"Hi my name is subbu\"\n",
    "words=s.split()\n",
    "count=0\n",
    "for i in words:\n",
    "    count+=1\n",
    "print(count)"
   ]
  },
  {
   "cell_type": "code",
   "execution_count": 18,
   "id": "77a774ab",
   "metadata": {},
   "outputs": [
    {
     "name": "stdout",
     "output_type": "stream",
     "text": [
      "['s', 'u', 'b', 'r', 'a', 'h', 'm', 'a', 'n', 'y', 'a', 'm']\n"
     ]
    }
   ],
   "source": [
    "# Convert string to list of characters.\n",
    "s='subrahmanyam'\n",
    "l=[]\n",
    "for i in s:\n",
    "    l.append(i)\n",
    "print(l)"
   ]
  },
  {
   "cell_type": "code",
   "execution_count": 23,
   "id": "def314a9",
   "metadata": {},
   "outputs": [
    {
     "name": "stdout",
     "output_type": "stream",
     "text": [
      "ih mai nohtyp repoleved \n"
     ]
    }
   ],
   "source": [
    "# Reverse each word in a sentence.\n",
    "s=\"hi iam python developer\"\n",
    "words=s.split()\n",
    "fin=''\n",
    "for i in words:\n",
    "    res=''\n",
    "    for j in i:\n",
    "        res=j+res\n",
    "    fin+=res+\" \"\n",
    "print(fin)\n"
   ]
  },
  {
   "cell_type": "code",
   "execution_count": 25,
   "id": "959f67d1",
   "metadata": {},
   "outputs": [
    {
     "name": "stdout",
     "output_type": "stream",
     "text": [
      "developer\n"
     ]
    }
   ],
   "source": [
    "# Find longest word in a sentence.\n",
    "s=\"Iam a python developer\"\n",
    "long=0\n",
    "lgw=''\n",
    "words=s.split()\n",
    "for i in words:\n",
    "    if len(i)>long:\n",
    "        long=len(i)\n",
    "        lgw=i\n",
    "print(lgw)"
   ]
  },
  {
   "cell_type": "code",
   "execution_count": 26,
   "id": "3d9719b4",
   "metadata": {},
   "outputs": [
    {
     "name": "stdout",
     "output_type": "stream",
     "text": [
      "this_is_camel_case\n"
     ]
    }
   ],
   "source": [
    "#  Convert camelCase to snake_case.\n",
    "camel = \"thisIsCamelCase\"\n",
    "snake = \"\"\n",
    "\n",
    "for char in camel:\n",
    "    if 'A' <= char <= 'Z':\n",
    "        snake += '_' + chr(ord(char) + 32)\n",
    "    else:\n",
    "        snake += char\n",
    "\n",
    "print(snake)\n"
   ]
  },
  {
   "cell_type": "code",
   "execution_count": 34,
   "id": "087643bf",
   "metadata": {},
   "outputs": [
    {
     "name": "stdout",
     "output_type": "stream",
     "text": [
      "a3m2\n"
     ]
    }
   ],
   "source": [
    "# Count frequency of characters.\n",
    "s=\"subrahmanyam\"\n",
    "freq=''\n",
    "for i in s:\n",
    "    count=0\n",
    "    if i not in freq:\n",
    "        for j in s:\n",
    "            if i==j:\n",
    "                count+=1\n",
    "        # freq+=i+str(count)\n",
    "        if count>1:\n",
    "            freq+=i+str(count)\n",
    "print(freq)\n",
    "        "
   ]
  },
  {
   "cell_type": "code",
   "execution_count": 4,
   "id": "77aec407",
   "metadata": {},
   "outputs": [
    {
     "name": "stdout",
     "output_type": "stream",
     "text": [
      "s ubb u\n"
     ]
    }
   ],
   "source": [
    "# Replace multiple spaces with single space.\n",
    "s=\"s   ubb   u\"\n",
    "res=''\n",
    "for i in range(len(s)):\n",
    "    if s[i]==\" \" and s[i+1]==\" \":\n",
    "        continue\n",
    "    else:\n",
    "        res+=s[i]\n",
    "print(res)\n"
   ]
  },
  {
   "cell_type": "code",
   "execution_count": 9,
   "id": "38cffc10",
   "metadata": {},
   "outputs": [
    {
     "name": "stdout",
     "output_type": "stream",
     "text": [
      "fhOoh\n"
     ]
    }
   ],
   "source": [
    "# Encode string with ROT13 cipher.\n",
    "s=\"suBbu\"\n",
    "res=''\n",
    "for i in s:\n",
    "   if \"a\"<=i<=\"z\":\n",
    "      res+=chr((ord(i)-ord(\"a\")+13)%26 + ord(\"a\"))\n",
    "   elif \"A\"<=i<=\"Z\":\n",
    "      res+=chr((ord(i)-ord(\"A\")+13)%26 + ord(\"A\"))\n",
    "print(res)"
   ]
  },
  {
   "cell_type": "code",
   "execution_count": null,
   "id": "424bb5dd",
   "metadata": {},
   "outputs": [
    {
     "name": "stdout",
     "output_type": "stream",
     "text": [
      "**********\n"
     ]
    }
   ],
   "source": [
    "# Mask a string like a password.\n",
    "s=\"subbu@2003\"\n",
    "res=''\n",
    "for i in s:\n",
    "    res+=\"*\"\n",
    "print(res)"
   ]
  },
  {
   "cell_type": "code",
   "execution_count": 6,
   "id": "9ad2131d",
   "metadata": {},
   "outputs": [
    {
     "name": "stdout",
     "output_type": "stream",
     "text": [
      "aaabhmmnrsuy\n"
     ]
    }
   ],
   "source": [
    "# Sort string by characters\n",
    "s=\"subrahmanyam\"\n",
    "so=list(s)\n",
    "l=97\n",
    "res=''\n",
    "for i in range(len(so)):\n",
    "    for j in range(i+1,len(so)):\n",
    "        if so[i]>so[j]:\n",
    "            so[i],so[j]=so[j],so[i]\n",
    "for i in so:\n",
    "    res+=i\n",
    "print(res)\n"
   ]
  },
  {
   "cell_type": "code",
   "execution_count": null,
   "id": "9aa8161f",
   "metadata": {},
   "outputs": [],
   "source": []
  }
 ],
 "metadata": {
  "kernelspec": {
   "display_name": "Python 3",
   "language": "python",
   "name": "python3"
  },
  "language_info": {
   "codemirror_mode": {
    "name": "ipython",
    "version": 3
   },
   "file_extension": ".py",
   "mimetype": "text/x-python",
   "name": "python",
   "nbconvert_exporter": "python",
   "pygments_lexer": "ipython3",
   "version": "3.12.10"
  }
 },
 "nbformat": 4,
 "nbformat_minor": 5
}
