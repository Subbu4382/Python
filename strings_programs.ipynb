{
 "cells": [
  {
   "cell_type": "code",
   "execution_count": 2,
   "id": "4e5406e1",
   "metadata": {},
   "outputs": [
    {
     "name": "stdout",
     "output_type": "stream",
     "text": [
      "maynamharbus\n"
     ]
    }
   ],
   "source": [
    "s='subrahmanyam'\n",
    "rev=''\n",
    "for i in s:\n",
    "    rev=i+rev\n",
    "print(rev)\n"
   ]
  },
  {
   "cell_type": "code",
   "execution_count": 1,
   "id": "780f2ac3",
   "metadata": {},
   "outputs": [
    {
     "name": "stdout",
     "output_type": "stream",
     "text": [
      "string ends with 'World'\n"
     ]
    }
   ],
   "source": [
    "# Check if string ends with \"world\".\n",
    "st=\"hello world\"\n",
    "ending=\"world\"\n",
    "if st[-len(ending):]==ending:\n",
    "    print(\"string ends with 'World'\")\n",
    "else:\n",
    "    print(\"not ends with 'world' \")"
   ]
  },
  {
   "cell_type": "code",
   "execution_count": 14,
   "id": "edc43c7a",
   "metadata": {},
   "outputs": [
    {
     "name": "stdout",
     "output_type": "stream",
     "text": [
      "it is a digit\n"
     ]
    }
   ],
   "source": [
    "# Check if a string is digit.\n",
    "st=\"1235\"\n",
    "dig=False\n",
    "for i in st:\n",
    "    if 49<=ord(i)<=58:\n",
    "        dig=True\n",
    "if dig:\n",
    "    print(\"it is a digit\")\n",
    "else:\n",
    "    print(\"not a digit\")"
   ]
  },
  {
   "cell_type": "code",
   "execution_count": 15,
   "id": "e521ec42",
   "metadata": {},
   "outputs": [
    {
     "name": "stdout",
     "output_type": "stream",
     "text": [
      "hELLO wORLD\n"
     ]
    }
   ],
   "source": [
    "#  Swap case of all characters.\n",
    "text = \"Hello World\"\n",
    "swapped = \"\"\n",
    "\n",
    "for char in text:\n",
    "    if 'a' <= char <= 'z':\n",
    "        swapped += chr(ord(char) - 32)  \n",
    "    elif 'A' <= char <= 'Z':\n",
    "        swapped += chr(ord(char) + 32)  \n",
    "    else:\n",
    "        swapped += char\n",
    "\n",
    "print(swapped)\n"
   ]
  },
  {
   "cell_type": "code",
   "execution_count": 17,
   "id": "ef1e3ccd",
   "metadata": {},
   "outputs": [
    {
     "name": "stdout",
     "output_type": "stream",
     "text": [
      "5\n"
     ]
    }
   ],
   "source": [
    "# Count total words in a string.\n",
    "s=\"Hi my name is subbu\"\n",
    "words=s.split()\n",
    "count=0\n",
    "for i in words:\n",
    "    count+=1\n",
    "print(count)"
   ]
  },
  {
   "cell_type": "code",
   "execution_count": null,
   "id": "77a774ab",
   "metadata": {},
   "outputs": [],
   "source": []
  }
 ],
 "metadata": {
  "kernelspec": {
   "display_name": "Python 3",
   "language": "python",
   "name": "python3"
  },
  "language_info": {
   "codemirror_mode": {
    "name": "ipython",
    "version": 3
   },
   "file_extension": ".py",
   "mimetype": "text/x-python",
   "name": "python",
   "nbconvert_exporter": "python",
   "pygments_lexer": "ipython3",
   "version": "3.12.10"
  }
 },
 "nbformat": 4,
 "nbformat_minor": 5
}
