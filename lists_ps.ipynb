{
 "cells": [
  {
   "cell_type": "code",
   "execution_count": 16,
   "id": "761b1f5a",
   "metadata": {},
   "outputs": [
    {
     "name": "stdout",
     "output_type": "stream",
     "text": [
      "second largest value is : 9\n",
      "second higest : 9\n"
     ]
    }
   ],
   "source": [
    "# Find the second largest number in a list.\n",
    "l=[2,5,3,7,9,3,1,54,5,6,7,8]\n",
    "for i in range(len(l)):\n",
    "    for j in range(len(l)-i-1):\n",
    "        if l[j]>l[j+1]:\n",
    "            l[j],l[j+1]=l[j+1],l[j]\n",
    "print(\"second largest value is :\",l[-2])\n",
    "    \n",
    "        #   or\n",
    "\n",
    "first=l[0]\n",
    "second=l[0]\n",
    "for i in l:\n",
    "    if i > first:\n",
    "        second=first\n",
    "        first=i\n",
    "    elif first >i>second:\n",
    "        second=i\n",
    "print(\"second higest :\",second)\n"
   ]
  },
  {
   "cell_type": "code",
   "execution_count": null,
   "id": "70d759af",
   "metadata": {},
   "outputs": [],
   "source": []
  }
 ],
 "metadata": {
  "kernelspec": {
   "display_name": "Python 3",
   "language": "python",
   "name": "python3"
  },
  "language_info": {
   "codemirror_mode": {
    "name": "ipython",
    "version": 3
   },
   "file_extension": ".py",
   "mimetype": "text/x-python",
   "name": "python",
   "nbconvert_exporter": "python",
   "pygments_lexer": "ipython3",
   "version": "3.12.10"
  }
 },
 "nbformat": 4,
 "nbformat_minor": 5
}
