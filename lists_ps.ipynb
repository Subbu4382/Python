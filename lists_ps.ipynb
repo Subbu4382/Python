{
 "cells": [
  {
   "cell_type": "code",
   "execution_count": 16,
   "id": "761b1f5a",
   "metadata": {},
   "outputs": [
    {
     "name": "stdout",
     "output_type": "stream",
     "text": [
      "second largest value is : 9\n",
      "second higest : 9\n"
     ]
    }
   ],
   "source": [
    "# Find the second largest number in a list.\n",
    "l=[2,5,3,7,9,3,1,54,5,6,7,8]\n",
    "for i in range(len(l)):\n",
    "    for j in range(len(l)-i-1):\n",
    "        if l[j]>l[j+1]:\n",
    "            l[j],l[j+1]=l[j+1],l[j]\n",
    "print(\"second largest value is :\",l[-2])\n",
    "    \n",
    "        #   or\n",
    "\n",
    "first=l[0]\n",
    "second=l[0]\n",
    "for i in l:\n",
    "    if i > first:\n",
    "        second=first\n",
    "        first=i\n",
    "    elif first >i>second:\n",
    "        second=i\n",
    "print(\"second higest :\",second)\n"
   ]
  },
  {
   "cell_type": "code",
   "execution_count": 17,
   "id": "70d759af",
   "metadata": {},
   "outputs": [
    {
     "name": "stdout",
     "output_type": "stream",
     "text": [
      "[2, 5, 3, 7, 9, 1, 54, 6, 8]\n"
     ]
    }
   ],
   "source": [
    "# Remove all duplicates from a list.\n",
    "l=[2,5,3,7,9,3,1,54,5,6,7,8]\n",
    "res=[]\n",
    "for i in l:\n",
    "    if i not in res:\n",
    "        res.append(i)\n",
    "print(res)"
   ]
  },
  {
   "cell_type": "code",
   "execution_count": 30,
   "id": "2cecddc8",
   "metadata": {},
   "outputs": [
    {
     "name": "stdout",
     "output_type": "stream",
     "text": [
      "[3, 7, 9, 1, 54, 6, 8, 2, 5]\n",
      "[3, 7, 9, 1, 54, 6, 8, 2, 5]\n"
     ]
    }
   ],
   "source": [
    "# Rotate a list to the left by k steps.\n",
    "l=[2, 5, 3, 7, 9, 1, 54, 6, 8]\n",
    "k=2\n",
    "res=[]\n",
    "for i in range(k,len(l)):\n",
    "    res.append(l[i])\n",
    "for j in range(0,k):\n",
    "    res.append(l[j])\n",
    "print(res)\n",
    "       #or\n",
    "print(l[k:]+l[:k])"
   ]
  },
  {
   "cell_type": "code",
   "execution_count": 29,
   "id": "f095ad3f",
   "metadata": {},
   "outputs": [
    {
     "name": "stdout",
     "output_type": "stream",
     "text": [
      "[6, 8, 2, 5, 3, 7, 9, 1, 54]\n",
      "[6, 8, 2, 5, 3, 7, 9, 1, 54]\n"
     ]
    }
   ],
   "source": [
    "# Rotate a list to the left by k steps.\n",
    "l = [2, 5, 3, 7, 9, 1, 54, 6, 8]\n",
    "k = 2\n",
    "res = []\n",
    "for i in range(len(l)-k, len(l)):\n",
    "    res.append(l[i])\n",
    "for i in range(len(l)-k):\n",
    "    res.append(l[i])\n",
    "print(res)\n",
    "\n",
    "         #or\n",
    "print(l[-k:]+l[:-k])\n"
   ]
  },
  {
   "cell_type": "code",
   "execution_count": 34,
   "id": "20c45a66",
   "metadata": {},
   "outputs": [
    {
     "name": "stdout",
     "output_type": "stream",
     "text": [
      "[1, 2, 3, 4, 5, 6, 7, 8]\n"
     ]
    }
   ],
   "source": [
    "# Merge two sorted lists into a single sorted list.\n",
    "list1 = [1, 3, 5, 7]\n",
    "list2 = [2, 4, 6, 8]\n",
    "out=list1+list2\n",
    "for i in range(len(out)):\n",
    "    for j in range(len(out)-i-1):\n",
    "        if out[j]>out[j+1]:\n",
    "            out[j],out[j+1]=out[j+1],out[j]\n",
    "print(out)"
   ]
  },
  {
   "cell_type": "code",
   "execution_count": 41,
   "id": "60f9b9c6",
   "metadata": {},
   "outputs": [
    {
     "name": "stdout",
     "output_type": "stream",
     "text": [
      "common elements are :  [4, 7]\n"
     ]
    }
   ],
   "source": [
    "# Find the common elements between two lists.\n",
    "list1 = [1, 4, 5, 7]\n",
    "list2 = [2, 4, 6, 7]\n",
    "common=[]\n",
    "for i in list1:\n",
    "    if i in list2:\n",
    "        common.append(i)\n",
    "print(\"common elements are : \",common)"
   ]
  },
  {
   "cell_type": "code",
   "execution_count": null,
   "id": "fec26362",
   "metadata": {},
   "outputs": [],
   "source": [
    "# Flatten a nested list.\n",
    "l=[1, [2, 3], [4, [5, 6]], 7]\n",
    "stack=l[::-1]\n",
    "res=[]\n",
    "while stack:\n",
    "    "
   ]
  },
  {
   "cell_type": "code",
   "execution_count": null,
   "id": "59125db3",
   "metadata": {},
   "outputs": [],
   "source": [
    "# Sort a list without using the sort() method."
   ]
  }
 ],
 "metadata": {
  "kernelspec": {
   "display_name": "Python 3",
   "language": "python",
   "name": "python3"
  },
  "language_info": {
   "codemirror_mode": {
    "name": "ipython",
    "version": 3
   },
   "file_extension": ".py",
   "mimetype": "text/x-python",
   "name": "python",
   "nbconvert_exporter": "python",
   "pygments_lexer": "ipython3",
   "version": "3.12.10"
  }
 },
 "nbformat": 4,
 "nbformat_minor": 5
}
